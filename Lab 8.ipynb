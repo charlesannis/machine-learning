{
  "cells": [
    {
      "cell_type": "markdown",
      "metadata": {},
      "source": [
        "---\n",
        "title: \"Lab 8\"\n",
        "format: \n",
        "  html:\n",
        "    theme: lux\n",
        "---"
      ]
    },
    {
      "cell_type": "markdown",
      "metadata": {
        "id": "zHrqn3q-B3Cc"
      },
      "source": [
        "# Part One\n",
        "I’m choosing ROC AUC because it gives a good overall performance measure for both classes, which is helpful when the data is unbalanced. Plus, it shows how well the model distinguishes between the classes, regardless of the decision threshold.\n",
        "\n",
        "As seen below, the best model for predicting the type variable is SVC."
      ]
    },
    {
      "cell_type": "code",
      "execution_count": null,
      "metadata": {
        "id": "EL4c7XGF1zP0"
      },
      "outputs": [],
      "source": [
        "import pandas as pd\n",
        "import matplotlib.pyplot as plt\n",
        "from sklearn.model_selection import train_test_split, GridSearchCV\n",
        "from sklearn.linear_model import LogisticRegression\n",
        "from sklearn.svm import SVC\n",
        "from sklearn.discriminant_analysis import LinearDiscriminantAnalysis as LDA, QuadraticDiscriminantAnalysis as QDA\n",
        "from sklearn.tree import DecisionTreeClassifier, plot_tree\n",
        "from sklearn.neighbors import KNeighborsClassifier as KNN\n",
        "from sklearn.metrics import (\n",
        "    accuracy_score,\n",
        "    confusion_matrix,\n",
        "    roc_auc_score,\n",
        "    classification_report,\n",
        "    f1_score\n",
        ")\n",
        "from sklearn.preprocessing import StandardScaler, OneHotEncoder\n",
        "from sklearn.impute import SimpleImputer\n",
        "from sklearn.compose import ColumnTransformer\n",
        "from sklearn.pipeline import Pipeline\n",
        "from sklearn.multiclass import OneVsOneClassifier\n",
        "import plotnine as pn\n"
      ]
    },
    {
      "cell_type": "code",
      "execution_count": 1,
      "metadata": {
        "colab": {
          "base_uri": "https://localhost:8080/"
        },
        "id": "4p_d-7LCyWLy",
        "outputId": "9dee0a08-37b0-4e57-876f-10a89c37bf76"
      },
      "outputs": [
        {
          "name": "stdout",
          "output_type": "stream",
          "text": [
            "Features shape: (1139, 64)\n",
            "Target shape: (1139,)\n",
            "Confusion Matrix:\n",
            " [[166  15]\n",
            " [ 23  81]]\n",
            "ROC AUC Score: 0.8479866128346791\n"
          ]
        }
      ],
      "source": [
        "\n",
        "\n",
        "url = \"https://www.dropbox.com/s/s2a1uoiegitupjc/cannabis_full.csv?dl=1\"\n",
        "df = pd.read_csv(url)\n",
        "\n",
        "df['Type'] = df['Type'].str.strip().str.title()\n",
        "df_binary = df[df['Type'].isin(['Sativa', 'Indica'])]\n",
        "\n",
        "X = df_binary.drop(columns=['Strain', 'Type', 'Effects', 'Flavor', 'Rating'])\n",
        "y = df_binary['Type']\n",
        "\n",
        "print(\"Features shape:\", X.shape)\n",
        "print(\"Target shape:\", y.shape)\n",
        "\n",
        "X_train, X_test, y_train, y_test = train_test_split(X, y, test_size=0.25, random_state=42)\n",
        "\n",
        "preprocessor = ColumnTransformer(\n",
        "    transformers=[\n",
        "        ('num', Pipeline(steps=[\n",
        "            ('imputer', SimpleImputer(strategy='mean')),\n",
        "            ('scaler', StandardScaler())\n",
        "        ]), X.columns)\n",
        "    ]\n",
        ")\n",
        "\n",
        "lda_pipeline = Pipeline(steps=[\n",
        "    ('preprocessor', preprocessor),\n",
        "    ('model', LinearDiscriminantAnalysis())\n",
        "])\n",
        "\n",
        "lda_pipeline.fit(X_train, y_train)\n",
        "\n",
        "y_pred = lda_pipeline.predict(X_test)\n",
        "conf_matrix = confusion_matrix(y_test, y_pred)\n",
        "roc_auc = roc_auc_score(pd.get_dummies(y_test), pd.get_dummies(y_pred), average='macro')\n",
        "\n",
        "print(\"Confusion Matrix:\\n\", conf_matrix)\n",
        "print(\"ROC AUC Score:\", roc_auc)\n"
      ]
    },
    {
      "cell_type": "code",
      "execution_count": 2,
      "metadata": {
        "colab": {
          "base_uri": "https://localhost:8080/"
        },
        "id": "VIV3yBX29vZW",
        "outputId": "a1042143-548a-4504-c566-7f2ad500f39b"
      },
      "outputs": [
        {
          "name": "stdout",
          "output_type": "stream",
          "text": [
            "Features shape: (1139, 64)\n",
            "Target shape: (1139,)\n",
            "Confusion Matrix:\n",
            " [[ 79 102]\n",
            " [ 26  78]]\n",
            "ROC AUC Score: 0.593232044198895\n"
          ]
        },
        {
          "name": "stderr",
          "output_type": "stream",
          "text": [
            "/usr/local/lib/python3.10/dist-packages/sklearn/discriminant_analysis.py:947: UserWarning: Variables are collinear\n",
            "  warnings.warn(\"Variables are collinear\")\n"
          ]
        }
      ],
      "source": [
        "\n",
        "\n",
        "\n",
        "df['Type'] = df['Type'].str.strip().str.title()\n",
        "df_binary = df[df['Type'].isin(['Sativa', 'Indica'])]\n",
        "\n",
        "X = df_binary.drop(columns=['Strain', 'Type', 'Effects', 'Flavor', 'Rating'])\n",
        "y = df_binary['Type']\n",
        "\n",
        "print(\"Features shape:\", X.shape)\n",
        "print(\"Target shape:\", y.shape)\n",
        "\n",
        "X_train, X_test, y_train, y_test = train_test_split(X, y, test_size=0.25, random_state=42)\n",
        "\n",
        "preprocessor = ColumnTransformer(\n",
        "    transformers=[\n",
        "        ('num', Pipeline(steps=[\n",
        "            ('imputer', SimpleImputer(strategy='mean')),\n",
        "            ('scaler', StandardScaler())\n",
        "        ]), X.columns)\n",
        "    ]\n",
        ")\n",
        "\n",
        "qda_pipeline = Pipeline(steps=[\n",
        "    ('preprocessor', preprocessor),\n",
        "    ('model', QuadraticDiscriminantAnalysis())\n",
        "])\n",
        "\n",
        "qda_pipeline.fit(X_train, y_train)\n",
        "\n",
        "y_pred = qda_pipeline.predict(X_test)\n",
        "conf_matrix = confusion_matrix(y_test, y_pred)\n",
        "roc_auc = roc_auc_score(pd.get_dummies(y_test), pd.get_dummies(y_pred), average='macro')\n",
        "\n",
        "print(\"Confusion Matrix:\\n\", conf_matrix)\n",
        "print(\"ROC AUC Score:\", roc_auc)\n"
      ]
    },
    {
      "cell_type": "code",
      "execution_count": 3,
      "metadata": {
        "colab": {
          "base_uri": "https://localhost:8080/"
        },
        "id": "4sTcZLbm-IId",
        "outputId": "141b3433-9ee5-4d73-8ca4-c8ee8627444a"
      },
      "outputs": [
        {
          "name": "stdout",
          "output_type": "stream",
          "text": [
            "Best Parameters: {'model__C': 0.1, 'model__gamma': 'auto', 'model__kernel': 'rbf'}\n",
            "Confusion Matrix:\n",
            " [[175   6]\n",
            " [ 50  54]]\n",
            "ROC AUC Score: 0.9311517212069698\n"
          ]
        }
      ],
      "source": [
        "\n",
        "\n",
        "svc_pipeline = Pipeline(steps=[\n",
        "    ('preprocessor', preprocessor),\n",
        "    ('model', SVC(probability=True))\n",
        "])\n",
        "\n",
        "param_grid = {\n",
        "    'model__C': [0.1, 1, 10],\n",
        "    'model__kernel': ['linear', 'rbf'],\n",
        "    'model__gamma': ['scale', 'auto']\n",
        "}\n",
        "\n",
        "grid_search = GridSearchCV(svc_pipeline, param_grid, cv=5, scoring='roc_auc', n_jobs=-1)\n",
        "grid_search.fit(X_train, y_train)\n",
        "\n",
        "best_svc = grid_search.best_estimator_\n",
        "\n",
        "y_pred = best_svc.predict(X_test)\n",
        "y_prob = best_svc.predict_proba(X_test)[:, 1]\n",
        "conf_matrix = confusion_matrix(y_test, y_pred)\n",
        "roc_auc = roc_auc_score(y_test.map({'Sativa': 1, 'Indica': 0}), y_prob)\n",
        "\n",
        "print(\"Best Parameters:\", grid_search.best_params_)\n",
        "print(\"Confusion Matrix:\\n\", conf_matrix)\n",
        "print(\"ROC AUC Score:\", roc_auc)\n"
      ]
    },
    {
      "cell_type": "code",
      "execution_count": 4,
      "metadata": {
        "colab": {
          "base_uri": "https://localhost:8080/"
        },
        "id": "NlKnFZf4Aa43",
        "outputId": "68071359-f3e8-4e7b-ff01-8fbaefbbf5ee"
      },
      "outputs": [
        {
          "name": "stdout",
          "output_type": "stream",
          "text": [
            "Confusion Matrix:\n",
            "[[218  59  35]\n",
            " [ 69  95   6]\n",
            " [ 71   2  33]]\n",
            "\n",
            "Classification Report:\n",
            "              precision    recall  f1-score   support\n",
            "\n",
            "      Hybrid       0.61      0.70      0.65       312\n",
            "      Indica       0.61      0.56      0.58       170\n",
            "      Sativa       0.45      0.31      0.37       106\n",
            "\n",
            "    accuracy                           0.59       588\n",
            "   macro avg       0.55      0.52      0.53       588\n",
            "weighted avg       0.58      0.59      0.58       588\n",
            "\n",
            "\n",
            "ROC AUC Score: 0.7412282498966846\n"
          ]
        }
      ],
      "source": [
        "\n",
        "\n",
        "X = df.drop(columns=['Type'])\n",
        "y = df['Type']\n",
        "categorical_columns = X.select_dtypes(include=['object']).columns\n",
        "numerical_columns = X.select_dtypes(exclude=['object']).columns\n",
        "\n",
        "preprocessor = ColumnTransformer(\n",
        "    transformers=[\n",
        "        ('num', Pipeline([\n",
        "            ('imputer', SimpleImputer(strategy='mean')),\n",
        "            ('scaler', StandardScaler())\n",
        "        ]), numerical_columns),\n",
        "        ('cat', Pipeline([\n",
        "            ('imputer', SimpleImputer(strategy='most_frequent')),\n",
        "            ('onehot', OneHotEncoder(handle_unknown='ignore'))\n",
        "        ]), categorical_columns)\n",
        "    ])\n",
        "\n",
        "pipeline = Pipeline([\n",
        "    ('preprocessor', preprocessor),\n",
        "    ('svc', SVC(kernel='poly', degree=3, coef0=1, probability=True))\n",
        "])\n",
        "\n",
        "X_train, X_test, y_train, y_test = train_test_split(X, y, test_size=0.25, random_state=42)\n",
        "\n",
        "pipeline.fit(X_train, y_train)\n",
        "\n",
        "y_pred = pipeline.predict(X_test)\n",
        "\n",
        "conf_matrix = confusion_matrix(y_test, y_pred)\n",
        "roc_auc = roc_auc_score(y_test, pipeline.predict_proba(X_test), multi_class='ovr')\n",
        "\n",
        "print(\"Confusion Matrix:\")\n",
        "print(conf_matrix)\n",
        "print(\"\\nClassification Report:\")\n",
        "print(classification_report(y_test, y_pred))\n",
        "print(f\"\\nROC AUC Score: {roc_auc}\")\n"
      ]
    },
    {
      "cell_type": "markdown",
      "metadata": {
        "id": "aA0gaWZKDBdF"
      },
      "source": [
        "# Part Two\n",
        "### Q1"
      ]
    },
    {
      "cell_type": "code",
      "execution_count": 5,
      "metadata": {
        "colab": {
          "base_uri": "https://localhost:8080/",
          "height": 865
        },
        "id": "mnkZXabfDczq",
        "outputId": "cb522442-130e-49a0-ebb8-415eb533ab2e"
      },
      "outputs": [
        {
          "data": {
            "image/png": "[encoded data removed]",
            "text/plain": [
              "<Figure size 1200x1000 with 1 Axes>"
            ]
          },
          "metadata": {},
          "output_type": "display_data"
        },
        {
          "name": "stdout",
          "output_type": "stream",
          "text": [
            "Training Accuracy: 1.00\n",
            "Test Accuracy: 1.00\n"
          ]
        }
      ],
      "source": [
        "\n",
        "\n",
        "feature_columns = ['Strain', 'Type', 'Rating', 'Effects', 'Flavor']\n",
        "\n",
        "X_full = df[feature_columns]\n",
        "y_full = df['Type']\n",
        "\n",
        "X_train, X_test, y_train, y_test = train_test_split(X_full, y_full, test_size=0.3, random_state=42)\n",
        "\n",
        "column_transformer = ColumnTransformer(\n",
        "    transformers=[\n",
        "        ('cat', OneHotEncoder(handle_unknown='ignore'), ['Strain', 'Type', 'Effects', 'Flavor']),\n",
        "        ('num', 'passthrough', ['Rating'])\n",
        "    ])\n",
        "\n",
        "pipeline = Pipeline(steps=[\n",
        "    ('preprocessor', column_transformer),\n",
        "    ('classifier', DecisionTreeClassifier(random_state=42))\n",
        "])\n",
        "\n",
        "pipeline.fit(X_train, y_train)\n",
        "\n",
        "plt.figure(figsize=(12, 10))\n",
        "plot_tree(pipeline.named_steps['classifier'], filled=True,\n",
        "          feature_names=column_transformer.get_feature_names_out(),\n",
        "          class_names=y_full.unique(), rounded=True, fontsize=10)\n",
        "plt.title('Decision Tree Classifier - Final Fit (Simplified)')\n",
        "plt.show()\n",
        "\n",
        "train_accuracy = pipeline.score(X_train, y_train)\n",
        "test_accuracy = pipeline.score(X_test, y_test)\n",
        "print(f\"Training Accuracy: {train_accuracy:.2f}\")\n",
        "print(f\"Test Accuracy: {test_accuracy:.2f}\")\n"
      ]
    },
    {
      "cell_type": "markdown",
      "metadata": {
        "id": "Pp8TSY-1FNaB"
      },
      "source": [
        "The decision tree got 100% accuracy on both the training and test sets, which is kinda suspicious because it might have overfitted to the data. The tree just splits everything based on the features, with one split for the true and false values, and then two more splits, but that’s probably because it memorized the data instead of generalizing well.\n",
        "### Q2"
      ]
    },
    {
      "cell_type": "code",
      "execution_count": 6,
      "metadata": {
        "colab": {
          "base_uri": "https://localhost:8080/"
        },
        "id": "Vete4_XFFUhB",
        "outputId": "07dcf7aa-7511-4e58-eff8-06c794766c6e"
      },
      "outputs": [
        {
          "name": "stdout",
          "output_type": "stream",
          "text": [
            "LDA Accuracy: 0.53\n",
            "LDA Confusion Matrix:\n",
            "[[368   4   1]\n",
            " [198   6   0]\n",
            " [128   1   0]]\n"
          ]
        },
        {
          "name": "stderr",
          "output_type": "stream",
          "text": [
            "/usr/local/lib/python3.10/dist-packages/sklearn/discriminant_analysis.py:947: UserWarning: Variables are collinear\n"
          ]
        },
        {
          "name": "stdout",
          "output_type": "stream",
          "text": [
            "QDA Accuracy: 0.32\n",
            "QDA Confusion Matrix:\n",
            "[[137  31 205]\n",
            " [ 84  14 106]\n",
            " [ 47   8  74]]\n",
            "KNN Accuracy: 0.50\n",
            "KNN Confusion Matrix:\n",
            "[[278  64  31]\n",
            " [138  59   7]\n",
            " [ 99  14  16]]\n"
          ]
        }
      ],
      "source": [
        "\n",
        "\n",
        "X = df[['Strain', 'Type', 'Rating', 'Effects', 'Flavor']]\n",
        "y = df['Type']\n",
        "\n",
        "preprocessor = ColumnTransformer(\n",
        "    transformers=[\n",
        "        ('cat', OneHotEncoder(sparse_output=False, handle_unknown='ignore'), ['Strain', 'Effects', 'Flavor']),\n",
        "        ('num', StandardScaler(), ['Rating'])\n",
        "    ])\n",
        "\n",
        "X_train, X_test, y_train, y_test = train_test_split(X, y, test_size=0.3, random_state=42)\n",
        "\n",
        "def fit_and_evaluate(model, model_name):\n",
        "    pipeline = Pipeline(steps=[('preprocessor', preprocessor), ('classifier', model)])\n",
        "\n",
        "    pipeline.fit(X_train, y_train)\n",
        "\n",
        "    y_pred = pipeline.predict(X_test)\n",
        "\n",
        "    accuracy = accuracy_score(y_test, y_pred)\n",
        "    conf_matrix = confusion_matrix(y_test, y_pred)\n",
        "\n",
        "    print(f\"{model_name} Accuracy: {accuracy:.2f}\")\n",
        "    print(f\"{model_name} Confusion Matrix:\\n{conf_matrix}\")\n",
        "\n",
        "    return accuracy, conf_matrix\n",
        "\n",
        "lda = LDA()\n",
        "qda = QDA()\n",
        "knn = KNN(n_neighbors=5)\n",
        "\n",
        "lda_acc, lda_conf = fit_and_evaluate(lda, \"LDA\")\n",
        "qda_acc, qda_conf = fit_and_evaluate(qda, \"QDA\")\n",
        "knn_acc, knn_conf = fit_and_evaluate(knn, \"KNN\")\n"
      ]
    },
    {
      "cell_type": "markdown",
      "metadata": {
        "id": "dMO2Pf4_KMNp"
      },
      "source": [
        "### Q3\n",
        "LDA appears to be the best-performing model among the three, but all three models show a considerable amount of misclassification, especially in predicting Class 2 and Class 3. Part one had better metrics and the confusion metrics were... well more confusing.\n",
        "\n",
        "# Part Three\n",
        "### Q1\n"
      ]
    },
    {
      "cell_type": "code",
      "execution_count": 7,
      "metadata": {
        "colab": {
          "base_uri": "https://localhost:8080/"
        },
        "id": "AnK1zNtoLB6x",
        "outputId": "670eb793-3298-4865-ed9c-bad9d657faf8"
      },
      "outputs": [
        {
          "name": "stdout",
          "output_type": "stream",
          "text": [
            "F1 Scores for Logistic Regression OvR:\n",
            "{'Indica': 1.0, 'Sativa': 1.0, 'Hybrid': 1.0}\n",
            "F1 Scores for SVC OvR:\n",
            "{'Indica': 1.0, 'Sativa': 1.0, 'Hybrid': 1.0}\n"
          ]
        }
      ],
      "source": [
        "\n",
        "\n",
        "categories = ['Indica', 'Sativa', 'Hybrid']\n",
        "\n",
        "for category in categories:\n",
        "    df[f'{category}_vs_not_{category}'] = (df['Type'] == category).astype(int)\n",
        "\n",
        "X = df[['Type', 'Rating', 'Effects', 'Flavor']]\n",
        "logreg_results = {}\n",
        "svc_results = {}\n",
        "\n",
        "for category in categories:\n",
        "\n",
        "    y_binary = df[f'{category}_vs_not_{category}']\n",
        "\n",
        "    X_train, X_test, y_train, y_test = train_test_split(\n",
        "        X, y_binary, test_size=0.25, random_state=42, stratify=y_binary\n",
        "    )\n",
        "\n",
        "    preprocessor = ColumnTransformer(\n",
        "        transformers=[\n",
        "            ('cat', OneHotEncoder(handle_unknown='ignore'), ['Type', 'Effects', 'Flavor']),\n",
        "            ('num', 'passthrough', ['Rating'])\n",
        "        ]\n",
        "    )\n",
        "\n",
        "    logreg_pipeline = Pipeline(steps=[\n",
        "        ('preprocessor', preprocessor),\n",
        "        ('classifier', LogisticRegression(max_iter=1000))\n",
        "    ])\n",
        "\n",
        "    logreg_pipeline.fit(X_train, y_train)\n",
        "    y_pred_logreg = logreg_pipeline.predict(X_test)\n",
        "    f1_logreg = f1_score(y_test, y_pred_logreg)\n",
        "    logreg_results[category] = f1_logreg\n",
        "\n",
        "\n",
        "    svc_pipeline = Pipeline(steps=[\n",
        "        ('preprocessor', preprocessor),\n",
        "        ('classifier', SVC(kernel='linear'))\n",
        "    ])\n",
        "\n",
        "    svc_pipeline.fit(X_train, y_train)\n",
        "    y_pred_svc = svc_pipeline.predict(X_test)\n",
        "    f1_svc = f1_score(y_test, y_pred_svc)\n",
        "    svc_results[category] = f1_svc\n",
        "\n",
        "print(\"F1 Scores for Logistic Regression OvR:\")\n",
        "print(logreg_results)\n",
        "\n",
        "print(\"F1 Scores for SVC OvR:\")\n",
        "print(svc_results)\n"
      ]
    },
    {
      "cell_type": "code",
      "execution_count": 8,
      "metadata": {
        "colab": {
          "base_uri": "https://localhost:8080/"
        },
        "id": "NKGBLpCoMXYh",
        "outputId": "45d2b1dc-20af-49bf-a5f7-c9f4853c2a3d"
      },
      "outputs": [
        {
          "name": "stdout",
          "output_type": "stream",
          "text": [
            "SVC - Indica vs. Not Indica\n",
            "              precision    recall  f1-score   support\n",
            "\n",
            "           0       0.72      0.34      0.46       413\n",
            "           1       0.31      0.69      0.43       175\n",
            "\n",
            "    accuracy                           0.44       588\n",
            "   macro avg       0.51      0.52      0.44       588\n",
            "weighted avg       0.60      0.44      0.45       588\n",
            "\n",
            "Accuracy: 0.44387755102040816\n",
            "ROC-AUC: 0.542953995157385\n",
            "\n",
            "SVC - Sativa vs. Not Sativa\n",
            "              precision    recall  f1-score   support\n",
            "\n",
            "           0       0.82      0.33      0.47       478\n",
            "           1       0.19      0.68      0.30       110\n",
            "\n",
            "    accuracy                           0.40       588\n",
            "   macro avg       0.50      0.51      0.39       588\n",
            "weighted avg       0.70      0.40      0.44       588\n",
            "\n",
            "Accuracy: 0.3979591836734694\n",
            "ROC-AUC: 0.5039748953974895\n",
            "\n",
            "SVC - Hybrid vs. Not Hybrid\n",
            "              precision    recall  f1-score   support\n",
            "\n",
            "           0       0.49      0.33      0.40       285\n",
            "           1       0.52      0.67      0.59       303\n",
            "\n",
            "    accuracy                           0.51       588\n",
            "   macro avg       0.50      0.50      0.49       588\n",
            "weighted avg       0.50      0.51      0.49       588\n",
            "\n",
            "Accuracy: 0.5085034013605442\n",
            "ROC-AUC: 0.5177812518093915\n",
            "\n",
            "Logistic Regression - Indica vs. Not Indica\n",
            "              precision    recall  f1-score   support\n",
            "\n",
            "           0       0.73      0.34      0.46       413\n",
            "           1       0.31      0.70      0.43       175\n",
            "\n",
            "    accuracy                           0.45       588\n",
            "   macro avg       0.52      0.52      0.45       588\n",
            "weighted avg       0.60      0.45      0.45       588\n",
            "\n",
            "Accuracy: 0.44727891156462585\n",
            "ROC-AUC: 0.443680387409201\n",
            "\n",
            "Logistic Regression - Sativa vs. Not Sativa\n",
            "              precision    recall  f1-score   support\n",
            "\n",
            "           0       0.82      0.33      0.47       478\n",
            "           1       0.19      0.69      0.30       110\n",
            "\n",
            "    accuracy                           0.40       588\n",
            "   macro avg       0.51      0.51      0.39       588\n",
            "weighted avg       0.70      0.40      0.44       588\n",
            "\n",
            "Accuracy: 0.3979591836734694\n",
            "ROC-AUC: 0.49452263217953596\n",
            "\n",
            "Logistic Regression - Hybrid vs. Not Hybrid\n",
            "              precision    recall  f1-score   support\n",
            "\n",
            "           0       0.49      0.33      0.39       285\n",
            "           1       0.52      0.68      0.59       303\n",
            "\n",
            "    accuracy                           0.51       588\n",
            "   macro avg       0.50      0.50      0.49       588\n",
            "weighted avg       0.50      0.51      0.49       588\n",
            "\n",
            "Accuracy: 0.5085034013605442\n",
            "ROC-AUC: 0.4841178854727578\n"
          ]
        }
      ],
      "source": [
        "\n",
        "\n",
        "categories = ['Indica', 'Sativa', 'Hybrid']\n",
        "for category in categories:\n",
        "    df[f'{category}_vs_not_{category}'] = (df['Type'] == category).astype(int)\n",
        "X = df[['Type', 'Rating', 'Effects', 'Flavor']]\n",
        "\n",
        "y_indica = df['Indica_vs_not_Indica']\n",
        "y_sativa = df['Sativa_vs_not_Sativa']\n",
        "y_hybrid = df['Hybrid_vs_not_Hybrid']\n",
        "\n",
        "X_train, X_test, y_train_indica, y_test_indica = train_test_split(\n",
        "    X, y_indica, test_size=0.25, random_state=42, stratify=y_indica\n",
        ")\n",
        "_, _, y_train_sativa, y_test_sativa = train_test_split(\n",
        "    X, y_sativa, test_size=0.25, random_state=42, stratify=y_sativa\n",
        ")\n",
        "_, _, y_train_hybrid, y_test_hybrid = train_test_split(\n",
        "    X, y_hybrid, test_size=0.25, random_state=42, stratify=y_hybrid\n",
        ")\n",
        "\n",
        "preprocessor = ColumnTransformer(\n",
        "    transformers=[\n",
        "        ('cat', OneHotEncoder(handle_unknown='ignore'), ['Type', 'Effects', 'Flavor']),\n",
        "        ('num', 'passthrough', ['Rating'])\n",
        "    ]\n",
        ")\n",
        "\n",
        "pipeline_svc = Pipeline(steps=[\n",
        "    ('preprocessor', preprocessor),\n",
        "    ('model', SVC(kernel='linear', random_state=42, probability=True))\n",
        "])\n",
        "\n",
        "pipeline_svc_indica = pipeline_svc.fit(X_train, y_train_indica)\n",
        "pipeline_svc_sativa = pipeline_svc.fit(X_train, y_train_sativa)\n",
        "pipeline_svc_hybrid = pipeline_svc.fit(X_train, y_train_hybrid)\n",
        "\n",
        "pipeline_log_reg = Pipeline(steps=[\n",
        "    ('preprocessor', preprocessor),\n",
        "    ('model', LogisticRegression(solver='liblinear', random_state=42))\n",
        "])\n",
        "\n",
        "pipeline_log_reg_indica = pipeline_log_reg.fit(X_train, y_train_indica)\n",
        "pipeline_log_reg_sativa = pipeline_log_reg.fit(X_train, y_train_sativa)\n",
        "pipeline_log_reg_hybrid = pipeline_log_reg.fit(X_train, y_train_hybrid)\n",
        "\n",
        "def report_metrics(model, X_test, y_test):\n",
        "    y_pred = model.predict(X_test)\n",
        "    print(classification_report(y_test, y_pred))\n",
        "    print(\"Accuracy:\", accuracy_score(y_test, y_pred))\n",
        "    if len(set(y_test)) == 2:\n",
        "        try:\n",
        "            print(\"ROC-AUC:\", roc_auc_score(y_test, model.predict_proba(X_test)[:, 1]))\n",
        "        except AttributeError:\n",
        "            print(\"ROC-AUC is not available for this model\")\n",
        "\n",
        "print(\"SVC - Indica vs. Not Indica\")\n",
        "report_metrics(pipeline_svc_indica, X_test, y_test_indica)\n",
        "print(\"\\nSVC - Sativa vs. Not Sativa\")\n",
        "report_metrics(pipeline_svc_sativa, X_test, y_test_sativa)\n",
        "print(\"\\nSVC - Hybrid vs. Not Hybrid\")\n",
        "report_metrics(pipeline_svc_hybrid, X_test, y_test_hybrid)\n",
        "print(\"\\nLogistic Regression - Indica vs. Not Indica\")\n",
        "report_metrics(pipeline_log_reg_indica, X_test, y_test_indica)\n",
        "print(\"\\nLogistic Regression - Sativa vs. Not Sativa\")\n",
        "report_metrics(pipeline_log_reg_sativa, X_test, y_test_sativa)\n",
        "print(\"\\nLogistic Regression - Hybrid vs. Not Hybrid\")\n",
        "report_metrics(pipeline_log_reg_hybrid, X_test, y_test_hybrid)\n"
      ]
    },
    {
      "cell_type": "markdown",
      "metadata": {
        "id": "GCDY1j4IRVZ6"
      },
      "source": [
        "### Q2\n",
        "The **SVC - Hybrid vs. Not Hybrid** model did the best with an accuracy of 50.85% and a ROC-AUC of 0.5178, meaning it did the best job distinguishing the target category. On the other hand, the **SVC - Sativa vs. Not Sativa** model did the worst, with an accuracy of just 39.80% and a ROC-AUC close to 0.5, which shows it wasn’t much better than random guessing.\n",
        "### Q3"
      ]
    },
    {
      "cell_type": "code",
      "execution_count": 14,
      "metadata": {
        "colab": {
          "base_uri": "https://localhost:8080/"
        },
        "id": "2jopJzWeuCnH",
        "outputId": "ee353429-a606-4bab-ce9f-bdd4df6449b5"
      },
      "outputs": [
        {
          "name": "stdout",
          "output_type": "stream",
          "text": [
            "F1 Scores for Logistic Regression OvO:\n",
            "{'Indica': 1.0, 'Sativa': 1.0, 'Hybrid': 1.0}\n",
            "F1 Scores for SVC OvO:\n",
            "{'Indica': 1.0, 'Sativa': 1.0, 'Hybrid': 1.0}\n"
          ]
        }
      ],
      "source": [
        "\n",
        "\n",
        "categories = ['Indica', 'Sativa', 'Hybrid']\n",
        "\n",
        "for category in categories:\n",
        "    df[f'{category}_vs_not_{category}'] = (df['Type'] == category).astype(int)\n",
        "X = df[['Type', 'Rating', 'Effects', 'Flavor']]\n",
        "logreg_results = {}\n",
        "svc_results = {}\n",
        "for category in categories:\n",
        "    y_binary = df[f'{category}_vs_not_{category}']\n",
        "\n",
        "    X_train, X_test, y_train, y_test = train_test_split(\n",
        "        X, y_binary, test_size=0.25, random_state=42, stratify=y_binary\n",
        "    )\n",
        "\n",
        "    preprocessor = ColumnTransformer(\n",
        "        transformers=[\n",
        "            ('cat', OneHotEncoder(handle_unknown='ignore'), ['Type', 'Effects', 'Flavor']),\n",
        "            ('num', 'passthrough', ['Rating'])\n",
        "        ]\n",
        "    )\n",
        "\n",
        "    logreg_pipeline = Pipeline(steps=[\n",
        "        ('preprocessor', preprocessor),\n",
        "        ('classifier', OneVsOneClassifier(LogisticRegression(max_iter=1000)))\n",
        "    ])\n",
        "\n",
        "    logreg_pipeline.fit(X_train, y_train)\n",
        "    y_pred_logreg = logreg_pipeline.predict(X_test)\n",
        "    f1_logreg = f1_score(y_test, y_pred_logreg)\n",
        "    logreg_results[category] = f1_logreg\n",
        "\n",
        "    svc_pipeline = Pipeline(steps=[\n",
        "        ('preprocessor', preprocessor),\n",
        "        ('classifier', OneVsOneClassifier(SVC(kernel='linear')))\n",
        "    ])\n",
        "\n",
        "    svc_pipeline.fit(X_train, y_train)\n",
        "    y_pred_svc = svc_pipeline.predict(X_test)\n",
        "    f1_svc = f1_score(y_test, y_pred_svc)\n",
        "    svc_results[category] = f1_svc\n",
        "\n",
        "print(\"F1 Scores for Logistic Regression OvO:\")\n",
        "print(logreg_results)\n",
        "\n",
        "print(\"F1 Scores for SVC OvO:\")\n",
        "print(svc_results)\n"
      ]
    },
    {
      "cell_type": "code",
      "execution_count": 15,
      "metadata": {
        "colab": {
          "base_uri": "https://localhost:8080/"
        },
        "id": "6iuxSvZbvMkn",
        "outputId": "61999931-631e-49ed-c66a-38f672e2e5e8"
      },
      "outputs": [
        {
          "name": "stdout",
          "output_type": "stream",
          "text": [
            "SVC - Indica vs. Not Indica\n",
            "              precision    recall  f1-score   support\n",
            "\n",
            "           0       0.72      0.34      0.46       413\n",
            "           1       0.31      0.69      0.43       175\n",
            "\n",
            "    accuracy                           0.44       588\n",
            "   macro avg       0.51      0.52      0.44       588\n",
            "weighted avg       0.60      0.44      0.45       588\n",
            "\n",
            "Accuracy: 0.44387755102040816\n",
            "ROC-AUC: 0.4570736769283984\n",
            "\n",
            "SVC - Sativa vs. Not Sativa\n",
            "              precision    recall  f1-score   support\n",
            "\n",
            "           0       0.82      0.33      0.47       478\n",
            "           1       0.19      0.68      0.30       110\n",
            "\n",
            "    accuracy                           0.40       588\n",
            "   macro avg       0.50      0.51      0.39       588\n",
            "weighted avg       0.70      0.40      0.44       588\n",
            "\n",
            "Accuracy: 0.3979591836734694\n",
            "ROC-AUC: 0.49435146443514644\n",
            "\n",
            "SVC - Hybrid vs. Not Hybrid\n",
            "              precision    recall  f1-score   support\n",
            "\n",
            "           0       0.49      0.33      0.40       285\n",
            "           1       0.52      0.67      0.59       303\n",
            "\n",
            "    accuracy                           0.51       588\n",
            "   macro avg       0.50      0.50      0.49       588\n",
            "weighted avg       0.50      0.51      0.49       588\n",
            "\n",
            "Accuracy: 0.5085034013605442\n",
            "ROC-AUC: 0.48447107868681605\n",
            "\n",
            "Logistic Regression - Indica vs. Not Indica\n",
            "              precision    recall  f1-score   support\n",
            "\n",
            "           0       0.73      0.34      0.46       413\n",
            "           1       0.31      0.70      0.43       175\n",
            "\n",
            "    accuracy                           0.45       588\n",
            "   macro avg       0.52      0.52      0.45       588\n",
            "weighted avg       0.60      0.45      0.45       588\n",
            "\n",
            "Accuracy: 0.44727891156462585\n",
            "ROC-AUC: 0.443680387409201\n",
            "\n",
            "Logistic Regression - Sativa vs. Not Sativa\n",
            "              precision    recall  f1-score   support\n",
            "\n",
            "           0       0.82      0.33      0.47       478\n",
            "           1       0.19      0.69      0.30       110\n",
            "\n",
            "    accuracy                           0.40       588\n",
            "   macro avg       0.51      0.51      0.39       588\n",
            "weighted avg       0.70      0.40      0.44       588\n",
            "\n",
            "Accuracy: 0.3979591836734694\n",
            "ROC-AUC: 0.49452263217953596\n",
            "\n",
            "Logistic Regression - Hybrid vs. Not Hybrid\n",
            "              precision    recall  f1-score   support\n",
            "\n",
            "           0       0.49      0.33      0.39       285\n",
            "           1       0.52      0.68      0.59       303\n",
            "\n",
            "    accuracy                           0.51       588\n",
            "   macro avg       0.50      0.50      0.49       588\n",
            "weighted avg       0.50      0.51      0.49       588\n",
            "\n",
            "Accuracy: 0.5085034013605442\n",
            "ROC-AUC: 0.4841178854727578\n"
          ]
        }
      ],
      "source": [
        "\n",
        "\n",
        "categories = ['Indica', 'Sativa', 'Hybrid']\n",
        "\n",
        "for category in categories:\n",
        "    df[f'{category}_vs_not_{category}'] = (df['Type'] == category).astype(int)\n",
        "\n",
        "X = df[['Type', 'Rating', 'Effects', 'Flavor']]\n",
        "\n",
        "y_indica = df['Indica_vs_not_Indica']\n",
        "y_sativa = df['Sativa_vs_not_Sativa']\n",
        "y_hybrid = df['Hybrid_vs_not_Hybrid']\n",
        "\n",
        "X_train, X_test, y_train_indica, y_test_indica = train_test_split(\n",
        "    X, y_indica, test_size=0.25, random_state=42, stratify=y_indica\n",
        ")\n",
        "_, _, y_train_sativa, y_test_sativa = train_test_split(\n",
        "    X, y_sativa, test_size=0.25, random_state=42, stratify=y_sativa\n",
        ")\n",
        "_, _, y_train_hybrid, y_test_hybrid = train_test_split(\n",
        "    X, y_hybrid, test_size=0.25, random_state=42, stratify=y_hybrid\n",
        ")\n",
        "\n",
        "preprocessor = ColumnTransformer(\n",
        "    transformers=[\n",
        "        ('cat', OneHotEncoder(handle_unknown='ignore'), ['Type', 'Effects', 'Flavor']),\n",
        "        ('num', 'passthrough', ['Rating'])\n",
        "    ]\n",
        ")\n",
        "\n",
        "pipeline_svc = Pipeline(steps=[\n",
        "    ('preprocessor', preprocessor),\n",
        "    ('model', OneVsOneClassifier(SVC(kernel='linear', random_state=42, probability=True)))\n",
        "])\n",
        "pipeline_svc_indica = pipeline_svc.fit(X_train, y_train_indica)\n",
        "pipeline_svc_sativa = pipeline_svc.fit(X_train, y_train_sativa)\n",
        "pipeline_svc_hybrid = pipeline_svc.fit(X_train, y_train_hybrid)\n",
        "pipeline_log_reg = Pipeline(steps=[\n",
        "    ('preprocessor', preprocessor),\n",
        "    ('model', OneVsOneClassifier(LogisticRegression(solver='liblinear', random_state=42)))\n",
        "])\n",
        "\n",
        "pipeline_log_reg_indica = pipeline_log_reg.fit(X_train, y_train_indica)\n",
        "pipeline_log_reg_sativa = pipeline_log_reg.fit(X_train, y_train_sativa)\n",
        "pipeline_log_reg_hybrid = pipeline_log_reg.fit(X_train, y_train_hybrid)\n",
        "def report_metrics(model, X_test, y_test):\n",
        "    y_pred = model.predict(X_test)\n",
        "    print(classification_report(y_test, y_pred))\n",
        "    print(\"Accuracy:\", accuracy_score(y_test, y_pred))\n",
        "    if len(set(y_test)) == 2:\n",
        "        try:\n",
        "            print(\"ROC-AUC:\", roc_auc_score(y_test, model.decision_function(X_test)))\n",
        "        except AttributeError:\n",
        "            print(\"ROC-AUC is not available for this model\")\n",
        "print(\"SVC - Indica vs. Not Indica\")\n",
        "report_metrics(pipeline_svc_indica, X_test, y_test_indica)\n",
        "print(\"\\nSVC - Sativa vs. Not Sativa\")\n",
        "report_metrics(pipeline_svc_sativa, X_test, y_test_sativa)\n",
        "print(\"\\nSVC - Hybrid vs. Not Hybrid\")\n",
        "report_metrics(pipeline_svc_hybrid, X_test, y_test_hybrid)\n",
        "print(\"\\nLogistic Regression - Indica vs. Not Indica\")\n",
        "report_metrics(pipeline_log_reg_indica, X_test, y_test_indica)\n",
        "print(\"\\nLogistic Regression - Sativa vs. Not Sativa\")\n",
        "report_metrics(pipeline_log_reg_sativa, X_test, y_test_sativa)\n",
        "print(\"\\nLogistic Regression - Hybrid vs. Not Hybrid\")\n",
        "report_metrics(pipeline_log_reg_hybrid, X_test, y_test_hybrid)\n"
      ]
    },
    {
      "cell_type": "markdown",
      "metadata": {
        "id": "uR8BvvgLynks"
      },
      "source": [
        "### Q4\n",
        "The best model was the Logistic Regression for Hybrid vs. Not Hybrid, with the highest accuracy (0.51) and slightly better ROC-AUC (0.48), so it did the best job separating hybrids from the others. The worst was the SVC for Sativa vs. Not Sativa, with bad accuracy (0.40) and an average ROC-AUC (0.49), probably because it struggled with the small sample size for Sativa. This kinda makes sense since hybrids are easier to tell apart, while Sativa and hybrids are more similar.\n",
        "### Q5\n",
        "For LogisticRegression, it would automatically use the “OvR” (One vs. Rest) approach because that’s the default for multiclass problems in sklearn. For SVC, it would use the “OvO” (One vs. One) approach by default for multiclass stuff. You don’t need to change anything; sklearn just does it for you.\n",
        "\n",
        "Assisted by ChatGPT and Gemini"
      ]
    }
  ],
  "metadata": {
    "colab": {
      "provenance": []
    },
    "kernelspec": {
      "display_name": "Python 3",
      "name": "python3"
    },
    "language_info": {
      "name": "python"
    }
  },
  "nbformat": 4,
  "nbformat_minor": 0
}
