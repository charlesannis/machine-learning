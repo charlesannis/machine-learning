{
  "cells": [
    {
      "cell_type": "markdown",
      "metadata": {},
      "source": [
        "---\n",
        "title: \"Singing a Song\"\n",
        "format: \n",
        "  html:\n",
        "    theme: cosmo\n",
        "---\n",
        "\n",
        "# Lab 3\n",
        "## Charles Annis"
      ]
    },
    {
      "cell_type": "code",
      "execution_count": 6,
      "metadata": {
        "id": "Lxe3DQtTYSsI"
      },
      "outputs": [],
      "source": [
        "import numpy as np\n",
        "import pandas as pd\n",
        "\n",
        "#import dataset\n",
        "xmas = pd.read_csv(\"https://www.dropbox.com/scl/fi/qxaslqqp5p08i1650rpc4/xmas.csv?rlkey=erdxi7jbh7pqf9fh4lv4cayp5&dl=1\")"
      ]
    },
    {
      "cell_type": "markdown",
      "metadata": {
        "id": "J-5hpIZAYYAq"
      },
      "source": [
        "# Function 1\n",
        "\n",
        "Making the gift item plural."
      ]
    },
    {
      "cell_type": "code",
      "execution_count": 7,
      "metadata": {
        "colab": {
          "base_uri": "https://localhost:8080/"
        },
        "id": "SbufOPHPYgPV",
        "outputId": "dd110be4-dfc1-4ab3-cb31-3c983233371b"
      },
      "outputs": [
        {
          "name": "stdout",
          "output_type": "stream",
          "text": [
            "geese\n",
            "ladies\n",
            "birds\n"
          ]
        }
      ],
      "source": [
        "def pluralize_gift(gift):\n",
        "\n",
        "  \"\"\"\n",
        "  Returns plural of a noun\n",
        "\n",
        "  Parameters\n",
        "  ----------\n",
        "  gift: str\n",
        "    A noun\n",
        "\n",
        "  Return\n",
        "  ------\n",
        "  str\n",
        "    Plural version\n",
        "  \"\"\"\n",
        "\n",
        "  if \"oo\" in gift:\n",
        "    gift = gift.replace(\"oo\", \"ee\")\n",
        "  elif gift.endswith('y'):\n",
        "    gift = gift.replace('y','ies')\n",
        "  else:\n",
        "    gift = gift +'s'\n",
        "\n",
        "  return gift\n",
        "\n",
        "#Test the Function\n",
        "print(pluralize_gift(\"goose\"))\n",
        "print(pluralize_gift(\"lady\"))\n",
        "print(pluralize_gift(\"bird\"))\n",
        "\n",
        "# Apply to data frame\n",
        "\n",
        "##xmas['Gift.Item'] = xmas['Gift.Item'].apply(pluralize_gift)\n",
        "##xmas"
      ]
    },
    {
      "cell_type": "markdown",
      "metadata": {
        "id": "zdv3irVEZd8x"
      },
      "source": [
        "# Function 2\n",
        "Making a phrase."
      ]
    },
    {
      "cell_type": "code",
      "execution_count": 8,
      "metadata": {
        "colab": {
          "base_uri": "https://localhost:8080/"
        },
        "id": "1QNVkUXQaEIh",
        "outputId": "1bbdfeb9-3510-4db3-c825-fe1de6b7725a"
      },
      "outputs": [
        {
          "name": "stdout",
          "output_type": "stream",
          "text": [
            "three french hens\n"
          ]
        }
      ],
      "source": [
        "# Dictionary - Turning numbers into words\n",
        "Num_Words = {\n",
        "    1: \"one\",\n",
        "    2: \"two\",\n",
        "    3: \"three\",\n",
        "    4: \"four\",\n",
        "    5: \"five\",\n",
        "    6: \"six\",\n",
        "    7: \"seven\",\n",
        "    8: \"eight\",\n",
        "    9: \"nine\",\n",
        "    10: \"ten\",\n",
        "    11: \"eleven\",\n",
        "    12: \"twelve\"\n",
        "}\n",
        "\n",
        "# Create new column to match dictionary\n",
        "xmas['Num.in.Words'] = xmas['Day'].map(Num_Words)\n",
        "\n",
        "# Get rid of NAN values\n",
        "xmas['Verb'] = xmas['Verb'].fillna(\"\")\n",
        "xmas['Adjective'] = xmas['Adjective'].fillna(\"\")\n",
        "xmas['Location'] = xmas['Location'].fillna(\"\")\n",
        "\n",
        "# Create function to make the phrase and pluralize when necessary\n",
        "def make_phrase(num, num_word, item, verb, adjective, location):\n",
        "  \"\"\"\n",
        "  Create a phrase based on the input parameters.\n",
        "\n",
        "    Parameters\n",
        "    ----------\n",
        "    num : int\n",
        "        The day in number.\n",
        "    num_word : str\n",
        "        The word form of the day number. eg: First for 1\n",
        "    item : str\n",
        "        The gift item you are specifying\n",
        "    verb : str\n",
        "        The verb describing the action of the item.\n",
        "    adjective : str\n",
        "        An adjective describing the gift item.\n",
        "    location : str\n",
        "        The location of the gift.\n",
        "\n",
        "    Returns\n",
        "    -------\n",
        "    str\n",
        "        The generated phrase combined with proper grammar and spacing.\n",
        "  \"\"\"\n",
        "\n",
        "  if (num > 1):\n",
        "    item = pluralize_gift(item)\n",
        "\n",
        "\n",
        "  vowels = ('a','e','i','o','u','A','E','I','O','U')\n",
        "\n",
        "  if (item.startswith(vowels)) & (num == 1):\n",
        "    num_word = \"an\"\n",
        "  elif num == 1:\n",
        "    num_word = \"a\"\n",
        "  else:\n",
        "    num_word = num_word\n",
        "\n",
        "# Adding necessary spaces\n",
        "  if verb == \"\":\n",
        "    verb = verb\n",
        "  else:\n",
        "    verb =\" \" + verb\n",
        "\n",
        "  if adjective == \"\":\n",
        "    adjective = adjective\n",
        "  else:\n",
        "    adjective = adjective + \" \"\n",
        "\n",
        "  if location == \"\":\n",
        "    location = location\n",
        "  else:\n",
        "    location =  \" \" + location\n",
        "\n",
        "  return num_word + \" \" + adjective  + item + verb + location\n",
        "\n",
        "# Test run with Day 3\n",
        "print(make_phrase(3,'three','hen', '', 'french', ''))\n",
        "\n",
        "# Apply function to xmas dataset\n",
        "xmas['Full.Phrase'] = xmas.apply(lambda x: make_phrase(x['Day'], x['Num.in.Words'], x['Gift.Item'], x['Verb'], x['Adjective'], x['Location']), axis=1)"
      ]
    },
    {
      "cell_type": "markdown",
      "metadata": {
        "id": "FXIgavCHbPS3"
      },
      "source": [
        "# Function 3\n",
        "Sing one day.\n"
      ]
    },
    {
      "cell_type": "code",
      "execution_count": 9,
      "metadata": {
        "colab": {
          "base_uri": "https://localhost:8080/"
        },
        "id": "UcS6rntBbVD4",
        "outputId": "fea671c2-cc02-4bf8-8040-f5750423310b"
      },
      "outputs": [
        {
          "name": "stdout",
          "output_type": "stream",
          "text": [
            "On the third day of Christmas, my true love sent to me: \n",
            "three french hens,  \n",
            "two turtle doves,  \n",
            "and a partridge in a pear tree.\n"
          ]
        }
      ],
      "source": [
        "def sing_day(dataset, num, phrase_col):\n",
        "  \"\"\"\n",
        "   combines each rows of collum into a \"song\".\n",
        "\n",
        "    Parameters\n",
        "    ----------\n",
        "    dataset : DataFrame\n",
        "        The dataset containing the phrases and 'Day.in.Words' column.\n",
        "    num : int\n",
        "        The day number for which you want to sing the song from.\n",
        "    phrase_col : str\n",
        "        The name of the column in the dataset containing the phrases.\n",
        "\n",
        "    Returns\n",
        "    -------\n",
        "    str\n",
        "        The complete song verse from the specified day.\n",
        "    \"\"\"\n",
        "  num_word = dataset.loc[num - 1, 'Day.in.Words']\n",
        "  intro = \"On the \" + num_word + \" day of Christmas, my true love sent to me:\"\n",
        "\n",
        "  gifts = \"\"\n",
        "  for i in range(num, 0, -1):\n",
        "     # Update: access the 'Full.Phrase' column directly\n",
        "    full_phrase = dataset.loc[i - 1, phrase_col]\n",
        "    if i > 1:\n",
        "      gifts = gifts + full_phrase + \", \" + \" \\n\"\n",
        "    else:\n",
        "      if num > 1:\n",
        "        gifts = gifts + \"and \" + full_phrase\n",
        "      else:\n",
        "        gifts = gifts + full_phrase\n",
        "\n",
        "  song = intro + \" \\n\" + gifts + \".\"\n",
        "  return song\n",
        "print(sing_day(xmas, 3, \"Full.Phrase\"))"
      ]
    },
    {
      "cell_type": "markdown",
      "metadata": {
        "id": "bpvGTou8gWkL"
      },
      "source": [
        "# Sing the Full Song"
      ]
    },
    {
      "cell_type": "code",
      "execution_count": 10,
      "metadata": {
        "colab": {
          "base_uri": "https://localhost:8080/"
        },
        "id": "kzZRuCPYgZyz",
        "outputId": "28423a4e-b01d-49fd-c4d0-b803559bfcc7"
      },
      "outputs": [
        {
          "name": "stdout",
          "output_type": "stream",
          "text": [
            "On the first day of Christmas, my true love sent to me: \n",
            "a partridge in a pear tree.\n",
            "\n",
            "On the second day of Christmas, my true love sent to me: \n",
            "two turtle doves,  \n",
            "and a partridge in a pear tree.\n",
            "\n",
            "On the third day of Christmas, my true love sent to me: \n",
            "three french hens,  \n",
            "two turtle doves,  \n",
            "and a partridge in a pear tree.\n",
            "\n",
            "On the fourth day of Christmas, my true love sent to me: \n",
            "four calling birds,  \n",
            "three french hens,  \n",
            "two turtle doves,  \n",
            "and a partridge in a pear tree.\n",
            "\n",
            "On the fifth day of Christmas, my true love sent to me: \n",
            "five golden rings,  \n",
            "four calling birds,  \n",
            "three french hens,  \n",
            "two turtle doves,  \n",
            "and a partridge in a pear tree.\n",
            "\n",
            "On the sixth day of Christmas, my true love sent to me: \n",
            "six geese a-laying,  \n",
            "five golden rings,  \n",
            "four calling birds,  \n",
            "three french hens,  \n",
            "two turtle doves,  \n",
            "and a partridge in a pear tree.\n",
            "\n",
            "On the seventh day of Christmas, my true love sent to me: \n",
            "seven swans a-swimming,  \n",
            "six geese a-laying,  \n",
            "five golden rings,  \n",
            "four calling birds,  \n",
            "three french hens,  \n",
            "two turtle doves,  \n",
            "and a partridge in a pear tree.\n",
            "\n",
            "On the eighth day of Christmas, my true love sent to me: \n",
            "eight maids a-milking,  \n",
            "seven swans a-swimming,  \n",
            "six geese a-laying,  \n",
            "five golden rings,  \n",
            "four calling birds,  \n",
            "three french hens,  \n",
            "two turtle doves,  \n",
            "and a partridge in a pear tree.\n",
            "\n",
            "On the ninth day of Christmas, my true love sent to me: \n",
            "nine ladies dancing,  \n",
            "eight maids a-milking,  \n",
            "seven swans a-swimming,  \n",
            "six geese a-laying,  \n",
            "five golden rings,  \n",
            "four calling birds,  \n",
            "three french hens,  \n",
            "two turtle doves,  \n",
            "and a partridge in a pear tree.\n",
            "\n",
            "On the tenth day of Christmas, my true love sent to me: \n",
            "ten lords a-leaping,  \n",
            "nine ladies dancing,  \n",
            "eight maids a-milking,  \n",
            "seven swans a-swimming,  \n",
            "six geese a-laying,  \n",
            "five golden rings,  \n",
            "four calling birds,  \n",
            "three french hens,  \n",
            "two turtle doves,  \n",
            "and a partridge in a pear tree.\n",
            "\n",
            "On the eleventh day of Christmas, my true love sent to me: \n",
            "eleven pipers piping,  \n",
            "ten lords a-leaping,  \n",
            "nine ladies dancing,  \n",
            "eight maids a-milking,  \n",
            "seven swans a-swimming,  \n",
            "six geese a-laying,  \n",
            "five golden rings,  \n",
            "four calling birds,  \n",
            "three french hens,  \n",
            "two turtle doves,  \n",
            "and a partridge in a pear tree.\n",
            "\n",
            "On the twelfth day of Christmas, my true love sent to me: \n",
            "twelve drummers drumming,  \n",
            "eleven pipers piping,  \n",
            "ten lords a-leaping,  \n",
            "nine ladies dancing,  \n",
            "eight maids a-milking,  \n",
            "seven swans a-swimming,  \n",
            "six geese a-laying,  \n",
            "five golden rings,  \n",
            "four calling birds,  \n",
            "three french hens,  \n",
            "two turtle doves,  \n",
            "and a partridge in a pear tree.\n"
          ]
        }
      ],
      "source": [
        "nums = [1,2,3,4,5,6,7,8,9,10,11,12]\n",
        "\n",
        "song = map(lambda x:sing_day(xmas, x, \"Full.Phrase\"), nums)\n",
        "\n",
        "print(\"\\n\\n\".join(list(song)))"
      ]
    },
    {
      "cell_type": "code",
      "execution_count": 11,
      "metadata": {
        "colab": {
          "base_uri": "https://localhost:8080/"
        },
        "id": "viLayShypjfj",
        "outputId": "dd42c1fe-71f7-4ea7-c85b-6a4a97bcca4b"
      },
      "outputs": [
        {
          "name": "stdout",
          "output_type": "stream",
          "text": [
            "On the first day of Christmas, my true love sent to me: \n",
            "an email from Cal Poly.\n",
            "\n",
            "On the second day of Christmas, my true love sent to me: \n",
            "two meal points,  \n",
            "and an email from Cal Poly.\n",
            "\n",
            "On the third day of Christmas, my true love sent to me: \n",
            "three lost pens,  \n",
            "two meal points,  \n",
            "and an email from Cal Poly.\n",
            "\n",
            "On the fourth day of Christmas, my true love sent to me: \n",
            "four course reviews,  \n",
            "three lost pens,  \n",
            "two meal points,  \n",
            "and an email from Cal Poly.\n",
            "\n",
            "On the fifth day of Christmas, my true love sent to me: \n",
            "five practice exams,  \n",
            "four course reviews,  \n",
            "three lost pens,  \n",
            "two meal points,  \n",
            "and an email from Cal Poly.\n",
            "\n",
            "On the sixth day of Christmas, my true love sent to me: \n",
            "six graders grading,  \n",
            "five practice exams,  \n",
            "four course reviews,  \n",
            "three lost pens,  \n",
            "two meal points,  \n",
            "and an email from Cal Poly.\n",
            "\n",
            "On the seventh day of Christmas, my true love sent to me: \n",
            "seven seniors stressing,  \n",
            "six graders grading,  \n",
            "five practice exams,  \n",
            "four course reviews,  \n",
            "three lost pens,  \n",
            "two meal points,  \n",
            "and an email from Cal Poly.\n",
            "\n",
            "On the eighth day of Christmas, my true love sent to me: \n",
            "eight moms a-calling,  \n",
            "seven seniors stressing,  \n",
            "six graders grading,  \n",
            "five practice exams,  \n",
            "four course reviews,  \n",
            "three lost pens,  \n",
            "two meal points,  \n",
            "and an email from Cal Poly.\n",
            "\n",
            "On the ninth day of Christmas, my true love sent to me: \n",
            "nine parties bumping,  \n",
            "eight moms a-calling,  \n",
            "seven seniors stressing,  \n",
            "six graders grading,  \n",
            "five practice exams,  \n",
            "four course reviews,  \n",
            "three lost pens,  \n",
            "two meal points,  \n",
            "and an email from Cal Poly.\n",
            "\n",
            "On the tenth day of Christmas, my true love sent to me: \n",
            "ten loads of laundry,  \n",
            "nine parties bumping,  \n",
            "eight moms a-calling,  \n",
            "seven seniors stressing,  \n",
            "six graders grading,  \n",
            "five practice exams,  \n",
            "four course reviews,  \n",
            "three lost pens,  \n",
            "two meal points,  \n",
            "and an email from Cal Poly.\n",
            "\n",
            "On the eleventh day of Christmas, my true love sent to me: \n",
            "eleven friends goodbye-ing,  \n",
            "ten loads of laundry,  \n",
            "nine parties bumping,  \n",
            "eight moms a-calling,  \n",
            "seven seniors stressing,  \n",
            "six graders grading,  \n",
            "five practice exams,  \n",
            "four course reviews,  \n",
            "three lost pens,  \n",
            "two meal points,  \n",
            "and an email from Cal Poly.\n",
            "\n",
            "On the twelfth day of Christmas, my true love sent to me: \n",
            "twelve hours sleeping,  \n",
            "eleven friends goodbye-ing,  \n",
            "ten loads of laundry,  \n",
            "nine parties bumping,  \n",
            "eight moms a-calling,  \n",
            "seven seniors stressing,  \n",
            "six graders grading,  \n",
            "five practice exams,  \n",
            "four course reviews,  \n",
            "three lost pens,  \n",
            "two meal points,  \n",
            "and an email from Cal Poly.\n"
          ]
        }
      ],
      "source": [
        "# Second Dataset\n",
        "xmas2 = pd.read_csv(\"https://www.dropbox.com/scl/fi/p9x9k8xwuzs9rhp582vfy/xmas_2.csv?rlkey=kvc3j3lmyn4opcidsrhcmrof1&dl=1\")\n",
        "\n",
        "xmas2['Num.in.Words'] = xmas2['Day'].map(Num_Words)\n",
        "\n",
        "xmas2['Verb'] = xmas2['Verb'].fillna(\"\")\n",
        "xmas2['Adjective'] = xmas2['Adjective'].fillna(\"\")\n",
        "xmas2['Location'] = xmas2['Location'].fillna(\"\")\n",
        "\n",
        "xmas2['Full.Phrase'] = xmas2.apply(lambda x: make_phrase(x['Day'], x['Num.in.Words'], x['Gift.Item'], x['Verb'], x['Adjective'], x['Location']), axis=1)\n",
        "\n",
        "# Test with day 12\n",
        "day_12 = sing_day(xmas2, 12, \"Full.Phrase\")\n",
        "\n",
        "# Whole song\n",
        "nums = [1,2,3,4,5,6,7,8,9,10,11,12]\n",
        "\n",
        "song2 = map(lambda x:sing_day(xmas2, x, \"Full.Phrase\"), nums)\n",
        "\n",
        "print(\"\\n\\n\".join(list(song2)))"
      ]
    }
  ],
  "metadata": {
    "colab": {
      "provenance": []
    },
    "kernelspec": {
      "display_name": "Python 3",
      "name": "python3"
    },
    "language_info": {
      "name": "python"
    }
  },
  "nbformat": 4,
  "nbformat_minor": 0
}
