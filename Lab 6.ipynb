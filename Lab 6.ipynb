{
  "cells": [
    {
      "cell_type": "markdown",
      "metadata": {},
      "source": [
        "---\n",
        "title: \"Lab 6\"\n",
        "format: \n",
        "  html:\n",
        "    theme: lux\n",
        "---"
      ]
    },
    {
      "cell_type": "code",
      "execution_count": 3,
      "metadata": {
        "colab": {
          "base_uri": "https://localhost:8080/",
          "height": 226
        },
        "id": "h7XkNzA5YJD6",
        "outputId": "b5efc305-9fbb-4643-b270-acfdc7581721"
      },
      "outputs": [
        {
          "data": {
            "application/vnd.google.colaboratory.intrinsic+json": {
              "summary": "{\n  \"name\": \"df_hitters\",\n  \"rows\": 322,\n  \"fields\": [\n    {\n      \"column\": \"AtBat\",\n      \"properties\": {\n        \"dtype\": \"number\",\n        \"std\": 153,\n        \"min\": 16,\n        \"max\": 687,\n        \"num_unique_values\": 247,\n        \"samples\": [\n          583,\n          185,\n          211\n        ],\n        \"semantic_type\": \"\",\n        \"description\": \"\"\n      }\n    },\n    {\n      \"column\": \"Hits\",\n      \"properties\": {\n        \"dtype\": \"number\",\n        \"std\": 46,\n        \"min\": 1,\n        \"max\": 238,\n        \"num_unique_values\": 144,\n        \"samples\": [\n          65,\n          109,\n          125\n        ],\n        \"semantic_type\": \"\",\n        \"description\": \"\"\n      }\n    },\n    {\n      \"column\": \"HmRun\",\n      \"properties\": {\n        \"dtype\": \"number\",\n        \"std\": 8,\n        \"min\": 0,\n        \"max\": 40,\n        \"num_unique_values\": 36,\n        \"samples\": [\n          30,\n          8,\n          15\n        ],\n        \"semantic_type\": \"\",\n        \"description\": \"\"\n      }\n    },\n    {\n      \"column\": \"Runs\",\n      \"properties\": {\n        \"dtype\": \"number\",\n        \"std\": 26,\n        \"min\": 0,\n        \"max\": 130,\n        \"num_unique_values\": 96,\n        \"samples\": [\n          47,\n          77,\n          84\n        ],\n        \"semantic_type\": \"\",\n        \"description\": \"\"\n      }\n    },\n    {\n      \"column\": \"RBI\",\n      \"properties\": {\n        \"dtype\": \"number\",\n        \"std\": 26,\n        \"min\": 0,\n        \"max\": 121,\n        \"num_unique_values\": 103,\n        \"samples\": [\n          25,\n          84,\n          57\n        ],\n        \"semantic_type\": \"\",\n        \"description\": \"\"\n      }\n    },\n    {\n      \"column\": \"Walks\",\n      \"properties\": {\n        \"dtype\": \"number\",\n        \"std\": 21,\n        \"min\": 0,\n        \"max\": 105,\n        \"num_unique_values\": 89,\n        \"samples\": [\n          53,\n          68,\n          41\n        ],\n        \"semantic_type\": \"\",\n        \"description\": \"\"\n      }\n    },\n    {\n      \"column\": \"Years\",\n      \"properties\": {\n        \"dtype\": \"number\",\n        \"std\": 4,\n        \"min\": 1,\n        \"max\": 24,\n        \"num_unique_values\": 22,\n        \"samples\": [\n          1,\n          8,\n          4\n        ],\n        \"semantic_type\": \"\",\n        \"description\": \"\"\n      }\n    },\n    {\n      \"column\": \"CAtBat\",\n      \"properties\": {\n        \"dtype\": \"number\",\n        \"std\": 2324,\n        \"min\": 19,\n        \"max\": 14053,\n        \"num_unique_values\": 314,\n        \"samples\": [\n          618,\n          1646,\n          978\n        ],\n        \"semantic_type\": \"\",\n        \"description\": \"\"\n      }\n    },\n    {\n      \"column\": \"CHits\",\n      \"properties\": {\n        \"dtype\": \"number\",\n        \"std\": 654,\n        \"min\": 4,\n        \"max\": 4256,\n        \"num_unique_values\": 288,\n        \"samples\": [\n          273,\n          541,\n          448\n        ],\n        \"semantic_type\": \"\",\n        \"description\": \"\"\n      }\n    },\n    {\n      \"column\": \"CHmRun\",\n      \"properties\": {\n        \"dtype\": \"number\",\n        \"std\": 86,\n        \"min\": 0,\n        \"max\": 548,\n        \"num_unique_values\": 146,\n        \"samples\": [\n          98,\n          194,\n          166\n        ],\n        \"semantic_type\": \"\",\n        \"description\": \"\"\n      }\n    },\n    {\n      \"column\": \"CRuns\",\n      \"properties\": {\n        \"dtype\": \"number\",\n        \"std\": 334,\n        \"min\": 1,\n        \"max\": 2165,\n        \"num_unique_values\": 261,\n        \"samples\": [\n          80,\n          518,\n          571\n        ],\n        \"semantic_type\": \"\",\n        \"description\": \"\"\n      }\n    },\n    {\n      \"column\": \"CRBI\",\n      \"properties\": {\n        \"dtype\": \"number\",\n        \"std\": 333,\n        \"min\": 0,\n        \"max\": 1659,\n        \"num_unique_values\": 262,\n        \"samples\": [\n          363,\n          1659,\n          83\n        ],\n        \"semantic_type\": \"\",\n        \"description\": \"\"\n      }\n    },\n    {\n      \"column\": \"CWalks\",\n      \"properties\": {\n        \"dtype\": \"number\",\n        \"std\": 267,\n        \"min\": 0,\n        \"max\": 1566,\n        \"num_unique_values\": 248,\n        \"samples\": [\n          136,\n          24,\n          113\n        ],\n        \"semantic_type\": \"\",\n        \"description\": \"\"\n      }\n    },\n    {\n      \"column\": \"League\",\n      \"properties\": {\n        \"dtype\": \"category\",\n        \"num_unique_values\": 2,\n        \"samples\": [\n          \"N\",\n          \"A\"\n        ],\n        \"semantic_type\": \"\",\n        \"description\": \"\"\n      }\n    },\n    {\n      \"column\": \"Division\",\n      \"properties\": {\n        \"dtype\": \"category\",\n        \"num_unique_values\": 2,\n        \"samples\": [\n          \"W\",\n          \"E\"\n        ],\n        \"semantic_type\": \"\",\n        \"description\": \"\"\n      }\n    },\n    {\n      \"column\": \"PutOuts\",\n      \"properties\": {\n        \"dtype\": \"number\",\n        \"std\": 280,\n        \"min\": 0,\n        \"max\": 1378,\n        \"num_unique_values\": 232,\n        \"samples\": [\n          133,\n          224\n        ],\n        \"semantic_type\": \"\",\n        \"description\": \"\"\n      }\n    },\n    {\n      \"column\": \"Assists\",\n      \"properties\": {\n        \"dtype\": \"number\",\n        \"std\": 136,\n        \"min\": 0,\n        \"max\": 492,\n        \"num_unique_values\": 161,\n        \"samples\": [\n          12,\n          258\n        ],\n        \"semantic_type\": \"\",\n        \"description\": \"\"\n      }\n    },\n    {\n      \"column\": \"Errors\",\n      \"properties\": {\n        \"dtype\": \"number\",\n        \"std\": 6,\n        \"min\": 0,\n        \"max\": 32,\n        \"num_unique_values\": 29,\n        \"samples\": [\n          17,\n          5\n        ],\n        \"semantic_type\": \"\",\n        \"description\": \"\"\n      }\n    },\n    {\n      \"column\": \"Salary\",\n      \"properties\": {\n        \"dtype\": \"number\",\n        \"std\": 451.1186807025387,\n        \"min\": 67.5,\n        \"max\": 2460.0,\n        \"num_unique_values\": 150,\n        \"samples\": [\n          400.0,\n          600.0\n        ],\n        \"semantic_type\": \"\",\n        \"description\": \"\"\n      }\n    },\n    {\n      \"column\": \"NewLeague\",\n      \"properties\": {\n        \"dtype\": \"category\",\n        \"num_unique_values\": 2,\n        \"samples\": [\n          \"N\",\n          \"A\"\n        ],\n        \"semantic_type\": \"\",\n        \"description\": \"\"\n      }\n    }\n  ]\n}",
              "type": "dataframe",
              "variable_name": "df_hitters"
            },
            "text/html": [
              "\n",
              "  <div id=\"df-7f62211d-ff22-4c46-b91c-1cabd951cf37\" class=\"colab-df-container\">\n",
              "    <div>\n",
              "<style scoped>\n",
              "    .dataframe tbody tr th:only-of-type {\n",
              "        vertical-align: middle;\n",
              "    }\n",
              "\n",
              "    .dataframe tbody tr th {\n",
              "        vertical-align: top;\n",
              "    }\n",
              "\n",
              "    .dataframe thead th {\n",
              "        text-align: right;\n",
              "    }\n",
              "</style>\n",
              "<table border=\"1\" class=\"dataframe\">\n",
              "  <thead>\n",
              "    <tr style=\"text-align: right;\">\n",
              "      <th></th>\n",
              "      <th>AtBat</th>\n",
              "      <th>Hits</th>\n",
              "      <th>HmRun</th>\n",
              "      <th>Runs</th>\n",
              "      <th>RBI</th>\n",
              "      <th>Walks</th>\n",
              "      <th>Years</th>\n",
              "      <th>CAtBat</th>\n",
              "      <th>CHits</th>\n",
              "      <th>CHmRun</th>\n",
              "      <th>CRuns</th>\n",
              "      <th>CRBI</th>\n",
              "      <th>CWalks</th>\n",
              "      <th>League</th>\n",
              "      <th>Division</th>\n",
              "      <th>PutOuts</th>\n",
              "      <th>Assists</th>\n",
              "      <th>Errors</th>\n",
              "      <th>Salary</th>\n",
              "      <th>NewLeague</th>\n",
              "    </tr>\n",
              "  </thead>\n",
              "  <tbody>\n",
              "    <tr>\n",
              "      <th>0</th>\n",
              "      <td>293</td>\n",
              "      <td>66</td>\n",
              "      <td>1</td>\n",
              "      <td>30</td>\n",
              "      <td>29</td>\n",
              "      <td>14</td>\n",
              "      <td>1</td>\n",
              "      <td>293</td>\n",
              "      <td>66</td>\n",
              "      <td>1</td>\n",
              "      <td>30</td>\n",
              "      <td>29</td>\n",
              "      <td>14</td>\n",
              "      <td>A</td>\n",
              "      <td>E</td>\n",
              "      <td>446</td>\n",
              "      <td>33</td>\n",
              "      <td>20</td>\n",
              "      <td>NaN</td>\n",
              "      <td>A</td>\n",
              "    </tr>\n",
              "    <tr>\n",
              "      <th>1</th>\n",
              "      <td>315</td>\n",
              "      <td>81</td>\n",
              "      <td>7</td>\n",
              "      <td>24</td>\n",
              "      <td>38</td>\n",
              "      <td>39</td>\n",
              "      <td>14</td>\n",
              "      <td>3449</td>\n",
              "      <td>835</td>\n",
              "      <td>69</td>\n",
              "      <td>321</td>\n",
              "      <td>414</td>\n",
              "      <td>375</td>\n",
              "      <td>N</td>\n",
              "      <td>W</td>\n",
              "      <td>632</td>\n",
              "      <td>43</td>\n",
              "      <td>10</td>\n",
              "      <td>475.0</td>\n",
              "      <td>N</td>\n",
              "    </tr>\n",
              "    <tr>\n",
              "      <th>2</th>\n",
              "      <td>479</td>\n",
              "      <td>130</td>\n",
              "      <td>18</td>\n",
              "      <td>66</td>\n",
              "      <td>72</td>\n",
              "      <td>76</td>\n",
              "      <td>3</td>\n",
              "      <td>1624</td>\n",
              "      <td>457</td>\n",
              "      <td>63</td>\n",
              "      <td>224</td>\n",
              "      <td>266</td>\n",
              "      <td>263</td>\n",
              "      <td>A</td>\n",
              "      <td>W</td>\n",
              "      <td>880</td>\n",
              "      <td>82</td>\n",
              "      <td>14</td>\n",
              "      <td>480.0</td>\n",
              "      <td>A</td>\n",
              "    </tr>\n",
              "    <tr>\n",
              "      <th>3</th>\n",
              "      <td>496</td>\n",
              "      <td>141</td>\n",
              "      <td>20</td>\n",
              "      <td>65</td>\n",
              "      <td>78</td>\n",
              "      <td>37</td>\n",
              "      <td>11</td>\n",
              "      <td>5628</td>\n",
              "      <td>1575</td>\n",
              "      <td>225</td>\n",
              "      <td>828</td>\n",
              "      <td>838</td>\n",
              "      <td>354</td>\n",
              "      <td>N</td>\n",
              "      <td>E</td>\n",
              "      <td>200</td>\n",
              "      <td>11</td>\n",
              "      <td>3</td>\n",
              "      <td>500.0</td>\n",
              "      <td>N</td>\n",
              "    </tr>\n",
              "    <tr>\n",
              "      <th>4</th>\n",
              "      <td>321</td>\n",
              "      <td>87</td>\n",
              "      <td>10</td>\n",
              "      <td>39</td>\n",
              "      <td>42</td>\n",
              "      <td>30</td>\n",
              "      <td>2</td>\n",
              "      <td>396</td>\n",
              "      <td>101</td>\n",
              "      <td>12</td>\n",
              "      <td>48</td>\n",
              "      <td>46</td>\n",
              "      <td>33</td>\n",
              "      <td>N</td>\n",
              "      <td>E</td>\n",
              "      <td>805</td>\n",
              "      <td>40</td>\n",
              "      <td>4</td>\n",
              "      <td>91.5</td>\n",
              "      <td>N</td>\n",
              "    </tr>\n",
              "  </tbody>\n",
              "</table>\n",
              "</div>\n",
              "    <div class=\"colab-df-buttons\">\n",
              "\n",
              "  <div class=\"colab-df-container\">\n",
              "    <button class=\"colab-df-convert\" onclick=\"convertToInteractive('df-7f62211d-ff22-4c46-b91c-1cabd951cf37')\"\n",
              "            title=\"Convert this dataframe to an interactive table.\"\n",
              "            style=\"display:none;\">\n",
              "\n",
              "  <svg xmlns=\"http://www.w3.org/2000/svg\" height=\"24px\" viewBox=\"0 -960 960 960\">\n",
              "    <path d=\"M120-120v-720h720v720H120Zm60-500h600v-160H180v160Zm220 220h160v-160H400v160Zm0 220h160v-160H400v160ZM180-400h160v-160H180v160Zm440 0h160v-160H620v160ZM180-180h160v-160H180v160Zm440 0h160v-160H620v160Z\"/>\n",
              "  </svg>\n",
              "    </button>\n",
              "\n",
              "  <style>\n",
              "    .colab-df-container {\n",
              "      display:flex;\n",
              "      gap: 12px;\n",
              "    }\n",
              "\n",
              "    .colab-df-convert {\n",
              "      background-color: #E8F0FE;\n",
              "      border: none;\n",
              "      border-radius: 50%;\n",
              "      cursor: pointer;\n",
              "      display: none;\n",
              "      fill: #1967D2;\n",
              "      height: 32px;\n",
              "      padding: 0 0 0 0;\n",
              "      width: 32px;\n",
              "    }\n",
              "\n",
              "    .colab-df-convert:hover {\n",
              "      background-color: #E2EBFA;\n",
              "      box-shadow: 0px 1px 2px rgba(60, 64, 67, 0.3), 0px 1px 3px 1px rgba(60, 64, 67, 0.15);\n",
              "      fill: #174EA6;\n",
              "    }\n",
              "\n",
              "    .colab-df-buttons div {\n",
              "      margin-bottom: 4px;\n",
              "    }\n",
              "\n",
              "    [theme=dark] .colab-df-convert {\n",
              "      background-color: #3B4455;\n",
              "      fill: #D2E3FC;\n",
              "    }\n",
              "\n",
              "    [theme=dark] .colab-df-convert:hover {\n",
              "      background-color: #434B5C;\n",
              "      box-shadow: 0px 1px 3px 1px rgba(0, 0, 0, 0.15);\n",
              "      filter: drop-shadow(0px 1px 2px rgba(0, 0, 0, 0.3));\n",
              "      fill: #FFFFFF;\n",
              "    }\n",
              "  </style>\n",
              "\n",
              "    <script>\n",
              "      const buttonEl =\n",
              "        document.querySelector('#df-7f62211d-ff22-4c46-b91c-1cabd951cf37 button.colab-df-convert');\n",
              "      buttonEl.style.display =\n",
              "        google.colab.kernel.accessAllowed ? 'block' : 'none';\n",
              "\n",
              "      async function convertToInteractive(key) {\n",
              "        const element = document.querySelector('#df-7f62211d-ff22-4c46-b91c-1cabd951cf37');\n",
              "        const dataTable =\n",
              "          await google.colab.kernel.invokeFunction('convertToInteractive',\n",
              "                                                    [key], {});\n",
              "        if (!dataTable) return;\n",
              "\n",
              "        const docLinkHtml = 'Like what you see? Visit the ' +\n",
              "          '<a target=\"_blank\" href=https://colab.research.google.com/notebooks/data_table.ipynb>data table notebook</a>'\n",
              "          + ' to learn more about interactive tables.';\n",
              "        element.innerHTML = '';\n",
              "        dataTable['output_type'] = 'display_data';\n",
              "        await google.colab.output.renderOutput(dataTable, element);\n",
              "        const docLink = document.createElement('div');\n",
              "        docLink.innerHTML = docLinkHtml;\n",
              "        element.appendChild(docLink);\n",
              "      }\n",
              "    </script>\n",
              "  </div>\n",
              "\n",
              "\n",
              "<div id=\"df-639a2645-a07c-46ed-b0ba-814d1a402b39\">\n",
              "  <button class=\"colab-df-quickchart\" onclick=\"quickchart('df-639a2645-a07c-46ed-b0ba-814d1a402b39')\"\n",
              "            title=\"Suggest charts\"\n",
              "            style=\"display:none;\">\n",
              "\n",
              "<svg xmlns=\"http://www.w3.org/2000/svg\" height=\"24px\"viewBox=\"0 0 24 24\"\n",
              "     width=\"24px\">\n",
              "    <g>\n",
              "        <path d=\"M19 3H5c-1.1 0-2 .9-2 2v14c0 1.1.9 2 2 2h14c1.1 0 2-.9 2-2V5c0-1.1-.9-2-2-2zM9 17H7v-7h2v7zm4 0h-2V7h2v10zm4 0h-2v-4h2v4z\"/>\n",
              "    </g>\n",
              "</svg>\n",
              "  </button>\n",
              "\n",
              "<style>\n",
              "  .colab-df-quickchart {\n",
              "      --bg-color: #E8F0FE;\n",
              "      --fill-color: #1967D2;\n",
              "      --hover-bg-color: #E2EBFA;\n",
              "      --hover-fill-color: #174EA6;\n",
              "      --disabled-fill-color: #AAA;\n",
              "      --disabled-bg-color: #DDD;\n",
              "  }\n",
              "\n",
              "  [theme=dark] .colab-df-quickchart {\n",
              "      --bg-color: #3B4455;\n",
              "      --fill-color: #D2E3FC;\n",
              "      --hover-bg-color: #434B5C;\n",
              "      --hover-fill-color: #FFFFFF;\n",
              "      --disabled-bg-color: #3B4455;\n",
              "      --disabled-fill-color: #666;\n",
              "  }\n",
              "\n",
              "  .colab-df-quickchart {\n",
              "    background-color: var(--bg-color);\n",
              "    border: none;\n",
              "    border-radius: 50%;\n",
              "    cursor: pointer;\n",
              "    display: none;\n",
              "    fill: var(--fill-color);\n",
              "    height: 32px;\n",
              "    padding: 0;\n",
              "    width: 32px;\n",
              "  }\n",
              "\n",
              "  .colab-df-quickchart:hover {\n",
              "    background-color: var(--hover-bg-color);\n",
              "    box-shadow: 0 1px 2px rgba(60, 64, 67, 0.3), 0 1px 3px 1px rgba(60, 64, 67, 0.15);\n",
              "    fill: var(--button-hover-fill-color);\n",
              "  }\n",
              "\n",
              "  .colab-df-quickchart-complete:disabled,\n",
              "  .colab-df-quickchart-complete:disabled:hover {\n",
              "    background-color: var(--disabled-bg-color);\n",
              "    fill: var(--disabled-fill-color);\n",
              "    box-shadow: none;\n",
              "  }\n",
              "\n",
              "  .colab-df-spinner {\n",
              "    border: 2px solid var(--fill-color);\n",
              "    border-color: transparent;\n",
              "    border-bottom-color: var(--fill-color);\n",
              "    animation:\n",
              "      spin 1s steps(1) infinite;\n",
              "  }\n",
              "\n",
              "  @keyframes spin {\n",
              "    0% {\n",
              "      border-color: transparent;\n",
              "      border-bottom-color: var(--fill-color);\n",
              "      border-left-color: var(--fill-color);\n",
              "    }\n",
              "    20% {\n",
              "      border-color: transparent;\n",
              "      border-left-color: var(--fill-color);\n",
              "      border-top-color: var(--fill-color);\n",
              "    }\n",
              "    30% {\n",
              "      border-color: transparent;\n",
              "      border-left-color: var(--fill-color);\n",
              "      border-top-color: var(--fill-color);\n",
              "      border-right-color: var(--fill-color);\n",
              "    }\n",
              "    40% {\n",
              "      border-color: transparent;\n",
              "      border-right-color: var(--fill-color);\n",
              "      border-top-color: var(--fill-color);\n",
              "    }\n",
              "    60% {\n",
              "      border-color: transparent;\n",
              "      border-right-color: var(--fill-color);\n",
              "    }\n",
              "    80% {\n",
              "      border-color: transparent;\n",
              "      border-right-color: var(--fill-color);\n",
              "      border-bottom-color: var(--fill-color);\n",
              "    }\n",
              "    90% {\n",
              "      border-color: transparent;\n",
              "      border-bottom-color: var(--fill-color);\n",
              "    }\n",
              "  }\n",
              "</style>\n",
              "\n",
              "  <script>\n",
              "    async function quickchart(key) {\n",
              "      const quickchartButtonEl =\n",
              "        document.querySelector('#' + key + ' button');\n",
              "      quickchartButtonEl.disabled = true;  // To prevent multiple clicks.\n",
              "      quickchartButtonEl.classList.add('colab-df-spinner');\n",
              "      try {\n",
              "        const charts = await google.colab.kernel.invokeFunction(\n",
              "            'suggestCharts', [key], {});\n",
              "      } catch (error) {\n",
              "        console.error('Error during call to suggestCharts:', error);\n",
              "      }\n",
              "      quickchartButtonEl.classList.remove('colab-df-spinner');\n",
              "      quickchartButtonEl.classList.add('colab-df-quickchart-complete');\n",
              "    }\n",
              "    (() => {\n",
              "      let quickchartButtonEl =\n",
              "        document.querySelector('#df-639a2645-a07c-46ed-b0ba-814d1a402b39 button');\n",
              "      quickchartButtonEl.style.display =\n",
              "        google.colab.kernel.accessAllowed ? 'block' : 'none';\n",
              "    })();\n",
              "  </script>\n",
              "</div>\n",
              "\n",
              "    </div>\n",
              "  </div>\n"
            ],
            "text/plain": [
              "   AtBat  Hits  HmRun  Runs  RBI  Walks  Years  CAtBat  CHits  CHmRun  CRuns  \\\n",
              "0    293    66      1    30   29     14      1     293     66       1     30   \n",
              "1    315    81      7    24   38     39     14    3449    835      69    321   \n",
              "2    479   130     18    66   72     76      3    1624    457      63    224   \n",
              "3    496   141     20    65   78     37     11    5628   1575     225    828   \n",
              "4    321    87     10    39   42     30      2     396    101      12     48   \n",
              "\n",
              "   CRBI  CWalks League Division  PutOuts  Assists  Errors  Salary NewLeague  \n",
              "0    29      14      A        E      446       33      20     NaN         A  \n",
              "1   414     375      N        W      632       43      10   475.0         N  \n",
              "2   266     263      A        W      880       82      14   480.0         A  \n",
              "3   838     354      N        E      200       11       3   500.0         N  \n",
              "4    46      33      N        E      805       40       4    91.5         N  "
            ]
          },
          "execution_count": 3,
          "metadata": {},
          "output_type": "execute_result"
        }
      ],
      "source": [
        "import warnings\n",
        "\n",
        "warnings.filterwarnings(action='ignore', category=FutureWarning, module='sklearn')\n",
        "import pandas as pd\n",
        "import numpy as np\n",
        "import matplotlib.pyplot as plt\n",
        "from sklearn.model_selection import train_test_split\n",
        "from sklearn.compose import ColumnTransformer, make_column_selector\n",
        "from sklearn.preprocessing import StandardScaler, OneHotEncoder, PolynomialFeatures\n",
        "from sklearn.pipeline import Pipeline\n",
        "from sklearn.linear_model import LinearRegression, Ridge, Lasso, ElasticNet\n",
        "from sklearn.metrics import mean_squared_error\n",
        "from sklearn.model_selection import cross_val_score, GridSearchCV\n",
        "\n",
        "df_hitters = pd.read_csv('/content/Hitters.csv')\n",
        "df_hitters.head()"
      ]
    },
    {
      "cell_type": "code",
      "execution_count": 5,
      "metadata": {
        "colab": {
          "base_uri": "https://localhost:8080/",
          "height": 84
        },
        "id": "QyUCS6l9YZue",
        "outputId": "00b206a2-7a58-41b7-8809-9b89b5dc8c54"
      },
      "outputs": [
        {
          "data": {
            "text/html": [
              "<div>\n",
              "<style scoped>\n",
              "    .dataframe tbody tr th:only-of-type {\n",
              "        vertical-align: middle;\n",
              "    }\n",
              "\n",
              "    .dataframe tbody tr th {\n",
              "        vertical-align: top;\n",
              "    }\n",
              "\n",
              "    .dataframe thead th {\n",
              "        text-align: right;\n",
              "    }\n",
              "</style>\n",
              "<table border=\"1\" class=\"dataframe\">\n",
              "  <thead>\n",
              "    <tr style=\"text-align: right;\">\n",
              "      <th></th>\n",
              "      <th>0</th>\n",
              "    </tr>\n",
              "  </thead>\n",
              "  <tbody>\n",
              "  </tbody>\n",
              "</table>\n",
              "</div><br><label><b>dtype:</b> bool</label>"
            ],
            "text/plain": [
              "Series([], dtype: bool)"
            ]
          },
          "execution_count": 5,
          "metadata": {},
          "output_type": "execute_result"
        }
      ],
      "source": [
        "na_cols = df_hitters.isna().any(axis=0)\n",
        "na_cols = na_cols[na_cols == True]\n",
        "na_cols"
      ]
    },
    {
      "cell_type": "code",
      "execution_count": 6,
      "metadata": {
        "colab": {
          "base_uri": "https://localhost:8080/",
          "height": 443
        },
        "id": "pNx8DuFEYSrH",
        "outputId": "929bb1bd-a247-4263-d222-b5dce33dff94"
      },
      "outputs": [
        {
          "data": {
            "application/vnd.google.colaboratory.intrinsic+json": {
              "summary": "{\n  \"name\": \"df_hitters\",\n  \"rows\": 263,\n  \"fields\": [\n    {\n      \"column\": \"AtBat\",\n      \"properties\": {\n        \"dtype\": \"number\",\n        \"std\": 147,\n        \"min\": 19,\n        \"max\": 687,\n        \"num_unique_values\": 209,\n        \"samples\": [\n          268,\n          523,\n          327\n        ],\n        \"semantic_type\": \"\",\n        \"description\": \"\"\n      }\n    },\n    {\n      \"column\": \"Hits\",\n      \"properties\": {\n        \"dtype\": \"number\",\n        \"std\": 45,\n        \"min\": 1,\n        \"max\": 238,\n        \"num_unique_values\": 130,\n        \"samples\": [\n          115,\n          131,\n          163\n        ],\n        \"semantic_type\": \"\",\n        \"description\": \"\"\n      }\n    },\n    {\n      \"column\": \"HmRun\",\n      \"properties\": {\n        \"dtype\": \"number\",\n        \"std\": 8,\n        \"min\": 0,\n        \"max\": 40,\n        \"num_unique_values\": 35,\n        \"samples\": [\n          27,\n          16,\n          29\n        ],\n        \"semantic_type\": \"\",\n        \"description\": \"\"\n      }\n    },\n    {\n      \"column\": \"Runs\",\n      \"properties\": {\n        \"dtype\": \"number\",\n        \"std\": 25,\n        \"min\": 0,\n        \"max\": 130,\n        \"num_unique_values\": 92,\n        \"samples\": [\n          78,\n          90,\n          33\n        ],\n        \"semantic_type\": \"\",\n        \"description\": \"\"\n      }\n    },\n    {\n      \"column\": \"RBI\",\n      \"properties\": {\n        \"dtype\": \"number\",\n        \"std\": 25,\n        \"min\": 0,\n        \"max\": 121,\n        \"num_unique_values\": 94,\n        \"samples\": [\n          94,\n          95,\n          58\n        ],\n        \"semantic_type\": \"\",\n        \"description\": \"\"\n      }\n    },\n    {\n      \"column\": \"Walks\",\n      \"properties\": {\n        \"dtype\": \"number\",\n        \"std\": 21,\n        \"min\": 0,\n        \"max\": 105,\n        \"num_unique_values\": 87,\n        \"samples\": [\n          44,\n          39,\n          84\n        ],\n        \"semantic_type\": \"\",\n        \"description\": \"\"\n      }\n    },\n    {\n      \"column\": \"Years\",\n      \"properties\": {\n        \"dtype\": \"number\",\n        \"std\": 4,\n        \"min\": 1,\n        \"max\": 24,\n        \"num_unique_values\": 21,\n        \"samples\": [\n          14,\n          16,\n          17\n        ],\n        \"semantic_type\": \"\",\n        \"description\": \"\"\n      }\n    },\n    {\n      \"column\": \"CAtBat\",\n      \"properties\": {\n        \"dtype\": \"number\",\n        \"std\": 2286,\n        \"min\": 19,\n        \"max\": 14053,\n        \"num_unique_values\": 257,\n        \"samples\": [\n          209,\n          1966,\n          6063\n        ],\n        \"semantic_type\": \"\",\n        \"description\": \"\"\n      }\n    },\n    {\n      \"column\": \"CHits\",\n      \"properties\": {\n        \"dtype\": \"number\",\n        \"std\": 648,\n        \"min\": 4,\n        \"max\": 4256,\n        \"num_unique_values\": 241,\n        \"samples\": [\n          633,\n          108,\n          1145\n        ],\n        \"semantic_type\": \"\",\n        \"description\": \"\"\n      }\n    },\n    {\n      \"column\": \"CHmRun\",\n      \"properties\": {\n        \"dtype\": \"number\",\n        \"std\": 82,\n        \"min\": 0,\n        \"max\": 548,\n        \"num_unique_values\": 129,\n        \"samples\": [\n          181,\n          9,\n          67\n        ],\n        \"semantic_type\": \"\",\n        \"description\": \"\"\n      }\n    },\n    {\n      \"column\": \"CRuns\",\n      \"properties\": {\n        \"dtype\": \"number\",\n        \"std\": 331,\n        \"min\": 2,\n        \"max\": 2165,\n        \"num_unique_values\": 226,\n        \"samples\": [\n          702,\n          128,\n          310\n        ],\n        \"semantic_type\": \"\",\n        \"description\": \"\"\n      }\n    },\n    {\n      \"column\": \"CRBI\",\n      \"properties\": {\n        \"dtype\": \"number\",\n        \"std\": 323,\n        \"min\": 3,\n        \"max\": 1659,\n        \"num_unique_values\": 226,\n        \"samples\": [\n          504,\n          273,\n          579\n        ],\n        \"semantic_type\": \"\",\n        \"description\": \"\"\n      }\n    },\n    {\n      \"column\": \"CWalks\",\n      \"properties\": {\n        \"dtype\": \"number\",\n        \"std\": 264,\n        \"min\": 1,\n        \"max\": 1566,\n        \"num_unique_values\": 207,\n        \"samples\": [\n          403,\n          39,\n          709\n        ],\n        \"semantic_type\": \"\",\n        \"description\": \"\"\n      }\n    },\n    {\n      \"column\": \"League\",\n      \"properties\": {\n        \"dtype\": \"category\",\n        \"num_unique_values\": 2,\n        \"samples\": [\n          \"A\",\n          \"N\"\n        ],\n        \"semantic_type\": \"\",\n        \"description\": \"\"\n      }\n    },\n    {\n      \"column\": \"Division\",\n      \"properties\": {\n        \"dtype\": \"category\",\n        \"num_unique_values\": 2,\n        \"samples\": [\n          \"E\",\n          \"W\"\n        ],\n        \"semantic_type\": \"\",\n        \"description\": \"\"\n      }\n    },\n    {\n      \"column\": \"PutOuts\",\n      \"properties\": {\n        \"dtype\": \"number\",\n        \"std\": 279,\n        \"min\": 0,\n        \"max\": 1377,\n        \"num_unique_values\": 199,\n        \"samples\": [\n          207,\n          202\n        ],\n        \"semantic_type\": \"\",\n        \"description\": \"\"\n      }\n    },\n    {\n      \"column\": \"Assists\",\n      \"properties\": {\n        \"dtype\": \"number\",\n        \"std\": 145,\n        \"min\": 0,\n        \"max\": 492,\n        \"num_unique_values\": 145,\n        \"samples\": [\n          15,\n          72\n        ],\n        \"semantic_type\": \"\",\n        \"description\": \"\"\n      }\n    },\n    {\n      \"column\": \"Errors\",\n      \"properties\": {\n        \"dtype\": \"number\",\n        \"std\": 6,\n        \"min\": 0,\n        \"max\": 32,\n        \"num_unique_values\": 29,\n        \"samples\": [\n          17,\n          13\n        ],\n        \"semantic_type\": \"\",\n        \"description\": \"\"\n      }\n    },\n    {\n      \"column\": \"Salary\",\n      \"properties\": {\n        \"dtype\": \"number\",\n        \"std\": 451.1186807025387,\n        \"min\": 67.5,\n        \"max\": 2460.0,\n        \"num_unique_values\": 150,\n        \"samples\": [\n          400.0,\n          600.0\n        ],\n        \"semantic_type\": \"\",\n        \"description\": \"\"\n      }\n    },\n    {\n      \"column\": \"NewLeague\",\n      \"properties\": {\n        \"dtype\": \"category\",\n        \"num_unique_values\": 2,\n        \"samples\": [\n          \"A\",\n          \"N\"\n        ],\n        \"semantic_type\": \"\",\n        \"description\": \"\"\n      }\n    }\n  ]\n}",
              "type": "dataframe",
              "variable_name": "df_hitters"
            },
            "text/html": [
              "\n",
              "  <div id=\"df-6132fd8b-ffad-4116-9a4c-7f029579ed91\" class=\"colab-df-container\">\n",
              "    <div>\n",
              "<style scoped>\n",
              "    .dataframe tbody tr th:only-of-type {\n",
              "        vertical-align: middle;\n",
              "    }\n",
              "\n",
              "    .dataframe tbody tr th {\n",
              "        vertical-align: top;\n",
              "    }\n",
              "\n",
              "    .dataframe thead th {\n",
              "        text-align: right;\n",
              "    }\n",
              "</style>\n",
              "<table border=\"1\" class=\"dataframe\">\n",
              "  <thead>\n",
              "    <tr style=\"text-align: right;\">\n",
              "      <th></th>\n",
              "      <th>AtBat</th>\n",
              "      <th>Hits</th>\n",
              "      <th>HmRun</th>\n",
              "      <th>Runs</th>\n",
              "      <th>RBI</th>\n",
              "      <th>Walks</th>\n",
              "      <th>Years</th>\n",
              "      <th>CAtBat</th>\n",
              "      <th>CHits</th>\n",
              "      <th>CHmRun</th>\n",
              "      <th>CRuns</th>\n",
              "      <th>CRBI</th>\n",
              "      <th>CWalks</th>\n",
              "      <th>League</th>\n",
              "      <th>Division</th>\n",
              "      <th>PutOuts</th>\n",
              "      <th>Assists</th>\n",
              "      <th>Errors</th>\n",
              "      <th>Salary</th>\n",
              "      <th>NewLeague</th>\n",
              "    </tr>\n",
              "  </thead>\n",
              "  <tbody>\n",
              "    <tr>\n",
              "      <th>1</th>\n",
              "      <td>315</td>\n",
              "      <td>81</td>\n",
              "      <td>7</td>\n",
              "      <td>24</td>\n",
              "      <td>38</td>\n",
              "      <td>39</td>\n",
              "      <td>14</td>\n",
              "      <td>3449</td>\n",
              "      <td>835</td>\n",
              "      <td>69</td>\n",
              "      <td>321</td>\n",
              "      <td>414</td>\n",
              "      <td>375</td>\n",
              "      <td>N</td>\n",
              "      <td>W</td>\n",
              "      <td>632</td>\n",
              "      <td>43</td>\n",
              "      <td>10</td>\n",
              "      <td>475.0</td>\n",
              "      <td>N</td>\n",
              "    </tr>\n",
              "    <tr>\n",
              "      <th>2</th>\n",
              "      <td>479</td>\n",
              "      <td>130</td>\n",
              "      <td>18</td>\n",
              "      <td>66</td>\n",
              "      <td>72</td>\n",
              "      <td>76</td>\n",
              "      <td>3</td>\n",
              "      <td>1624</td>\n",
              "      <td>457</td>\n",
              "      <td>63</td>\n",
              "      <td>224</td>\n",
              "      <td>266</td>\n",
              "      <td>263</td>\n",
              "      <td>A</td>\n",
              "      <td>W</td>\n",
              "      <td>880</td>\n",
              "      <td>82</td>\n",
              "      <td>14</td>\n",
              "      <td>480.0</td>\n",
              "      <td>A</td>\n",
              "    </tr>\n",
              "    <tr>\n",
              "      <th>3</th>\n",
              "      <td>496</td>\n",
              "      <td>141</td>\n",
              "      <td>20</td>\n",
              "      <td>65</td>\n",
              "      <td>78</td>\n",
              "      <td>37</td>\n",
              "      <td>11</td>\n",
              "      <td>5628</td>\n",
              "      <td>1575</td>\n",
              "      <td>225</td>\n",
              "      <td>828</td>\n",
              "      <td>838</td>\n",
              "      <td>354</td>\n",
              "      <td>N</td>\n",
              "      <td>E</td>\n",
              "      <td>200</td>\n",
              "      <td>11</td>\n",
              "      <td>3</td>\n",
              "      <td>500.0</td>\n",
              "      <td>N</td>\n",
              "    </tr>\n",
              "    <tr>\n",
              "      <th>4</th>\n",
              "      <td>321</td>\n",
              "      <td>87</td>\n",
              "      <td>10</td>\n",
              "      <td>39</td>\n",
              "      <td>42</td>\n",
              "      <td>30</td>\n",
              "      <td>2</td>\n",
              "      <td>396</td>\n",
              "      <td>101</td>\n",
              "      <td>12</td>\n",
              "      <td>48</td>\n",
              "      <td>46</td>\n",
              "      <td>33</td>\n",
              "      <td>N</td>\n",
              "      <td>E</td>\n",
              "      <td>805</td>\n",
              "      <td>40</td>\n",
              "      <td>4</td>\n",
              "      <td>91.5</td>\n",
              "      <td>N</td>\n",
              "    </tr>\n",
              "    <tr>\n",
              "      <th>5</th>\n",
              "      <td>594</td>\n",
              "      <td>169</td>\n",
              "      <td>4</td>\n",
              "      <td>74</td>\n",
              "      <td>51</td>\n",
              "      <td>35</td>\n",
              "      <td>11</td>\n",
              "      <td>4408</td>\n",
              "      <td>1133</td>\n",
              "      <td>19</td>\n",
              "      <td>501</td>\n",
              "      <td>336</td>\n",
              "      <td>194</td>\n",
              "      <td>A</td>\n",
              "      <td>W</td>\n",
              "      <td>282</td>\n",
              "      <td>421</td>\n",
              "      <td>25</td>\n",
              "      <td>750.0</td>\n",
              "      <td>A</td>\n",
              "    </tr>\n",
              "    <tr>\n",
              "      <th>...</th>\n",
              "      <td>...</td>\n",
              "      <td>...</td>\n",
              "      <td>...</td>\n",
              "      <td>...</td>\n",
              "      <td>...</td>\n",
              "      <td>...</td>\n",
              "      <td>...</td>\n",
              "      <td>...</td>\n",
              "      <td>...</td>\n",
              "      <td>...</td>\n",
              "      <td>...</td>\n",
              "      <td>...</td>\n",
              "      <td>...</td>\n",
              "      <td>...</td>\n",
              "      <td>...</td>\n",
              "      <td>...</td>\n",
              "      <td>...</td>\n",
              "      <td>...</td>\n",
              "      <td>...</td>\n",
              "      <td>...</td>\n",
              "    </tr>\n",
              "    <tr>\n",
              "      <th>317</th>\n",
              "      <td>497</td>\n",
              "      <td>127</td>\n",
              "      <td>7</td>\n",
              "      <td>65</td>\n",
              "      <td>48</td>\n",
              "      <td>37</td>\n",
              "      <td>5</td>\n",
              "      <td>2703</td>\n",
              "      <td>806</td>\n",
              "      <td>32</td>\n",
              "      <td>379</td>\n",
              "      <td>311</td>\n",
              "      <td>138</td>\n",
              "      <td>N</td>\n",
              "      <td>E</td>\n",
              "      <td>325</td>\n",
              "      <td>9</td>\n",
              "      <td>3</td>\n",
              "      <td>700.0</td>\n",
              "      <td>N</td>\n",
              "    </tr>\n",
              "    <tr>\n",
              "      <th>318</th>\n",
              "      <td>492</td>\n",
              "      <td>136</td>\n",
              "      <td>5</td>\n",
              "      <td>76</td>\n",
              "      <td>50</td>\n",
              "      <td>94</td>\n",
              "      <td>12</td>\n",
              "      <td>5511</td>\n",
              "      <td>1511</td>\n",
              "      <td>39</td>\n",
              "      <td>897</td>\n",
              "      <td>451</td>\n",
              "      <td>875</td>\n",
              "      <td>A</td>\n",
              "      <td>E</td>\n",
              "      <td>313</td>\n",
              "      <td>381</td>\n",
              "      <td>20</td>\n",
              "      <td>875.0</td>\n",
              "      <td>A</td>\n",
              "    </tr>\n",
              "    <tr>\n",
              "      <th>319</th>\n",
              "      <td>475</td>\n",
              "      <td>126</td>\n",
              "      <td>3</td>\n",
              "      <td>61</td>\n",
              "      <td>43</td>\n",
              "      <td>52</td>\n",
              "      <td>6</td>\n",
              "      <td>1700</td>\n",
              "      <td>433</td>\n",
              "      <td>7</td>\n",
              "      <td>217</td>\n",
              "      <td>93</td>\n",
              "      <td>146</td>\n",
              "      <td>A</td>\n",
              "      <td>W</td>\n",
              "      <td>37</td>\n",
              "      <td>113</td>\n",
              "      <td>7</td>\n",
              "      <td>385.0</td>\n",
              "      <td>A</td>\n",
              "    </tr>\n",
              "    <tr>\n",
              "      <th>320</th>\n",
              "      <td>573</td>\n",
              "      <td>144</td>\n",
              "      <td>9</td>\n",
              "      <td>85</td>\n",
              "      <td>60</td>\n",
              "      <td>78</td>\n",
              "      <td>8</td>\n",
              "      <td>3198</td>\n",
              "      <td>857</td>\n",
              "      <td>97</td>\n",
              "      <td>470</td>\n",
              "      <td>420</td>\n",
              "      <td>332</td>\n",
              "      <td>A</td>\n",
              "      <td>E</td>\n",
              "      <td>1314</td>\n",
              "      <td>131</td>\n",
              "      <td>12</td>\n",
              "      <td>960.0</td>\n",
              "      <td>A</td>\n",
              "    </tr>\n",
              "    <tr>\n",
              "      <th>321</th>\n",
              "      <td>631</td>\n",
              "      <td>170</td>\n",
              "      <td>9</td>\n",
              "      <td>77</td>\n",
              "      <td>44</td>\n",
              "      <td>31</td>\n",
              "      <td>11</td>\n",
              "      <td>4908</td>\n",
              "      <td>1457</td>\n",
              "      <td>30</td>\n",
              "      <td>775</td>\n",
              "      <td>357</td>\n",
              "      <td>249</td>\n",
              "      <td>A</td>\n",
              "      <td>W</td>\n",
              "      <td>408</td>\n",
              "      <td>4</td>\n",
              "      <td>3</td>\n",
              "      <td>1000.0</td>\n",
              "      <td>A</td>\n",
              "    </tr>\n",
              "  </tbody>\n",
              "</table>\n",
              "<p>263 rows × 20 columns</p>\n",
              "</div>\n",
              "    <div class=\"colab-df-buttons\">\n",
              "\n",
              "  <div class=\"colab-df-container\">\n",
              "    <button class=\"colab-df-convert\" onclick=\"convertToInteractive('df-6132fd8b-ffad-4116-9a4c-7f029579ed91')\"\n",
              "            title=\"Convert this dataframe to an interactive table.\"\n",
              "            style=\"display:none;\">\n",
              "\n",
              "  <svg xmlns=\"http://www.w3.org/2000/svg\" height=\"24px\" viewBox=\"0 -960 960 960\">\n",
              "    <path d=\"M120-120v-720h720v720H120Zm60-500h600v-160H180v160Zm220 220h160v-160H400v160Zm0 220h160v-160H400v160ZM180-400h160v-160H180v160Zm440 0h160v-160H620v160ZM180-180h160v-160H180v160Zm440 0h160v-160H620v160Z\"/>\n",
              "  </svg>\n",
              "    </button>\n",
              "\n",
              "  <style>\n",
              "    .colab-df-container {\n",
              "      display:flex;\n",
              "      gap: 12px;\n",
              "    }\n",
              "\n",
              "    .colab-df-convert {\n",
              "      background-color: #E8F0FE;\n",
              "      border: none;\n",
              "      border-radius: 50%;\n",
              "      cursor: pointer;\n",
              "      display: none;\n",
              "      fill: #1967D2;\n",
              "      height: 32px;\n",
              "      padding: 0 0 0 0;\n",
              "      width: 32px;\n",
              "    }\n",
              "\n",
              "    .colab-df-convert:hover {\n",
              "      background-color: #E2EBFA;\n",
              "      box-shadow: 0px 1px 2px rgba(60, 64, 67, 0.3), 0px 1px 3px 1px rgba(60, 64, 67, 0.15);\n",
              "      fill: #174EA6;\n",
              "    }\n",
              "\n",
              "    .colab-df-buttons div {\n",
              "      margin-bottom: 4px;\n",
              "    }\n",
              "\n",
              "    [theme=dark] .colab-df-convert {\n",
              "      background-color: #3B4455;\n",
              "      fill: #D2E3FC;\n",
              "    }\n",
              "\n",
              "    [theme=dark] .colab-df-convert:hover {\n",
              "      background-color: #434B5C;\n",
              "      box-shadow: 0px 1px 3px 1px rgba(0, 0, 0, 0.15);\n",
              "      filter: drop-shadow(0px 1px 2px rgba(0, 0, 0, 0.3));\n",
              "      fill: #FFFFFF;\n",
              "    }\n",
              "  </style>\n",
              "\n",
              "    <script>\n",
              "      const buttonEl =\n",
              "        document.querySelector('#df-6132fd8b-ffad-4116-9a4c-7f029579ed91 button.colab-df-convert');\n",
              "      buttonEl.style.display =\n",
              "        google.colab.kernel.accessAllowed ? 'block' : 'none';\n",
              "\n",
              "      async function convertToInteractive(key) {\n",
              "        const element = document.querySelector('#df-6132fd8b-ffad-4116-9a4c-7f029579ed91');\n",
              "        const dataTable =\n",
              "          await google.colab.kernel.invokeFunction('convertToInteractive',\n",
              "                                                    [key], {});\n",
              "        if (!dataTable) return;\n",
              "\n",
              "        const docLinkHtml = 'Like what you see? Visit the ' +\n",
              "          '<a target=\"_blank\" href=https://colab.research.google.com/notebooks/data_table.ipynb>data table notebook</a>'\n",
              "          + ' to learn more about interactive tables.';\n",
              "        element.innerHTML = '';\n",
              "        dataTable['output_type'] = 'display_data';\n",
              "        await google.colab.output.renderOutput(dataTable, element);\n",
              "        const docLink = document.createElement('div');\n",
              "        docLink.innerHTML = docLinkHtml;\n",
              "        element.appendChild(docLink);\n",
              "      }\n",
              "    </script>\n",
              "  </div>\n",
              "\n",
              "\n",
              "<div id=\"df-5d6690cd-6028-41a4-9a5b-32fd03fa0e0f\">\n",
              "  <button class=\"colab-df-quickchart\" onclick=\"quickchart('df-5d6690cd-6028-41a4-9a5b-32fd03fa0e0f')\"\n",
              "            title=\"Suggest charts\"\n",
              "            style=\"display:none;\">\n",
              "\n",
              "<svg xmlns=\"http://www.w3.org/2000/svg\" height=\"24px\"viewBox=\"0 0 24 24\"\n",
              "     width=\"24px\">\n",
              "    <g>\n",
              "        <path d=\"M19 3H5c-1.1 0-2 .9-2 2v14c0 1.1.9 2 2 2h14c1.1 0 2-.9 2-2V5c0-1.1-.9-2-2-2zM9 17H7v-7h2v7zm4 0h-2V7h2v10zm4 0h-2v-4h2v4z\"/>\n",
              "    </g>\n",
              "</svg>\n",
              "  </button>\n",
              "\n",
              "<style>\n",
              "  .colab-df-quickchart {\n",
              "      --bg-color: #E8F0FE;\n",
              "      --fill-color: #1967D2;\n",
              "      --hover-bg-color: #E2EBFA;\n",
              "      --hover-fill-color: #174EA6;\n",
              "      --disabled-fill-color: #AAA;\n",
              "      --disabled-bg-color: #DDD;\n",
              "  }\n",
              "\n",
              "  [theme=dark] .colab-df-quickchart {\n",
              "      --bg-color: #3B4455;\n",
              "      --fill-color: #D2E3FC;\n",
              "      --hover-bg-color: #434B5C;\n",
              "      --hover-fill-color: #FFFFFF;\n",
              "      --disabled-bg-color: #3B4455;\n",
              "      --disabled-fill-color: #666;\n",
              "  }\n",
              "\n",
              "  .colab-df-quickchart {\n",
              "    background-color: var(--bg-color);\n",
              "    border: none;\n",
              "    border-radius: 50%;\n",
              "    cursor: pointer;\n",
              "    display: none;\n",
              "    fill: var(--fill-color);\n",
              "    height: 32px;\n",
              "    padding: 0;\n",
              "    width: 32px;\n",
              "  }\n",
              "\n",
              "  .colab-df-quickchart:hover {\n",
              "    background-color: var(--hover-bg-color);\n",
              "    box-shadow: 0 1px 2px rgba(60, 64, 67, 0.3), 0 1px 3px 1px rgba(60, 64, 67, 0.15);\n",
              "    fill: var(--button-hover-fill-color);\n",
              "  }\n",
              "\n",
              "  .colab-df-quickchart-complete:disabled,\n",
              "  .colab-df-quickchart-complete:disabled:hover {\n",
              "    background-color: var(--disabled-bg-color);\n",
              "    fill: var(--disabled-fill-color);\n",
              "    box-shadow: none;\n",
              "  }\n",
              "\n",
              "  .colab-df-spinner {\n",
              "    border: 2px solid var(--fill-color);\n",
              "    border-color: transparent;\n",
              "    border-bottom-color: var(--fill-color);\n",
              "    animation:\n",
              "      spin 1s steps(1) infinite;\n",
              "  }\n",
              "\n",
              "  @keyframes spin {\n",
              "    0% {\n",
              "      border-color: transparent;\n",
              "      border-bottom-color: var(--fill-color);\n",
              "      border-left-color: var(--fill-color);\n",
              "    }\n",
              "    20% {\n",
              "      border-color: transparent;\n",
              "      border-left-color: var(--fill-color);\n",
              "      border-top-color: var(--fill-color);\n",
              "    }\n",
              "    30% {\n",
              "      border-color: transparent;\n",
              "      border-left-color: var(--fill-color);\n",
              "      border-top-color: var(--fill-color);\n",
              "      border-right-color: var(--fill-color);\n",
              "    }\n",
              "    40% {\n",
              "      border-color: transparent;\n",
              "      border-right-color: var(--fill-color);\n",
              "      border-top-color: var(--fill-color);\n",
              "    }\n",
              "    60% {\n",
              "      border-color: transparent;\n",
              "      border-right-color: var(--fill-color);\n",
              "    }\n",
              "    80% {\n",
              "      border-color: transparent;\n",
              "      border-right-color: var(--fill-color);\n",
              "      border-bottom-color: var(--fill-color);\n",
              "    }\n",
              "    90% {\n",
              "      border-color: transparent;\n",
              "      border-bottom-color: var(--fill-color);\n",
              "    }\n",
              "  }\n",
              "</style>\n",
              "\n",
              "  <script>\n",
              "    async function quickchart(key) {\n",
              "      const quickchartButtonEl =\n",
              "        document.querySelector('#' + key + ' button');\n",
              "      quickchartButtonEl.disabled = true;  // To prevent multiple clicks.\n",
              "      quickchartButtonEl.classList.add('colab-df-spinner');\n",
              "      try {\n",
              "        const charts = await google.colab.kernel.invokeFunction(\n",
              "            'suggestCharts', [key], {});\n",
              "      } catch (error) {\n",
              "        console.error('Error during call to suggestCharts:', error);\n",
              "      }\n",
              "      quickchartButtonEl.classList.remove('colab-df-spinner');\n",
              "      quickchartButtonEl.classList.add('colab-df-quickchart-complete');\n",
              "    }\n",
              "    (() => {\n",
              "      let quickchartButtonEl =\n",
              "        document.querySelector('#df-5d6690cd-6028-41a4-9a5b-32fd03fa0e0f button');\n",
              "      quickchartButtonEl.style.display =\n",
              "        google.colab.kernel.accessAllowed ? 'block' : 'none';\n",
              "    })();\n",
              "  </script>\n",
              "</div>\n",
              "\n",
              "  <div id=\"id_4f7351ff-7c42-4ab1-a708-38bf138047fe\">\n",
              "    <style>\n",
              "      .colab-df-generate {\n",
              "        background-color: #E8F0FE;\n",
              "        border: none;\n",
              "        border-radius: 50%;\n",
              "        cursor: pointer;\n",
              "        display: none;\n",
              "        fill: #1967D2;\n",
              "        height: 32px;\n",
              "        padding: 0 0 0 0;\n",
              "        width: 32px;\n",
              "      }\n",
              "\n",
              "      .colab-df-generate:hover {\n",
              "        background-color: #E2EBFA;\n",
              "        box-shadow: 0px 1px 2px rgba(60, 64, 67, 0.3), 0px 1px 3px 1px rgba(60, 64, 67, 0.15);\n",
              "        fill: #174EA6;\n",
              "      }\n",
              "\n",
              "      [theme=dark] .colab-df-generate {\n",
              "        background-color: #3B4455;\n",
              "        fill: #D2E3FC;\n",
              "      }\n",
              "\n",
              "      [theme=dark] .colab-df-generate:hover {\n",
              "        background-color: #434B5C;\n",
              "        box-shadow: 0px 1px 3px 1px rgba(0, 0, 0, 0.15);\n",
              "        filter: drop-shadow(0px 1px 2px rgba(0, 0, 0, 0.3));\n",
              "        fill: #FFFFFF;\n",
              "      }\n",
              "    </style>\n",
              "    <button class=\"colab-df-generate\" onclick=\"generateWithVariable('df_hitters')\"\n",
              "            title=\"Generate code using this dataframe.\"\n",
              "            style=\"display:none;\">\n",
              "\n",
              "  <svg xmlns=\"http://www.w3.org/2000/svg\" height=\"24px\"viewBox=\"0 0 24 24\"\n",
              "       width=\"24px\">\n",
              "    <path d=\"M7,19H8.4L18.45,9,17,7.55,7,17.6ZM5,21V16.75L18.45,3.32a2,2,0,0,1,2.83,0l1.4,1.43a1.91,1.91,0,0,1,.58,1.4,1.91,1.91,0,0,1-.58,1.4L9.25,21ZM18.45,9,17,7.55Zm-12,3A5.31,5.31,0,0,0,4.9,8.1,5.31,5.31,0,0,0,1,6.5,5.31,5.31,0,0,0,4.9,4.9,5.31,5.31,0,0,0,6.5,1,5.31,5.31,0,0,0,8.1,4.9,5.31,5.31,0,0,0,12,6.5,5.46,5.46,0,0,0,6.5,12Z\"/>\n",
              "  </svg>\n",
              "    </button>\n",
              "    <script>\n",
              "      (() => {\n",
              "      const buttonEl =\n",
              "        document.querySelector('#id_4f7351ff-7c42-4ab1-a708-38bf138047fe button.colab-df-generate');\n",
              "      buttonEl.style.display =\n",
              "        google.colab.kernel.accessAllowed ? 'block' : 'none';\n",
              "\n",
              "      buttonEl.onclick = () => {\n",
              "        google.colab.notebook.generateWithVariable('df_hitters');\n",
              "      }\n",
              "      })();\n",
              "    </script>\n",
              "  </div>\n",
              "\n",
              "    </div>\n",
              "  </div>\n"
            ],
            "text/plain": [
              "     AtBat  Hits  HmRun  Runs  RBI  Walks  Years  CAtBat  CHits  CHmRun  \\\n",
              "1      315    81      7    24   38     39     14    3449    835      69   \n",
              "2      479   130     18    66   72     76      3    1624    457      63   \n",
              "3      496   141     20    65   78     37     11    5628   1575     225   \n",
              "4      321    87     10    39   42     30      2     396    101      12   \n",
              "5      594   169      4    74   51     35     11    4408   1133      19   \n",
              "..     ...   ...    ...   ...  ...    ...    ...     ...    ...     ...   \n",
              "317    497   127      7    65   48     37      5    2703    806      32   \n",
              "318    492   136      5    76   50     94     12    5511   1511      39   \n",
              "319    475   126      3    61   43     52      6    1700    433       7   \n",
              "320    573   144      9    85   60     78      8    3198    857      97   \n",
              "321    631   170      9    77   44     31     11    4908   1457      30   \n",
              "\n",
              "     CRuns  CRBI  CWalks League Division  PutOuts  Assists  Errors  Salary  \\\n",
              "1      321   414     375      N        W      632       43      10   475.0   \n",
              "2      224   266     263      A        W      880       82      14   480.0   \n",
              "3      828   838     354      N        E      200       11       3   500.0   \n",
              "4       48    46      33      N        E      805       40       4    91.5   \n",
              "5      501   336     194      A        W      282      421      25   750.0   \n",
              "..     ...   ...     ...    ...      ...      ...      ...     ...     ...   \n",
              "317    379   311     138      N        E      325        9       3   700.0   \n",
              "318    897   451     875      A        E      313      381      20   875.0   \n",
              "319    217    93     146      A        W       37      113       7   385.0   \n",
              "320    470   420     332      A        E     1314      131      12   960.0   \n",
              "321    775   357     249      A        W      408        4       3  1000.0   \n",
              "\n",
              "    NewLeague  \n",
              "1           N  \n",
              "2           A  \n",
              "3           N  \n",
              "4           N  \n",
              "5           A  \n",
              "..        ...  \n",
              "317         N  \n",
              "318         A  \n",
              "319         A  \n",
              "320         A  \n",
              "321         A  \n",
              "\n",
              "[263 rows x 20 columns]"
            ]
          },
          "execution_count": 6,
          "metadata": {},
          "output_type": "execute_result"
        }
      ],
      "source": [
        "\n",
        "dtype: bool\n",
        "df_hitters.dropna(inplace=True)\n",
        "df_hitters"
      ]
    },
    {
      "cell_type": "markdown",
      "metadata": {
        "id": "EnQpcL0cYsd5"
      },
      "source": [
        "# Part I: Different Model Specs\n",
        "# A. Regression without regularization"
      ]
    },
    {
      "cell_type": "code",
      "execution_count": 13,
      "metadata": {
        "id": "Lr0DkmRHYtGE"
      },
      "outputs": [],
      "source": [
        "# Dropping 'Salary' from the features and separating the target variable\n",
        "X_data = df_hitters.drop(columns=['Salary'])  # Features\n",
        "y_target = df_hitters['Salary']  # Target variable\n",
        "\n",
        "# Splitting the data into training and testing sets\n",
        "X_train_data, X_test_data, y_train_data, y_test_data = train_test_split(X_data, y_target, test_size=0.2, random_state=42)\n",
        "\n",
        "# Column transformation: scaling numerical features and applying one-hot encoding for categorical features\n",
        "column_transformer = ColumnTransformer(\n",
        "    transformers=[\n",
        "        (\"scale\", StandardScaler(), make_column_selector(dtype_include=np.number)),\n",
        "        (\"encode\", OneHotEncoder(handle_unknown='ignore', sparse_output=False), make_column_selector(dtype_include=object))\n",
        "    ],\n",
        "    remainder=\"passthrough\"\n",
        ")\n",
        "\n",
        "# Creating a pipeline with the preprocessing step followed by a Linear Regression model\n",
        "lr_pipeline = Pipeline([\n",
        "    (\"preprocessing\", column_transformer),\n",
        "    (\"linear_regression\", LinearRegression())\n",
        "])\n",
        "\n",
        "# Fitting the pipeline on the training data\n",
        "lr_pipeline.fit(X_train_data, y_train_data)\n",
        "\n",
        "def display_coefficients(model_pipeline, model_step):\n",
        "    # Extracting the preprocessor and model from the pipeline using the correct step names\n",
        "    preprocessor = model_pipeline.named_steps['data_preprocessing']  # Correct name for preprocessing step\n",
        "    model = model_pipeline.named_steps[model_step]\n",
        "\n",
        "    # Getting the feature names for categorical features after one-hot encoding\n",
        "    categorical_features = preprocessor.named_transformers_['encode'].get_feature_names_out()\n",
        "\n",
        "    # Getting the numerical feature names\n",
        "    numerical_features = preprocessor.transformers_[0][2]\n",
        "    numerical_features = X_train_data[numerical_features].columns\n",
        "\n",
        "    # Combining both numerical and categorical feature names\n",
        "    all_features = np.concatenate([numerical_features, categorical_features], axis=0)\n",
        "\n",
        "    # Getting the model's coefficients\n",
        "    model_coefficients = model.coef_\n",
        "\n",
        "    # Creating a dictionary to map features to their coefficients\n",
        "    feature_coefficient_map = dict(zip(all_features, model_coefficients))\n",
        "\n",
        "    # Sorting the feature-coefficient mapping by the absolute value of the coefficients\n",
        "    sorted_features_by_coef = sorted(feature_coefficient_map.items(), key=lambda x: abs(x[1]), reverse=True)\n",
        "\n",
        "    # Printing the sorted features with their coefficients\n",
        "    for feature, coef in sorted_features_by_coef:\n",
        "        print(f\"Feature: {feature}, Coefficient: {coef}\")\n"
      ]
    },
    {
      "cell_type": "code",
      "execution_count": 14,
      "metadata": {
        "colab": {
          "base_uri": "https://localhost:8080/"
        },
        "id": "Dmlr3dZ_aRs0",
        "outputId": "2e1ed932-89a0-4f71-ee4f-e3de534bfc8a"
      },
      "outputs": [
        {
          "name": "stdout",
          "output_type": "stream",
          "text": [
            "MSE for Linear Regression on Test Set: 128284.34549672349\n",
            "MSE for Linear Regression (Cross Validation): 121136.31031816886\n"
          ]
        }
      ],
      "source": [
        "# Function to compute and display Mean Squared Error (MSE) for the model\n",
        "def compute_mse(model_pipeline, X_test_data, X_data, y_data, model_name):\n",
        "    # Predicting on the test set\n",
        "    y_predictions = model_pipeline.predict(X_test_data)\n",
        "\n",
        "    # Calculating the MSE for the test set\n",
        "    test_mse = mean_squared_error(y_test_data, y_predictions)\n",
        "    print(f\"MSE for {model_name} Regression on Test Set: {test_mse}\")\n",
        "\n",
        "    # Performing cross-validation and calculating MSE\n",
        "    cv_scores = cross_val_score(model_pipeline, X_data, y_data, cv=5, scoring='neg_mean_squared_error')\n",
        "    print(f\"MSE for {model_name} Regression (Cross Validation): {-cv_scores.mean()}\")\n",
        "\n",
        "# Calling the function with the pipeline and the dataset\n",
        "compute_mse(lr_pipeline, X_test_data, X_data, y_target, \"Linear\")\n"
      ]
    },
    {
      "cell_type": "markdown",
      "metadata": {
        "id": "zxMm2TIEaXKI"
      },
      "source": [
        "# B. Ridge regression"
      ]
    },
    {
      "cell_type": "code",
      "execution_count": 15,
      "metadata": {
        "colab": {
          "base_uri": "https://localhost:8080/"
        },
        "id": "2Ashe6jKaah3",
        "outputId": "1a136c78-1a34-43ab-ef0a-51db036c634e"
      },
      "outputs": [
        {
          "name": "stdout",
          "output_type": "stream",
          "text": [
            "Optimal alpha value: 10\n"
          ]
        }
      ],
      "source": [
        "# First, define the ColumnTransformer for preprocessing\n",
        "ct = ColumnTransformer(\n",
        "    transformers=[\n",
        "        (\"scale\", StandardScaler(), make_column_selector(dtype_include=np.number)),\n",
        "        (\"encode\", OneHotEncoder(handle_unknown='ignore', sparse_output=False), make_column_selector(dtype_include=object))\n",
        "    ],\n",
        "    remainder=\"passthrough\"\n",
        ")\n",
        "\n",
        "# Setting up a pipeline with Ridge Regression\n",
        "ridge_pipeline = Pipeline([\n",
        "    (\"data_preprocessing\", ct),  # Using the defined ColumnTransformer here\n",
        "    (\"ridge_regressor\", Ridge())\n",
        "])\n",
        "\n",
        "# Defining a list of potential alpha values for Ridge Regression regularization\n",
        "regularization_alphas = [0.001, 0.01, 0.1, 1, 10]\n",
        "\n",
        "# Creating a dictionary with the parameter name for the ridge step\n",
        "param_grid = {'ridge_regressor__alpha': regularization_alphas}\n",
        "\n",
        "# Performing Grid Search Cross-Validation to find the best alpha\n",
        "grid_search = GridSearchCV(ridge_pipeline, param_grid, cv=5, scoring='r2')\n",
        "grid_search.fit(X_data, y_target)\n",
        "\n",
        "# Extracting and displaying the best alpha and its corresponding R-squared score\n",
        "optimal_alpha = grid_search.best_params_['ridge_regressor__alpha']\n",
        "optimal_score = grid_search.best_score_\n",
        "\n",
        "print(f\"Optimal alpha value: {optimal_alpha}\")\n"
      ]
    },
    {
      "cell_type": "code",
      "execution_count": 16,
      "metadata": {
        "colab": {
          "base_uri": "https://localhost:8080/"
        },
        "id": "GpELYMq0asbI",
        "outputId": "586280b9-4aed-40f0-b602-9b2e5af1a9f2"
      },
      "outputs": [
        {
          "name": "stdout",
          "output_type": "stream",
          "text": [
            "Feature: Hits, Coefficient: 149.82091104712038\n",
            "Feature: CRuns, Coefficient: 94.73449032868642\n",
            "Feature: CRBI, Coefficient: 83.76655187097059\n",
            "Feature: CHits, Coefficient: 79.85894920435442\n",
            "Feature: AtBat, Coefficient: -77.2123413332791\n",
            "Feature: PutOuts, Coefficient: 75.70375092323228\n",
            "Feature: CWalks, Coefficient: -69.10060654644715\n",
            "Feature: Walks, Coefficient: 61.51980281410101\n",
            "Feature: Division_E, Coefficient: 56.88795347769234\n",
            "Feature: Division_W, Coefficient: -56.88795347769203\n",
            "Feature: CHmRun, Coefficient: 46.62795643890785\n",
            "Feature: League_A, Coefficient: -29.048971241031627\n",
            "Feature: League_N, Coefficient: 29.048971241031587\n",
            "Feature: Runs, Coefficient: 17.419246223697844\n",
            "Feature: Errors, Coefficient: -15.7706457183859\n",
            "Feature: NewLeague_N, Coefficient: -11.734652519383799\n",
            "Feature: NewLeague_A, Coefficient: 11.734652519383795\n",
            "Feature: CAtBat, Coefficient: -10.664654745848777\n",
            "Feature: RBI, Coefficient: 8.677162339607335\n",
            "Feature: Assists, Coefficient: 8.494788725073862\n",
            "Feature: Years, Coefficient: -8.432903001491338\n",
            "Feature: HmRun, Coefficient: 2.465530211670331\n"
          ]
        }
      ],
      "source": [
        "# Setting the alpha value for Ridge regression in the pipeline\n",
        "ridge_pipeline.set_params(ridge_regressor__alpha=10)\n",
        "\n",
        "# Fitting the pipeline with the training data\n",
        "ridge_pipeline.fit(X_train_data, y_train_data)\n",
        "\n",
        "# Interpreting and displaying the coefficients of the Ridge regression model\n",
        "display_coefficients(ridge_pipeline, \"ridge_regressor\")\n"
      ]
    },
    {
      "cell_type": "code",
      "execution_count": 17,
      "metadata": {
        "colab": {
          "base_uri": "https://localhost:8080/"
        },
        "id": "G0ZKeZuQbPbE",
        "outputId": "c4b13625-2d26-41ad-c78c-edb9571d53f4"
      },
      "outputs": [
        {
          "name": "stdout",
          "output_type": "stream",
          "text": [
            "MSE for Ridge Regression on Test Set: 135534.16480018946\n",
            "MSE for Ridge Regression (Cross Validation): 119348.98477570349\n"
          ]
        }
      ],
      "source": [
        "# Calling the function to compute MSE for the Ridge regression pipeline\n",
        "compute_mse(ridge_pipeline, X_test_data, X_data, y_target, \"Ridge\")\n"
      ]
    },
    {
      "cell_type": "markdown",
      "metadata": {
        "id": "Z7LwL76JbSkY"
      },
      "source": [
        "# C. Lasso Regression\n"
      ]
    },
    {
      "cell_type": "code",
      "execution_count": 19,
      "metadata": {
        "colab": {
          "base_uri": "https://localhost:8080/"
        },
        "id": "_X2PhLzxbWfj",
        "outputId": "e95a2121-0f75-4e66-cc69-1cf544d8d1c3"
      },
      "outputs": [
        {
          "name": "stdout",
          "output_type": "stream",
          "text": [
            "Optimal alpha value for Lasso: 10\n"
          ]
        }
      ],
      "source": [
        "# Define the alpha values for regularization in Lasso regression\n",
        "alpha_values = [0.001, 0.01, 0.1, 1, 10]  # Example values for alpha\n",
        "\n",
        "# Setting up the Lasso regression pipeline\n",
        "lasso_pipeline = Pipeline([\n",
        "    (\"data_preprocessing\", ct),  # Using the defined ColumnTransformer\n",
        "    (\"lasso_regressor\", Lasso(max_iter=10000))\n",
        "])\n",
        "\n",
        "# Defining the alpha values for regularization in Lasso regression\n",
        "lasso_alphas = {'lasso_regressor__alpha': alpha_values}\n",
        "\n",
        "# Performing Grid Search Cross-Validation to find the best alpha\n",
        "lasso_grid_search = GridSearchCV(lasso_pipeline, lasso_alphas, cv=5, scoring='r2')\n",
        "lasso_grid_search.fit(X_data, y_target)\n",
        "\n",
        "# Extracting and displaying the best alpha value and corresponding R-squared score\n",
        "optimal_alpha_lasso = lasso_grid_search.best_params_['lasso_regressor__alpha']\n",
        "optimal_score_lasso = lasso_grid_search.best_score_\n",
        "\n",
        "print(f\"Optimal alpha value for Lasso: {optimal_alpha_lasso}\")\n"
      ]
    },
    {
      "cell_type": "code",
      "execution_count": 20,
      "metadata": {
        "colab": {
          "base_uri": "https://localhost:8080/"
        },
        "id": "LMqIqtqebb6P",
        "outputId": "ee57eb65-131d-4018-d2b6-41c689b1315e"
      },
      "outputs": [
        {
          "name": "stdout",
          "output_type": "stream",
          "text": [
            "Feature: CRBI, Coefficient: 146.18894324216092\n",
            "Feature: Hits, Coefficient: 118.19190271855959\n",
            "Feature: Division_E, Coefficient: 89.09296603804802\n",
            "Feature: PutOuts, Coefficient: 70.95246526643518\n",
            "Feature: CRuns, Coefficient: 69.89842082523485\n",
            "Feature: Walks, Coefficient: 36.774714511302335\n",
            "Feature: Errors, Coefficient: -7.70484608672631\n",
            "Feature: Division_W, Coefficient: -1.68100962481758e-12\n",
            "Feature: AtBat, Coefficient: -0.0\n",
            "Feature: HmRun, Coefficient: 0.0\n",
            "Feature: Runs, Coefficient: 0.0\n",
            "Feature: RBI, Coefficient: 0.0\n",
            "Feature: Years, Coefficient: 0.0\n",
            "Feature: CAtBat, Coefficient: 0.0\n",
            "Feature: CHits, Coefficient: 0.0\n",
            "Feature: CHmRun, Coefficient: 0.0\n",
            "Feature: CWalks, Coefficient: -0.0\n",
            "Feature: Assists, Coefficient: -0.0\n",
            "Feature: League_A, Coefficient: -0.0\n",
            "Feature: League_N, Coefficient: 0.0\n",
            "Feature: NewLeague_A, Coefficient: -0.0\n",
            "Feature: NewLeague_N, Coefficient: 0.0\n"
          ]
        }
      ],
      "source": [
        "# Setting the alpha value for Lasso regression in the pipeline\n",
        "lasso_pipeline.set_params(lasso_regressor__alpha=10)\n",
        "\n",
        "# Fitting the Lasso pipeline with the training data\n",
        "lasso_pipeline.fit(X_train_data, y_train_data)\n",
        "\n",
        "# Interpreting and displaying the coefficients of the Lasso regression model\n",
        "display_coefficients(lasso_pipeline, \"lasso_regressor\")\n"
      ]
    },
    {
      "cell_type": "code",
      "execution_count": 21,
      "metadata": {
        "colab": {
          "base_uri": "https://localhost:8080/"
        },
        "id": "vtMj_cLnbgOA",
        "outputId": "dc031f1f-d67b-4f1b-8966-adc670f0b7af"
      },
      "outputs": [
        {
          "name": "stdout",
          "output_type": "stream",
          "text": [
            "MSE for Lasso Regression on Test Set: 145084.5843517798\n",
            "MSE for Lasso Regression (Cross Validation): 121828.10222019239\n"
          ]
        }
      ],
      "source": [
        "# Calling the function to compute MSE for the Lasso regression pipeline\n",
        "compute_mse(lasso_pipeline, X_test_data, X_data, y_target, \"Lasso\")\n"
      ]
    },
    {
      "cell_type": "markdown",
      "metadata": {
        "id": "z2hsdGtNdMgf"
      },
      "source": [
        "# D. Elastic Net"
      ]
    },
    {
      "cell_type": "code",
      "execution_count": 22,
      "metadata": {
        "colab": {
          "base_uri": "https://localhost:8080/"
        },
        "id": "rK2BRIKIfe0Q",
        "outputId": "e61ab521-e7be-48cc-9415-7c73bd09929e"
      },
      "outputs": [
        {
          "name": "stderr",
          "output_type": "stream",
          "text": [
            "/usr/local/lib/python3.10/dist-packages/sklearn/linear_model/_coordinate_descent.py:697: ConvergenceWarning: Objective did not converge. You might want to increase the number of iterations, check the scale of the features or consider increasing regularisation. Duality gap: 1.045e+07, tolerance: 4.708e+03 Linear regression models with null weight for the l1 regularization term are more efficiently fitted using one of the solvers implemented in sklearn.linear_model.Ridge/RidgeCV instead.\n",
            "  model = cd_fast.enet_coordinate_descent(\n",
            "/usr/local/lib/python3.10/dist-packages/sklearn/linear_model/_coordinate_descent.py:697: ConvergenceWarning: Objective did not converge. You might want to increase the number of iterations, check the scale of the features or consider increasing regularisation. Duality gap: 9.229e+06, tolerance: 3.606e+03 Linear regression models with null weight for the l1 regularization term are more efficiently fitted using one of the solvers implemented in sklearn.linear_model.Ridge/RidgeCV instead.\n",
            "  model = cd_fast.enet_coordinate_descent(\n",
            "/usr/local/lib/python3.10/dist-packages/sklearn/linear_model/_coordinate_descent.py:697: ConvergenceWarning: Objective did not converge. You might want to increase the number of iterations, check the scale of the features or consider increasing regularisation. Duality gap: 1.036e+07, tolerance: 4.137e+03 Linear regression models with null weight for the l1 regularization term are more efficiently fitted using one of the solvers implemented in sklearn.linear_model.Ridge/RidgeCV instead.\n",
            "  model = cd_fast.enet_coordinate_descent(\n",
            "/usr/local/lib/python3.10/dist-packages/sklearn/linear_model/_coordinate_descent.py:697: ConvergenceWarning: Objective did not converge. You might want to increase the number of iterations, check the scale of the features or consider increasing regularisation. Duality gap: 7.457e+06, tolerance: 4.281e+03 Linear regression models with null weight for the l1 regularization term are more efficiently fitted using one of the solvers implemented in sklearn.linear_model.Ridge/RidgeCV instead.\n",
            "  model = cd_fast.enet_coordinate_descent(\n",
            "/usr/local/lib/python3.10/dist-packages/sklearn/linear_model/_coordinate_descent.py:697: ConvergenceWarning: Objective did not converge. You might want to increase the number of iterations, check the scale of the features or consider increasing regularisation. Duality gap: 9.787e+06, tolerance: 4.558e+03 Linear regression models with null weight for the l1 regularization term are more efficiently fitted using one of the solvers implemented in sklearn.linear_model.Ridge/RidgeCV instead.\n",
            "  model = cd_fast.enet_coordinate_descent(\n",
            "/usr/local/lib/python3.10/dist-packages/sklearn/linear_model/_coordinate_descent.py:697: ConvergenceWarning: Objective did not converge. You might want to increase the number of iterations, check the scale of the features or consider increasing regularisation. Duality gap: 1.083e+07, tolerance: 4.708e+03 Linear regression models with null weight for the l1 regularization term are more efficiently fitted using one of the solvers implemented in sklearn.linear_model.Ridge/RidgeCV instead.\n",
            "  model = cd_fast.enet_coordinate_descent(\n",
            "/usr/local/lib/python3.10/dist-packages/sklearn/linear_model/_coordinate_descent.py:697: ConvergenceWarning: Objective did not converge. You might want to increase the number of iterations, check the scale of the features or consider increasing regularisation. Duality gap: 9.466e+06, tolerance: 3.606e+03 Linear regression models with null weight for the l1 regularization term are more efficiently fitted using one of the solvers implemented in sklearn.linear_model.Ridge/RidgeCV instead.\n",
            "  model = cd_fast.enet_coordinate_descent(\n",
            "/usr/local/lib/python3.10/dist-packages/sklearn/linear_model/_coordinate_descent.py:697: ConvergenceWarning: Objective did not converge. You might want to increase the number of iterations, check the scale of the features or consider increasing regularisation. Duality gap: 1.079e+07, tolerance: 4.137e+03 Linear regression models with null weight for the l1 regularization term are more efficiently fitted using one of the solvers implemented in sklearn.linear_model.Ridge/RidgeCV instead.\n",
            "  model = cd_fast.enet_coordinate_descent(\n",
            "/usr/local/lib/python3.10/dist-packages/sklearn/linear_model/_coordinate_descent.py:697: ConvergenceWarning: Objective did not converge. You might want to increase the number of iterations, check the scale of the features or consider increasing regularisation. Duality gap: 7.906e+06, tolerance: 4.281e+03 Linear regression models with null weight for the l1 regularization term are more efficiently fitted using one of the solvers implemented in sklearn.linear_model.Ridge/RidgeCV instead.\n",
            "  model = cd_fast.enet_coordinate_descent(\n",
            "/usr/local/lib/python3.10/dist-packages/sklearn/linear_model/_coordinate_descent.py:697: ConvergenceWarning: Objective did not converge. You might want to increase the number of iterations, check the scale of the features or consider increasing regularisation. Duality gap: 1.026e+07, tolerance: 4.558e+03 Linear regression models with null weight for the l1 regularization term are more efficiently fitted using one of the solvers implemented in sklearn.linear_model.Ridge/RidgeCV instead.\n",
            "  model = cd_fast.enet_coordinate_descent(\n",
            "/usr/local/lib/python3.10/dist-packages/sklearn/linear_model/_coordinate_descent.py:697: ConvergenceWarning: Objective did not converge. You might want to increase the number of iterations, check the scale of the features or consider increasing regularisation. Duality gap: 1.215e+07, tolerance: 4.708e+03 Linear regression models with null weight for the l1 regularization term are more efficiently fitted using one of the solvers implemented in sklearn.linear_model.Ridge/RidgeCV instead.\n",
            "  model = cd_fast.enet_coordinate_descent(\n",
            "/usr/local/lib/python3.10/dist-packages/sklearn/linear_model/_coordinate_descent.py:697: ConvergenceWarning: Objective did not converge. You might want to increase the number of iterations, check the scale of the features or consider increasing regularisation. Duality gap: 1.005e+07, tolerance: 3.606e+03 Linear regression models with null weight for the l1 regularization term are more efficiently fitted using one of the solvers implemented in sklearn.linear_model.Ridge/RidgeCV instead.\n",
            "  model = cd_fast.enet_coordinate_descent(\n",
            "/usr/local/lib/python3.10/dist-packages/sklearn/linear_model/_coordinate_descent.py:697: ConvergenceWarning: Objective did not converge. You might want to increase the number of iterations, check the scale of the features or consider increasing regularisation. Duality gap: 1.178e+07, tolerance: 4.137e+03 Linear regression models with null weight for the l1 regularization term are more efficiently fitted using one of the solvers implemented in sklearn.linear_model.Ridge/RidgeCV instead.\n",
            "  model = cd_fast.enet_coordinate_descent(\n",
            "/usr/local/lib/python3.10/dist-packages/sklearn/linear_model/_coordinate_descent.py:697: ConvergenceWarning: Objective did not converge. You might want to increase the number of iterations, check the scale of the features or consider increasing regularisation. Duality gap: 9.040e+06, tolerance: 4.281e+03 Linear regression models with null weight for the l1 regularization term are more efficiently fitted using one of the solvers implemented in sklearn.linear_model.Ridge/RidgeCV instead.\n",
            "  model = cd_fast.enet_coordinate_descent(\n",
            "/usr/local/lib/python3.10/dist-packages/sklearn/linear_model/_coordinate_descent.py:697: ConvergenceWarning: Objective did not converge. You might want to increase the number of iterations, check the scale of the features or consider increasing regularisation. Duality gap: 1.137e+07, tolerance: 4.558e+03 Linear regression models with null weight for the l1 regularization term are more efficiently fitted using one of the solvers implemented in sklearn.linear_model.Ridge/RidgeCV instead.\n",
            "  model = cd_fast.enet_coordinate_descent(\n",
            "/usr/local/lib/python3.10/dist-packages/sklearn/linear_model/_coordinate_descent.py:697: ConvergenceWarning: Objective did not converge. You might want to increase the number of iterations, check the scale of the features or consider increasing regularisation. Duality gap: 1.458e+07, tolerance: 4.708e+03 Linear regression models with null weight for the l1 regularization term are more efficiently fitted using one of the solvers implemented in sklearn.linear_model.Ridge/RidgeCV instead.\n",
            "  model = cd_fast.enet_coordinate_descent(\n",
            "/usr/local/lib/python3.10/dist-packages/sklearn/linear_model/_coordinate_descent.py:697: ConvergenceWarning: Objective did not converge. You might want to increase the number of iterations, check the scale of the features or consider increasing regularisation. Duality gap: 1.147e+07, tolerance: 3.606e+03 Linear regression models with null weight for the l1 regularization term are more efficiently fitted using one of the solvers implemented in sklearn.linear_model.Ridge/RidgeCV instead.\n",
            "  model = cd_fast.enet_coordinate_descent(\n",
            "/usr/local/lib/python3.10/dist-packages/sklearn/linear_model/_coordinate_descent.py:697: ConvergenceWarning: Objective did not converge. You might want to increase the number of iterations, check the scale of the features or consider increasing regularisation. Duality gap: 1.337e+07, tolerance: 4.137e+03 Linear regression models with null weight for the l1 regularization term are more efficiently fitted using one of the solvers implemented in sklearn.linear_model.Ridge/RidgeCV instead.\n",
            "  model = cd_fast.enet_coordinate_descent(\n",
            "/usr/local/lib/python3.10/dist-packages/sklearn/linear_model/_coordinate_descent.py:697: ConvergenceWarning: Objective did not converge. You might want to increase the number of iterations, check the scale of the features or consider increasing regularisation. Duality gap: 1.122e+07, tolerance: 4.281e+03 Linear regression models with null weight for the l1 regularization term are more efficiently fitted using one of the solvers implemented in sklearn.linear_model.Ridge/RidgeCV instead.\n",
            "  model = cd_fast.enet_coordinate_descent(\n",
            "/usr/local/lib/python3.10/dist-packages/sklearn/linear_model/_coordinate_descent.py:697: ConvergenceWarning: Objective did not converge. You might want to increase the number of iterations, check the scale of the features or consider increasing regularisation. Duality gap: 1.356e+07, tolerance: 4.558e+03 Linear regression models with null weight for the l1 regularization term are more efficiently fitted using one of the solvers implemented in sklearn.linear_model.Ridge/RidgeCV instead.\n",
            "  model = cd_fast.enet_coordinate_descent(\n",
            "/usr/local/lib/python3.10/dist-packages/sklearn/linear_model/_coordinate_descent.py:697: ConvergenceWarning: Objective did not converge. You might want to increase the number of iterations, check the scale of the features or consider increasing regularisation. Duality gap: 1.961e+07, tolerance: 4.708e+03 Linear regression models with null weight for the l1 regularization term are more efficiently fitted using one of the solvers implemented in sklearn.linear_model.Ridge/RidgeCV instead.\n",
            "  model = cd_fast.enet_coordinate_descent(\n",
            "/usr/local/lib/python3.10/dist-packages/sklearn/linear_model/_coordinate_descent.py:697: ConvergenceWarning: Objective did not converge. You might want to increase the number of iterations, check the scale of the features or consider increasing regularisation. Duality gap: 1.509e+07, tolerance: 3.606e+03 Linear regression models with null weight for the l1 regularization term are more efficiently fitted using one of the solvers implemented in sklearn.linear_model.Ridge/RidgeCV instead.\n",
            "  model = cd_fast.enet_coordinate_descent(\n",
            "/usr/local/lib/python3.10/dist-packages/sklearn/linear_model/_coordinate_descent.py:697: ConvergenceWarning: Objective did not converge. You might want to increase the number of iterations, check the scale of the features or consider increasing regularisation. Duality gap: 1.732e+07, tolerance: 4.137e+03 Linear regression models with null weight for the l1 regularization term are more efficiently fitted using one of the solvers implemented in sklearn.linear_model.Ridge/RidgeCV instead.\n",
            "  model = cd_fast.enet_coordinate_descent(\n",
            "/usr/local/lib/python3.10/dist-packages/sklearn/linear_model/_coordinate_descent.py:697: ConvergenceWarning: Objective did not converge. You might want to increase the number of iterations, check the scale of the features or consider increasing regularisation. Duality gap: 1.668e+07, tolerance: 4.281e+03 Linear regression models with null weight for the l1 regularization term are more efficiently fitted using one of the solvers implemented in sklearn.linear_model.Ridge/RidgeCV instead.\n",
            "  model = cd_fast.enet_coordinate_descent(\n",
            "/usr/local/lib/python3.10/dist-packages/sklearn/linear_model/_coordinate_descent.py:697: ConvergenceWarning: Objective did not converge. You might want to increase the number of iterations, check the scale of the features or consider increasing regularisation. Duality gap: 1.858e+07, tolerance: 4.558e+03 Linear regression models with null weight for the l1 regularization term are more efficiently fitted using one of the solvers implemented in sklearn.linear_model.Ridge/RidgeCV instead.\n",
            "  model = cd_fast.enet_coordinate_descent(\n"
          ]
        },
        {
          "name": "stdout",
          "output_type": "stream",
          "text": [
            "Optimal alpha for ElasticNet: 1\n",
            "Optimal l1_ratio for ElasticNet: 0.25\n"
          ]
        }
      ],
      "source": [
        "# Set up the ElasticNet regression pipeline\n",
        "elastic_pipeline = Pipeline([\n",
        "    (\"data_preprocessing\", ct),\n",
        "    (\"elastic_regressor\", ElasticNet(max_iter=10000))\n",
        "])\n",
        "\n",
        "# Define hyperparameters for GridSearchCV\n",
        "elastic_params = {\n",
        "    \"elastic_regressor__alpha\": [0.001, 0.01, 0.1, 1, 10],\n",
        "    \"elastic_regressor__l1_ratio\": [0.0, 0.25, 0.5, 0.75, 1.0]\n",
        "}\n",
        "\n",
        "# Perform GridSearchCV to find the best alpha and l1_ratio\n",
        "elastic_grid_search = GridSearchCV(elastic_pipeline, elastic_params, cv=5, scoring='r2')\n",
        "elastic_grid_search.fit(X_data, y_target)\n",
        "\n",
        "# Extract and display the best hyperparameters\n",
        "optimal_alpha_elastic = elastic_grid_search.best_params_['elastic_regressor__alpha']\n",
        "optimal_l1_ratio_elastic = elastic_grid_search.best_params_['elastic_regressor__l1_ratio']\n",
        "best_score_elastic = elastic_grid_search.best_score_\n",
        "\n",
        "print(f\"Optimal alpha for ElasticNet: {optimal_alpha_elastic}\")\n",
        "print(f\"Optimal l1_ratio for ElasticNet: {optimal_l1_ratio_elastic}\")\n"
      ]
    },
    {
      "cell_type": "code",
      "execution_count": 23,
      "metadata": {
        "colab": {
          "base_uri": "https://localhost:8080/"
        },
        "id": "P30pNZwJflW0",
        "outputId": "2ddb378d-f9eb-43ac-cbce-3e8d85120400"
      },
      "outputs": [
        {
          "name": "stdout",
          "output_type": "stream",
          "text": [
            "Feature: PutOuts, Coefficient: 49.01625740533098\n",
            "Feature: Hits, Coefficient: 45.875974695011024\n",
            "Feature: CRBI, Coefficient: 38.34601320473595\n",
            "Feature: CHits, Coefficient: 37.2819868619278\n",
            "Feature: CRuns, Coefficient: 36.309633550325735\n",
            "Feature: Walks, Coefficient: 30.148942440012238\n",
            "Feature: Runs, Coefficient: 29.414150126540704\n",
            "Feature: CHmRun, Coefficient: 29.352838414479773\n",
            "Feature: CAtBat, Coefficient: 28.0864463513997\n",
            "Feature: Division_E, Coefficient: 26.077339187130093\n",
            "Feature: Division_W, Coefficient: -26.07732952341168\n",
            "Feature: RBI, Coefficient: 25.36865124698902\n",
            "Feature: AtBat, Coefficient: 20.812603164464925\n",
            "Feature: CWalks, Coefficient: 16.08374925819356\n",
            "Feature: Years, Coefficient: 15.943003204919878\n",
            "Feature: HmRun, Coefficient: 10.748095505415655\n",
            "Feature: League_N, Coefficient: 7.704585209557116\n",
            "Feature: League_A, Coefficient: -7.704564868155399\n",
            "Feature: Errors, Coefficient: -7.418470827958747\n",
            "Feature: NewLeague_N, Coefficient: 3.5600923973462\n",
            "Feature: NewLeague_A, Coefficient: -3.5600648215705566\n",
            "Feature: Assists, Coefficient: -0.27531375566486593\n"
          ]
        }
      ],
      "source": [
        "# Set the optimal hyperparameters for the ElasticNet model\n",
        "elastic_pipeline.set_params(elastic_regressor__alpha=1, elastic_regressor__l1_ratio=0.25)\n",
        "\n",
        "# Fit the ElasticNet pipeline with the training data\n",
        "elastic_pipeline.fit(X_train_data, y_train_data)\n",
        "\n",
        "# Interpret and display the coefficients of the ElasticNet model\n",
        "display_coefficients(elastic_pipeline, \"elastic_regressor\")\n"
      ]
    },
    {
      "cell_type": "markdown",
      "metadata": {
        "id": "8mx9dLGvh2x_"
      },
      "source": [
        "5 Heaviest Weighted Features (by absolute coefficient value):\n",
        "1. PutOuts: 49.01625740533098\n",
        "2. Hits: 45.875974695011024\n",
        "3. CRBI: 38.34601320473595\n",
        "4. CHits: 37.2819868619278\n",
        "5. CRuns: 36.309633550325735"
      ]
    },
    {
      "cell_type": "code",
      "execution_count": 24,
      "metadata": {
        "colab": {
          "base_uri": "https://localhost:8080/"
        },
        "id": "Hdj3Pw8OhNvL",
        "outputId": "6bae820b-f6f9-4a82-c7b8-be220558cccf"
      },
      "outputs": [
        {
          "name": "stdout",
          "output_type": "stream",
          "text": [
            "MSE for Elastic Net Regression on Test Set: 147763.8132346431\n",
            "MSE for Elastic Net Regression (Cross Validation): 121374.33335443737\n"
          ]
        }
      ],
      "source": [
        "# Calling the function to compute MSE for the ElasticNet regression pipeline\n",
        "compute_mse(elastic_pipeline, X_test_data, X_data, y_target, \"Elastic Net\")\n"
      ]
    },
    {
      "cell_type": "markdown",
      "metadata": {
        "id": "R0Up-dDxh83j"
      },
      "source": [
        "# Part 2: Variable Selection\n",
        "### Most important numeric variable: PutOuts\n",
        "### Top five most important numeric variables: PutOuts, Hits, CRBI, CHits, CRuns\n",
        "### Most important categorical variable: Division_E and Division_W (both with large absolute coefficients, though they affect the model in opposite directions)."
      ]
    },
    {
      "cell_type": "code",
      "execution_count": 32,
      "metadata": {
        "colab": {
          "base_uri": "https://localhost:8080/"
        },
        "id": "hKfnvS0sh75Z",
        "outputId": "fc16adb2-dd07-4b7f-f5ff-d9f2708296f4"
      },
      "outputs": [
        {
          "name": "stdout",
          "output_type": "stream",
          "text": [
            "MSE for Linear Regression Test Set: 203767.53736797505\n",
            "MSE for Linear Regression Cross Validation: 194266.075720736\n"
          ]
        }
      ],
      "source": [
        "from sklearn.pipeline import Pipeline\n",
        "from sklearn.linear_model import LinearRegression\n",
        "from sklearn.compose import ColumnTransformer\n",
        "from sklearn.preprocessing import StandardScaler\n",
        "from sklearn.model_selection import train_test_split\n",
        "from sklearn.metrics import mean_squared_error\n",
        "from sklearn.model_selection import cross_val_score\n",
        "\n",
        "# Define the get_mse function\n",
        "def get_mse(pipeline, X_test, X, y, pipe_type):\n",
        "    # Make predictions using the model\n",
        "    y_pred = pipeline.predict(X_test)\n",
        "\n",
        "    # Calculate MSE on the test set\n",
        "    mse = mean_squared_error(y_test, y_pred)\n",
        "    print(f\"MSE for {pipe_type} Regression Test Set: {mse}\")\n",
        "\n",
        "    # Perform cross-validation and calculate the average MSE\n",
        "    scores = cross_val_score(pipeline, X, y, cv=5, scoring='neg_mean_squared_error')\n",
        "    print(f\"MSE for {pipe_type} Regression Cross Validation: {-scores.mean()}\")\n",
        "\n",
        "# Assuming the dataframe is named df_hitters or your specific dataset\n",
        "X = df_hitters.drop(columns=['Salary'])  # Replace with actual features\n",
        "y = df_hitters['Salary']  # Replace with actual target column\n",
        "\n",
        "# Selecting the most important numerical feature: PutOuts\n",
        "X_num = X[['PutOuts']]\n",
        "\n",
        "# Splitting the data into training and testing sets\n",
        "X_test, X_train, y_test, y_train = train_test_split(X_num, y, train_size=0.8, random_state=42)\n",
        "\n",
        "# Defining the pipeline for Linear Regression\n",
        "ct = ColumnTransformer(\n",
        "    [(\"scalar\", StandardScaler(), ['PutOuts'])],  # Only scaling the PutOuts feature\n",
        "    remainder=\"passthrough\"\n",
        ")\n",
        "\n",
        "pipeline_lr = Pipeline([\n",
        "    (\"preprocessing\", ct),\n",
        "    (\"lr\", LinearRegression())\n",
        "])\n",
        "\n",
        "# Fitting the pipeline with the most important feature\n",
        "pipeline_lr.fit(X_train, y_train)\n",
        "\n",
        "# Evaluating the model using MSE\n",
        "get_mse(pipeline_lr, X_test, X_num, y, \"Linear\")\n"
      ]
    },
    {
      "cell_type": "code",
      "execution_count": 34,
      "metadata": {
        "colab": {
          "base_uri": "https://localhost:8080/"
        },
        "id": "o3wc4oL1jcpZ",
        "outputId": "09ade434-ff29-4225-933c-4d6cd5121f67"
      },
      "outputs": [
        {
          "name": "stdout",
          "output_type": "stream",
          "text": [
            "Optimal alpha: 10\n",
            "Best R2 score: -0.012911496727382477\n"
          ]
        }
      ],
      "source": [
        "# Assuming you have already defined X_num and y, and alpha_values from earlier\n",
        "\n",
        "# Define the Ridge Regression pipeline with preprocessing\n",
        "ct = ColumnTransformer(\n",
        "    [(\"scalar\", StandardScaler(), ['PutOuts'])],  # Scaling only the PutOuts feature\n",
        "    remainder=\"passthrough\"\n",
        ")\n",
        "\n",
        "pipeline_ridge = Pipeline([\n",
        "    (\"preprocessing\", ct),\n",
        "    (\"ridge_regressor\", Ridge())  # Using 'ridge_regressor' to match the GridSearchCV parameter\n",
        "])\n",
        "\n",
        "# Define the possible alpha values for Ridge regression\n",
        "ridge_alphas = {'ridge_regressor__alpha': alpha_values}\n",
        "\n",
        "# Perform GridSearchCV to find the best alpha\n",
        "gscv_ridge = GridSearchCV(pipeline_ridge, ridge_alphas, cv=5, scoring='r2')\n",
        "gscv_ridge.fit(X_num, y)\n",
        "\n",
        "# Extract the best alpha and the corresponding score from the GridSearchCV results\n",
        "optimal_alpha = gscv_ridge.best_params_['ridge_regressor__alpha']\n",
        "optimal_score = gscv_ridge.best_score_\n",
        "\n",
        "# Print the best alpha value and score\n",
        "print(f\"Optimal alpha: {optimal_alpha}\")\n",
        "print(f\"Best R2 score: {optimal_score}\")\n"
      ]
    },
    {
      "cell_type": "code",
      "execution_count": 35,
      "metadata": {
        "colab": {
          "base_uri": "https://localhost:8080/"
        },
        "id": "I-b7ym1TlWxx",
        "outputId": "728a2848-5c8e-43bc-ecd1-7608acf1e33f"
      },
      "outputs": [
        {
          "name": "stdout",
          "output_type": "stream",
          "text": [
            "MSE for Ridge Regression Test Set: 203865.8311347131\n",
            "MSE for Ridge Regression Cross Validation: 193887.5138192862\n"
          ]
        }
      ],
      "source": [
        "# Fit the pipeline on the training data\n",
        "pipeline_ridge.fit(X_train, y_train)\n",
        "\n",
        "# Set the alpha parameter for Ridge regression within the pipeline\n",
        "pipeline_ridge.set_params(ridge_regressor__alpha=10)\n",
        "\n",
        "# Evaluate the model using MSE\n",
        "get_mse(pipeline_ridge, X_test, X_num, y, \"Ridge\")\n"
      ]
    },
    {
      "cell_type": "code",
      "execution_count": 37,
      "metadata": {
        "colab": {
          "base_uri": "https://localhost:8080/"
        },
        "id": "KRFa6vDEmDWL",
        "outputId": "de3af6d8-d178-4e57-df6a-72fbc966f90f"
      },
      "outputs": [
        {
          "name": "stdout",
          "output_type": "stream",
          "text": [
            "Optimal alpha: 10\n",
            "Best R2 score: -0.013035805275784452\n"
          ]
        }
      ],
      "source": [
        "# Define the pipeline with preprocessing (scaling) and Lasso regression\n",
        "ct = ColumnTransformer(\n",
        "    [(\"scalar\", StandardScaler(), ['PutOuts'])],  # Scaling the 'PutOuts' feature\n",
        "    remainder=\"passthrough\"\n",
        ")\n",
        "\n",
        "pipeline_lasso = Pipeline([\n",
        "    (\"preprocessing\", ct),\n",
        "    (\"lasso_regressor\", Lasso(max_iter=10000))  # Lasso regression step\n",
        "])\n",
        "\n",
        "# Define the alpha values for Lasso regularization\n",
        "alpha_values = [0.001, 0.01, 0.1, 1, 10]  # You can adjust these as needed\n",
        "lasso_alphas = {'lasso_regressor__alpha': alpha_values}\n",
        "\n",
        "# Perform GridSearchCV to find the best alpha for Lasso\n",
        "gscv_lasso = GridSearchCV(pipeline_lasso, lasso_alphas, cv=5, scoring='r2')\n",
        "gscv_lasso.fit(X_num, y)\n",
        "\n",
        "# Extract the best alpha and the corresponding score from the GridSearchCV results\n",
        "optimal_lasso_alpha = gscv_lasso.best_params_['lasso_regressor__alpha']\n",
        "optimal_lasso_score = gscv_lasso.best_score_\n",
        "\n",
        "# Print the best alpha value and score\n",
        "print(f\"Optimal alpha: {optimal_lasso_alpha}\")\n",
        "print(f\"Best R2 score: {optimal_lasso_score}\")\n"
      ]
    },
    {
      "cell_type": "code",
      "execution_count": 38,
      "metadata": {
        "colab": {
          "base_uri": "https://localhost:8080/"
        },
        "id": "W7bD-NvgmSND",
        "outputId": "da3e1d63-ba1e-47a3-da5c-03dd6251ce8f"
      },
      "outputs": [
        {
          "name": "stdout",
          "output_type": "stream",
          "text": [
            "MSE for Lasso Regression Test Set: 204345.4111546495\n",
            "MSE for Lasso Regression Cross Validation: 194207.36269017681\n"
          ]
        }
      ],
      "source": [
        "# Fit the pipeline on the training data\n",
        "pipeline_lasso.fit(X_train, y_train)\n",
        "\n",
        "# Set the alpha parameter for Lasso regression within the pipeline\n",
        "pipeline_lasso.set_params(lasso_regressor__alpha=10)\n",
        "\n",
        "# Evaluate the model using MSE\n",
        "get_mse(pipeline_lasso, X_test, X_num, y, \"Lasso\")\n"
      ]
    },
    {
      "cell_type": "code",
      "execution_count": 39,
      "metadata": {
        "colab": {
          "base_uri": "https://localhost:8080/"
        },
        "id": "psF7Gb73mY1i",
        "outputId": "2340b0b4-6854-4b4d-924a-963e05765706"
      },
      "outputs": [
        {
          "name": "stderr",
          "output_type": "stream",
          "text": [
            "/usr/local/lib/python3.10/dist-packages/sklearn/linear_model/_coordinate_descent.py:697: ConvergenceWarning: Objective did not converge. You might want to increase the number of iterations, check the scale of the features or consider increasing regularisation. Duality gap: 2.101e+07, tolerance: 4.708e+03 Linear regression models with null weight for the l1 regularization term are more efficiently fitted using one of the solvers implemented in sklearn.linear_model.Ridge/RidgeCV instead.\n",
            "  model = cd_fast.enet_coordinate_descent(\n",
            "/usr/local/lib/python3.10/dist-packages/sklearn/linear_model/_coordinate_descent.py:697: ConvergenceWarning: Objective did not converge. You might want to increase the number of iterations, check the scale of the features or consider increasing regularisation. Duality gap: 1.688e+07, tolerance: 3.606e+03 Linear regression models with null weight for the l1 regularization term are more efficiently fitted using one of the solvers implemented in sklearn.linear_model.Ridge/RidgeCV instead.\n",
            "  model = cd_fast.enet_coordinate_descent(\n",
            "/usr/local/lib/python3.10/dist-packages/sklearn/linear_model/_coordinate_descent.py:697: ConvergenceWarning: Objective did not converge. You might want to increase the number of iterations, check the scale of the features or consider increasing regularisation. Duality gap: 1.959e+07, tolerance: 4.137e+03 Linear regression models with null weight for the l1 regularization term are more efficiently fitted using one of the solvers implemented in sklearn.linear_model.Ridge/RidgeCV instead.\n",
            "  model = cd_fast.enet_coordinate_descent(\n",
            "/usr/local/lib/python3.10/dist-packages/sklearn/linear_model/_coordinate_descent.py:697: ConvergenceWarning: Objective did not converge. You might want to increase the number of iterations, check the scale of the features or consider increasing regularisation. Duality gap: 1.887e+07, tolerance: 4.281e+03 Linear regression models with null weight for the l1 regularization term are more efficiently fitted using one of the solvers implemented in sklearn.linear_model.Ridge/RidgeCV instead.\n",
            "  model = cd_fast.enet_coordinate_descent(\n",
            "/usr/local/lib/python3.10/dist-packages/sklearn/linear_model/_coordinate_descent.py:697: ConvergenceWarning: Objective did not converge. You might want to increase the number of iterations, check the scale of the features or consider increasing regularisation. Duality gap: 2.012e+07, tolerance: 4.558e+03 Linear regression models with null weight for the l1 regularization term are more efficiently fitted using one of the solvers implemented in sklearn.linear_model.Ridge/RidgeCV instead.\n",
            "  model = cd_fast.enet_coordinate_descent(\n",
            "/usr/local/lib/python3.10/dist-packages/sklearn/linear_model/_coordinate_descent.py:697: ConvergenceWarning: Objective did not converge. You might want to increase the number of iterations, check the scale of the features or consider increasing regularisation. Duality gap: 2.103e+07, tolerance: 4.708e+03 Linear regression models with null weight for the l1 regularization term are more efficiently fitted using one of the solvers implemented in sklearn.linear_model.Ridge/RidgeCV instead.\n",
            "  model = cd_fast.enet_coordinate_descent(\n",
            "/usr/local/lib/python3.10/dist-packages/sklearn/linear_model/_coordinate_descent.py:697: ConvergenceWarning: Objective did not converge. You might want to increase the number of iterations, check the scale of the features or consider increasing regularisation. Duality gap: 1.689e+07, tolerance: 3.606e+03 Linear regression models with null weight for the l1 regularization term are more efficiently fitted using one of the solvers implemented in sklearn.linear_model.Ridge/RidgeCV instead.\n",
            "  model = cd_fast.enet_coordinate_descent(\n",
            "/usr/local/lib/python3.10/dist-packages/sklearn/linear_model/_coordinate_descent.py:697: ConvergenceWarning: Objective did not converge. You might want to increase the number of iterations, check the scale of the features or consider increasing regularisation. Duality gap: 1.960e+07, tolerance: 4.137e+03 Linear regression models with null weight for the l1 regularization term are more efficiently fitted using one of the solvers implemented in sklearn.linear_model.Ridge/RidgeCV instead.\n",
            "  model = cd_fast.enet_coordinate_descent(\n",
            "/usr/local/lib/python3.10/dist-packages/sklearn/linear_model/_coordinate_descent.py:697: ConvergenceWarning: Objective did not converge. You might want to increase the number of iterations, check the scale of the features or consider increasing regularisation. Duality gap: 1.890e+07, tolerance: 4.281e+03 Linear regression models with null weight for the l1 regularization term are more efficiently fitted using one of the solvers implemented in sklearn.linear_model.Ridge/RidgeCV instead.\n",
            "  model = cd_fast.enet_coordinate_descent(\n",
            "/usr/local/lib/python3.10/dist-packages/sklearn/linear_model/_coordinate_descent.py:697: ConvergenceWarning: Objective did not converge. You might want to increase the number of iterations, check the scale of the features or consider increasing regularisation. Duality gap: 2.015e+07, tolerance: 4.558e+03 Linear regression models with null weight for the l1 regularization term are more efficiently fitted using one of the solvers implemented in sklearn.linear_model.Ridge/RidgeCV instead.\n",
            "  model = cd_fast.enet_coordinate_descent(\n",
            "/usr/local/lib/python3.10/dist-packages/sklearn/linear_model/_coordinate_descent.py:697: ConvergenceWarning: Objective did not converge. You might want to increase the number of iterations, check the scale of the features or consider increasing regularisation. Duality gap: 2.123e+07, tolerance: 4.708e+03 Linear regression models with null weight for the l1 regularization term are more efficiently fitted using one of the solvers implemented in sklearn.linear_model.Ridge/RidgeCV instead.\n",
            "  model = cd_fast.enet_coordinate_descent(\n",
            "/usr/local/lib/python3.10/dist-packages/sklearn/linear_model/_coordinate_descent.py:697: ConvergenceWarning: Objective did not converge. You might want to increase the number of iterations, check the scale of the features or consider increasing regularisation. Duality gap: 1.698e+07, tolerance: 3.606e+03 Linear regression models with null weight for the l1 regularization term are more efficiently fitted using one of the solvers implemented in sklearn.linear_model.Ridge/RidgeCV instead.\n",
            "  model = cd_fast.enet_coordinate_descent(\n",
            "/usr/local/lib/python3.10/dist-packages/sklearn/linear_model/_coordinate_descent.py:697: ConvergenceWarning: Objective did not converge. You might want to increase the number of iterations, check the scale of the features or consider increasing regularisation. Duality gap: 1.969e+07, tolerance: 4.137e+03 Linear regression models with null weight for the l1 regularization term are more efficiently fitted using one of the solvers implemented in sklearn.linear_model.Ridge/RidgeCV instead.\n",
            "  model = cd_fast.enet_coordinate_descent(\n",
            "/usr/local/lib/python3.10/dist-packages/sklearn/linear_model/_coordinate_descent.py:697: ConvergenceWarning: Objective did not converge. You might want to increase the number of iterations, check the scale of the features or consider increasing regularisation. Duality gap: 1.910e+07, tolerance: 4.281e+03 Linear regression models with null weight for the l1 regularization term are more efficiently fitted using one of the solvers implemented in sklearn.linear_model.Ridge/RidgeCV instead.\n",
            "  model = cd_fast.enet_coordinate_descent(\n",
            "/usr/local/lib/python3.10/dist-packages/sklearn/linear_model/_coordinate_descent.py:697: ConvergenceWarning: Objective did not converge. You might want to increase the number of iterations, check the scale of the features or consider increasing regularisation. Duality gap: 2.036e+07, tolerance: 4.558e+03 Linear regression models with null weight for the l1 regularization term are more efficiently fitted using one of the solvers implemented in sklearn.linear_model.Ridge/RidgeCV instead.\n",
            "  model = cd_fast.enet_coordinate_descent(\n",
            "/usr/local/lib/python3.10/dist-packages/sklearn/linear_model/_coordinate_descent.py:697: ConvergenceWarning: Objective did not converge. You might want to increase the number of iterations, check the scale of the features or consider increasing regularisation. Duality gap: 2.227e+07, tolerance: 4.708e+03 Linear regression models with null weight for the l1 regularization term are more efficiently fitted using one of the solvers implemented in sklearn.linear_model.Ridge/RidgeCV instead.\n",
            "  model = cd_fast.enet_coordinate_descent(\n",
            "/usr/local/lib/python3.10/dist-packages/sklearn/linear_model/_coordinate_descent.py:697: ConvergenceWarning: Objective did not converge. You might want to increase the number of iterations, check the scale of the features or consider increasing regularisation. Duality gap: 1.745e+07, tolerance: 3.606e+03 Linear regression models with null weight for the l1 regularization term are more efficiently fitted using one of the solvers implemented in sklearn.linear_model.Ridge/RidgeCV instead.\n",
            "  model = cd_fast.enet_coordinate_descent(\n",
            "/usr/local/lib/python3.10/dist-packages/sklearn/linear_model/_coordinate_descent.py:697: ConvergenceWarning: Objective did not converge. You might want to increase the number of iterations, check the scale of the features or consider increasing regularisation. Duality gap: 2.014e+07, tolerance: 4.137e+03 Linear regression models with null weight for the l1 regularization term are more efficiently fitted using one of the solvers implemented in sklearn.linear_model.Ridge/RidgeCV instead.\n",
            "  model = cd_fast.enet_coordinate_descent(\n",
            "/usr/local/lib/python3.10/dist-packages/sklearn/linear_model/_coordinate_descent.py:697: ConvergenceWarning: Objective did not converge. You might want to increase the number of iterations, check the scale of the features or consider increasing regularisation. Duality gap: 2.014e+07, tolerance: 4.281e+03 Linear regression models with null weight for the l1 regularization term are more efficiently fitted using one of the solvers implemented in sklearn.linear_model.Ridge/RidgeCV instead.\n",
            "  model = cd_fast.enet_coordinate_descent(\n",
            "/usr/local/lib/python3.10/dist-packages/sklearn/linear_model/_coordinate_descent.py:697: ConvergenceWarning: Objective did not converge. You might want to increase the number of iterations, check the scale of the features or consider increasing regularisation. Duality gap: 2.146e+07, tolerance: 4.558e+03 Linear regression models with null weight for the l1 regularization term are more efficiently fitted using one of the solvers implemented in sklearn.linear_model.Ridge/RidgeCV instead.\n",
            "  model = cd_fast.enet_coordinate_descent(\n",
            "/usr/local/lib/python3.10/dist-packages/sklearn/linear_model/_coordinate_descent.py:697: ConvergenceWarning: Objective did not converge. You might want to increase the number of iterations, check the scale of the features or consider increasing regularisation. Duality gap: 2.331e+07, tolerance: 4.708e+03 Linear regression models with null weight for the l1 regularization term are more efficiently fitted using one of the solvers implemented in sklearn.linear_model.Ridge/RidgeCV instead.\n",
            "  model = cd_fast.enet_coordinate_descent(\n",
            "/usr/local/lib/python3.10/dist-packages/sklearn/linear_model/_coordinate_descent.py:697: ConvergenceWarning: Objective did not converge. You might want to increase the number of iterations, check the scale of the features or consider increasing regularisation. Duality gap: 1.793e+07, tolerance: 3.606e+03 Linear regression models with null weight for the l1 regularization term are more efficiently fitted using one of the solvers implemented in sklearn.linear_model.Ridge/RidgeCV instead.\n",
            "  model = cd_fast.enet_coordinate_descent(\n",
            "/usr/local/lib/python3.10/dist-packages/sklearn/linear_model/_coordinate_descent.py:697: ConvergenceWarning: Objective did not converge. You might want to increase the number of iterations, check the scale of the features or consider increasing regularisation. Duality gap: 2.059e+07, tolerance: 4.137e+03 Linear regression models with null weight for the l1 regularization term are more efficiently fitted using one of the solvers implemented in sklearn.linear_model.Ridge/RidgeCV instead.\n",
            "  model = cd_fast.enet_coordinate_descent(\n",
            "/usr/local/lib/python3.10/dist-packages/sklearn/linear_model/_coordinate_descent.py:697: ConvergenceWarning: Objective did not converge. You might want to increase the number of iterations, check the scale of the features or consider increasing regularisation. Duality gap: 2.118e+07, tolerance: 4.281e+03 Linear regression models with null weight for the l1 regularization term are more efficiently fitted using one of the solvers implemented in sklearn.linear_model.Ridge/RidgeCV instead.\n",
            "  model = cd_fast.enet_coordinate_descent(\n",
            "/usr/local/lib/python3.10/dist-packages/sklearn/linear_model/_coordinate_descent.py:697: ConvergenceWarning: Objective did not converge. You might want to increase the number of iterations, check the scale of the features or consider increasing regularisation. Duality gap: 2.255e+07, tolerance: 4.558e+03 Linear regression models with null weight for the l1 regularization term are more efficiently fitted using one of the solvers implemented in sklearn.linear_model.Ridge/RidgeCV instead.\n",
            "  model = cd_fast.enet_coordinate_descent(\n"
          ]
        },
        {
          "name": "stdout",
          "output_type": "stream",
          "text": [
            "Best alpha: 1\n",
            "Best l1_ratio: 0.25\n",
            "Best R2 score: 0.003358231430707215\n"
          ]
        }
      ],
      "source": [
        "# Import necessary libraries\n",
        "from sklearn.linear_model import ElasticNet\n",
        "from sklearn.model_selection import GridSearchCV\n",
        "from sklearn.pipeline import Pipeline\n",
        "from sklearn.compose import ColumnTransformer\n",
        "from sklearn.preprocessing import StandardScaler\n",
        "\n",
        "# Define the preprocessing for scaling the 'PutOuts' feature\n",
        "ct = ColumnTransformer(\n",
        "    [(\"scalar\", StandardScaler(), ['PutOuts'])],\n",
        "    remainder=\"passthrough\"\n",
        ")\n",
        "\n",
        "# Create the pipeline with ElasticNet model\n",
        "pipeline_elastic = Pipeline([\n",
        "    (\"preprocessing\", ct),\n",
        "    (\"elastic\", ElasticNet(max_iter=10000))  # ElasticNet model\n",
        "])\n",
        "\n",
        "# Define the parameter grid for GridSearchCV\n",
        "params = {\n",
        "    \"elastic__alpha\": [0.001, 0.01, 0.1, 1, 10],  # Regularization strength\n",
        "    \"elastic__l1_ratio\": [0.0, 0.25, 0.5, 0.75, 1.0]  # L1 ratio for ElasticNet\n",
        "}\n",
        "\n",
        "# Perform GridSearchCV to find the best parameters\n",
        "gscv = GridSearchCV(pipeline_elastic, params, cv=5, scoring='r2')\n",
        "gscv.fit(X_num, y)\n",
        "\n",
        "# Get the best parameters and best score\n",
        "best_alpha = gscv.best_params_['elastic__alpha']\n",
        "best_l1_ratio = gscv.best_params_['elastic__l1_ratio']\n",
        "best_score = gscv.best_score_\n",
        "\n",
        "# Print the best parameters and score\n",
        "print(f\"Best alpha: {best_alpha}\")\n",
        "print(f\"Best l1_ratio: {best_l1_ratio}\")\n",
        "print(f\"Best R2 score: {best_score}\")\n"
      ]
    },
    {
      "cell_type": "code",
      "execution_count": 40,
      "metadata": {
        "colab": {
          "base_uri": "https://localhost:8080/"
        },
        "id": "SaDURvbvmjJk",
        "outputId": "942e5ccc-beba-455f-e0df-16a170f036ee"
      },
      "outputs": [
        {
          "name": "stdout",
          "output_type": "stream",
          "text": [
            "MSE for Elastic Net Regression Test Set: 205775.03276876538\n"
          ]
        },
        {
          "name": "stderr",
          "output_type": "stream",
          "text": [
            "/usr/local/lib/python3.10/dist-packages/sklearn/linear_model/_coordinate_descent.py:697: ConvergenceWarning: Objective did not converge. You might want to increase the number of iterations, check the scale of the features or consider increasing regularisation. Duality gap: 2.123e+07, tolerance: 4.708e+03 Linear regression models with null weight for the l1 regularization term are more efficiently fitted using one of the solvers implemented in sklearn.linear_model.Ridge/RidgeCV instead.\n",
            "  model = cd_fast.enet_coordinate_descent(\n",
            "/usr/local/lib/python3.10/dist-packages/sklearn/linear_model/_coordinate_descent.py:697: ConvergenceWarning: Objective did not converge. You might want to increase the number of iterations, check the scale of the features or consider increasing regularisation. Duality gap: 1.698e+07, tolerance: 3.606e+03 Linear regression models with null weight for the l1 regularization term are more efficiently fitted using one of the solvers implemented in sklearn.linear_model.Ridge/RidgeCV instead.\n",
            "  model = cd_fast.enet_coordinate_descent(\n",
            "/usr/local/lib/python3.10/dist-packages/sklearn/linear_model/_coordinate_descent.py:697: ConvergenceWarning: Objective did not converge. You might want to increase the number of iterations, check the scale of the features or consider increasing regularisation. Duality gap: 1.969e+07, tolerance: 4.137e+03 Linear regression models with null weight for the l1 regularization term are more efficiently fitted using one of the solvers implemented in sklearn.linear_model.Ridge/RidgeCV instead.\n",
            "  model = cd_fast.enet_coordinate_descent(\n"
          ]
        },
        {
          "name": "stdout",
          "output_type": "stream",
          "text": [
            "MSE for Elastic Net Regression Cross Validation: 193587.57210747965\n"
          ]
        },
        {
          "name": "stderr",
          "output_type": "stream",
          "text": [
            "/usr/local/lib/python3.10/dist-packages/sklearn/linear_model/_coordinate_descent.py:697: ConvergenceWarning: Objective did not converge. You might want to increase the number of iterations, check the scale of the features or consider increasing regularisation. Duality gap: 1.910e+07, tolerance: 4.281e+03 Linear regression models with null weight for the l1 regularization term are more efficiently fitted using one of the solvers implemented in sklearn.linear_model.Ridge/RidgeCV instead.\n",
            "  model = cd_fast.enet_coordinate_descent(\n",
            "/usr/local/lib/python3.10/dist-packages/sklearn/linear_model/_coordinate_descent.py:697: ConvergenceWarning: Objective did not converge. You might want to increase the number of iterations, check the scale of the features or consider increasing regularisation. Duality gap: 2.036e+07, tolerance: 4.558e+03 Linear regression models with null weight for the l1 regularization term are more efficiently fitted using one of the solvers implemented in sklearn.linear_model.Ridge/RidgeCV instead.\n",
            "  model = cd_fast.enet_coordinate_descent(\n"
          ]
        }
      ],
      "source": [
        "# Fit the pipeline with the training data\n",
        "pipeline_elastic.fit(X_train, y_train)\n",
        "\n",
        "# Set the alpha and l1_ratio parameters for ElasticNet\n",
        "pipeline_elastic.set_params(elastic__alpha=0.1, elastic__l1_ratio=0)\n",
        "\n",
        "# Evaluate the model using MSE\n",
        "get_mse(pipeline_elastic, X_test, X_num, y, \"Elastic Net\")\n"
      ]
    },
    {
      "cell_type": "markdown",
      "metadata": {
        "id": "pcylSyWaozsQ"
      },
      "source": [
        "5 most important numerical features"
      ]
    },
    {
      "cell_type": "code",
      "execution_count": 41,
      "metadata": {
        "colab": {
          "base_uri": "https://localhost:8080/"
        },
        "id": "UnGYfqKYmk_H",
        "outputId": "8dbdb2cc-2b2f-45d2-d449-2861b75426d0"
      },
      "outputs": [
        {
          "name": "stdout",
          "output_type": "stream",
          "text": [
            "MSE for Linear Regression Test Set: 119467.79497641903\n",
            "MSE for Linear Regression Cross Validation: 123098.16579519196\n"
          ]
        }
      ],
      "source": [
        "# Selecting the 5 most important numerical features\n",
        "X_num_five = X[['PutOuts', 'Hits', 'CRBI', 'CHits', 'CRuns']]\n",
        "\n",
        "# Splitting the data into training and testing sets\n",
        "X_test, X_train, y_test, y_train = train_test_split(X_num_five, y, train_size=0.8, random_state=42)\n",
        "\n",
        "# Fitting the Linear Regression pipeline with the selected features\n",
        "pipeline_lr.fit(X_train, y_train)\n",
        "\n",
        "# Evaluating the model using MSE (Mean Squared Error)\n",
        "get_mse(pipeline_lr, X_test, X_num_five, y, \"Linear\")\n"
      ]
    },
    {
      "cell_type": "code",
      "execution_count": 43,
      "metadata": {
        "colab": {
          "base_uri": "https://localhost:8080/"
        },
        "id": "kBGz50WDnK75",
        "outputId": "57bb5e01-f77a-4d25-c5b3-7fab6d327481"
      },
      "outputs": [
        {
          "name": "stdout",
          "output_type": "stream",
          "text": [
            "Best alpha: 10\n"
          ]
        }
      ],
      "source": [
        "# Update the parameter grid with the correct step name 'ridge_regressor'\n",
        "alphas = {'ridge_regressor__alpha': alpha_values}\n",
        "\n",
        "# Perform GridSearchCV to find the best alpha for Ridge regression\n",
        "gscv_ridge = GridSearchCV(pipeline_ridge, alphas, cv=5, scoring='r2')\n",
        "gscv_ridge.fit(X_num_five, y)\n",
        "\n",
        "# Extracting the best alpha and score from GridSearchCV results\n",
        "best_alpha = gscv_ridge.best_params_['ridge_regressor__alpha']\n",
        "best_score = gscv_ridge.best_score_\n",
        "\n",
        "# Printing the best alpha found by GridSearchCV\n",
        "print(f\"Best alpha: {best_alpha}\")\n"
      ]
    },
    {
      "cell_type": "code",
      "execution_count": 44,
      "metadata": {
        "colab": {
          "base_uri": "https://localhost:8080/"
        },
        "id": "ckN7htJnnyDT",
        "outputId": "823ee0bf-10f2-468a-a610-f26b536fe626"
      },
      "outputs": [
        {
          "name": "stdout",
          "output_type": "stream",
          "text": [
            "MSE for Ridge Regression Test Set: 120191.10694604309\n",
            "MSE for Ridge Regression Cross Validation: 122959.39641417826\n"
          ]
        }
      ],
      "source": [
        "# Fitting the Ridge regression model with training data\n",
        "pipeline_ridge.fit(X_train, y_train)\n",
        "\n",
        "# Setting the alpha value for Ridge regression\n",
        "pipeline_ridge.set_params(ridge_regressor__alpha=10)  # Changed to reflect step name in pipeline\n",
        "\n",
        "# Evaluating the model using Mean Squared Error (MSE) on test data\n",
        "get_mse(pipeline_ridge, X_test, X_num_five, y, \"Ridge\")\n"
      ]
    },
    {
      "cell_type": "code",
      "execution_count": 45,
      "metadata": {
        "colab": {
          "base_uri": "https://localhost:8080/"
        },
        "id": "Jy9xLtgloDlA",
        "outputId": "d1a9ee8f-66de-4eeb-c709-678ea87e5be5"
      },
      "outputs": [
        {
          "name": "stdout",
          "output_type": "stream",
          "text": [
            "Best alpha: 10\n"
          ]
        }
      ],
      "source": [
        "# Defining alpha values to test for Lasso regression\n",
        "lasso_alphas = {'lasso_regressor__alpha': alpha_values}  # Changed to reflect step name in pipeline\n",
        "\n",
        "# Performing GridSearchCV to find the best alpha for Lasso regression\n",
        "gscv_lasso = GridSearchCV(pipeline_lasso, lasso_alphas, cv=5, scoring='r2')\n",
        "gscv_lasso.fit(X_num_five, y)\n",
        "\n",
        "# Extracting the best alpha and score from GridSearchCV results\n",
        "best_alpha = gscv_lasso.best_params_['lasso_regressor__alpha']  # Changed to match step name\n",
        "best_score = gscv_lasso.best_score_\n",
        "\n",
        "# Printing the best alpha found\n",
        "print(f\"Best alpha: {best_alpha}\")\n"
      ]
    },
    {
      "cell_type": "code",
      "execution_count": 46,
      "metadata": {
        "colab": {
          "base_uri": "https://localhost:8080/"
        },
        "id": "F07By7A4oXn9",
        "outputId": "faeb454b-64c2-4c2f-c0ee-7541ca54124a"
      },
      "outputs": [
        {
          "name": "stdout",
          "output_type": "stream",
          "text": [
            "MSE for Lasso Regression Test Set: 124087.72867591973\n",
            "MSE for Lasso Regression Cross Validation: 123207.14980192028\n"
          ]
        }
      ],
      "source": [
        "# Fitting the pipeline with the training data for Lasso regression\n",
        "pipeline_lasso.fit(X_train, y_train)\n",
        "\n",
        "# Setting the alpha parameter for Lasso regression to 10\n",
        "pipeline_lasso.set_params(lasso_regressor__alpha=10)  # Updated to match step name in pipeline\n",
        "\n",
        "# Evaluating the model using MSE on the test set\n",
        "get_mse(pipeline_lasso, X_test, X_num_five, y, \"Lasso\")  # Checking performance of Lasso model\n"
      ]
    },
    {
      "cell_type": "code",
      "execution_count": 47,
      "metadata": {
        "colab": {
          "base_uri": "https://localhost:8080/"
        },
        "id": "zze8Kh35oddp",
        "outputId": "9c377a38-98fb-4da9-db99-a41660e37792"
      },
      "outputs": [
        {
          "name": "stderr",
          "output_type": "stream",
          "text": [
            "/usr/local/lib/python3.10/dist-packages/sklearn/linear_model/_coordinate_descent.py:697: ConvergenceWarning: Objective did not converge. You might want to increase the number of iterations, check the scale of the features or consider increasing regularisation. Duality gap: 1.305e+07, tolerance: 4.708e+03 Linear regression models with null weight for the l1 regularization term are more efficiently fitted using one of the solvers implemented in sklearn.linear_model.Ridge/RidgeCV instead.\n",
            "  model = cd_fast.enet_coordinate_descent(\n",
            "/usr/local/lib/python3.10/dist-packages/sklearn/linear_model/_coordinate_descent.py:697: ConvergenceWarning: Objective did not converge. You might want to increase the number of iterations, check the scale of the features or consider increasing regularisation. Duality gap: 1.038e+07, tolerance: 3.606e+03 Linear regression models with null weight for the l1 regularization term are more efficiently fitted using one of the solvers implemented in sklearn.linear_model.Ridge/RidgeCV instead.\n",
            "  model = cd_fast.enet_coordinate_descent(\n",
            "/usr/local/lib/python3.10/dist-packages/sklearn/linear_model/_coordinate_descent.py:697: ConvergenceWarning: Objective did not converge. You might want to increase the number of iterations, check the scale of the features or consider increasing regularisation. Duality gap: 1.220e+07, tolerance: 4.137e+03 Linear regression models with null weight for the l1 regularization term are more efficiently fitted using one of the solvers implemented in sklearn.linear_model.Ridge/RidgeCV instead.\n",
            "  model = cd_fast.enet_coordinate_descent(\n",
            "/usr/local/lib/python3.10/dist-packages/sklearn/linear_model/_coordinate_descent.py:697: ConvergenceWarning: Objective did not converge. You might want to increase the number of iterations, check the scale of the features or consider increasing regularisation. Duality gap: 9.350e+06, tolerance: 4.281e+03 Linear regression models with null weight for the l1 regularization term are more efficiently fitted using one of the solvers implemented in sklearn.linear_model.Ridge/RidgeCV instead.\n",
            "  model = cd_fast.enet_coordinate_descent(\n",
            "/usr/local/lib/python3.10/dist-packages/sklearn/linear_model/_coordinate_descent.py:697: ConvergenceWarning: Objective did not converge. You might want to increase the number of iterations, check the scale of the features or consider increasing regularisation. Duality gap: 1.174e+07, tolerance: 4.558e+03 Linear regression models with null weight for the l1 regularization term are more efficiently fitted using one of the solvers implemented in sklearn.linear_model.Ridge/RidgeCV instead.\n",
            "  model = cd_fast.enet_coordinate_descent(\n",
            "/usr/local/lib/python3.10/dist-packages/sklearn/linear_model/_coordinate_descent.py:697: ConvergenceWarning: Objective did not converge. You might want to increase the number of iterations, check the scale of the features or consider increasing regularisation. Duality gap: 1.306e+07, tolerance: 4.708e+03 Linear regression models with null weight for the l1 regularization term are more efficiently fitted using one of the solvers implemented in sklearn.linear_model.Ridge/RidgeCV instead.\n",
            "  model = cd_fast.enet_coordinate_descent(\n",
            "/usr/local/lib/python3.10/dist-packages/sklearn/linear_model/_coordinate_descent.py:697: ConvergenceWarning: Objective did not converge. You might want to increase the number of iterations, check the scale of the features or consider increasing regularisation. Duality gap: 1.039e+07, tolerance: 3.606e+03 Linear regression models with null weight for the l1 regularization term are more efficiently fitted using one of the solvers implemented in sklearn.linear_model.Ridge/RidgeCV instead.\n",
            "  model = cd_fast.enet_coordinate_descent(\n",
            "/usr/local/lib/python3.10/dist-packages/sklearn/linear_model/_coordinate_descent.py:697: ConvergenceWarning: Objective did not converge. You might want to increase the number of iterations, check the scale of the features or consider increasing regularisation. Duality gap: 1.221e+07, tolerance: 4.137e+03 Linear regression models with null weight for the l1 regularization term are more efficiently fitted using one of the solvers implemented in sklearn.linear_model.Ridge/RidgeCV instead.\n",
            "  model = cd_fast.enet_coordinate_descent(\n",
            "/usr/local/lib/python3.10/dist-packages/sklearn/linear_model/_coordinate_descent.py:697: ConvergenceWarning: Objective did not converge. You might want to increase the number of iterations, check the scale of the features or consider increasing regularisation. Duality gap: 9.357e+06, tolerance: 4.281e+03 Linear regression models with null weight for the l1 regularization term are more efficiently fitted using one of the solvers implemented in sklearn.linear_model.Ridge/RidgeCV instead.\n",
            "  model = cd_fast.enet_coordinate_descent(\n",
            "/usr/local/lib/python3.10/dist-packages/sklearn/linear_model/_coordinate_descent.py:697: ConvergenceWarning: Objective did not converge. You might want to increase the number of iterations, check the scale of the features or consider increasing regularisation. Duality gap: 1.175e+07, tolerance: 4.558e+03 Linear regression models with null weight for the l1 regularization term are more efficiently fitted using one of the solvers implemented in sklearn.linear_model.Ridge/RidgeCV instead.\n",
            "  model = cd_fast.enet_coordinate_descent(\n",
            "/usr/local/lib/python3.10/dist-packages/sklearn/linear_model/_coordinate_descent.py:697: ConvergenceWarning: Objective did not converge. You might want to increase the number of iterations, check the scale of the features or consider increasing regularisation. Duality gap: 1.313e+07, tolerance: 4.708e+03 Linear regression models with null weight for the l1 regularization term are more efficiently fitted using one of the solvers implemented in sklearn.linear_model.Ridge/RidgeCV instead.\n",
            "  model = cd_fast.enet_coordinate_descent(\n",
            "/usr/local/lib/python3.10/dist-packages/sklearn/linear_model/_coordinate_descent.py:697: ConvergenceWarning: Objective did not converge. You might want to increase the number of iterations, check the scale of the features or consider increasing regularisation. Duality gap: 1.043e+07, tolerance: 3.606e+03 Linear regression models with null weight for the l1 regularization term are more efficiently fitted using one of the solvers implemented in sklearn.linear_model.Ridge/RidgeCV instead.\n",
            "  model = cd_fast.enet_coordinate_descent(\n",
            "/usr/local/lib/python3.10/dist-packages/sklearn/linear_model/_coordinate_descent.py:697: ConvergenceWarning: Objective did not converge. You might want to increase the number of iterations, check the scale of the features or consider increasing regularisation. Duality gap: 1.223e+07, tolerance: 4.137e+03 Linear regression models with null weight for the l1 regularization term are more efficiently fitted using one of the solvers implemented in sklearn.linear_model.Ridge/RidgeCV instead.\n",
            "  model = cd_fast.enet_coordinate_descent(\n",
            "/usr/local/lib/python3.10/dist-packages/sklearn/linear_model/_coordinate_descent.py:697: ConvergenceWarning: Objective did not converge. You might want to increase the number of iterations, check the scale of the features or consider increasing regularisation. Duality gap: 9.417e+06, tolerance: 4.281e+03 Linear regression models with null weight for the l1 regularization term are more efficiently fitted using one of the solvers implemented in sklearn.linear_model.Ridge/RidgeCV instead.\n",
            "  model = cd_fast.enet_coordinate_descent(\n",
            "/usr/local/lib/python3.10/dist-packages/sklearn/linear_model/_coordinate_descent.py:697: ConvergenceWarning: Objective did not converge. You might want to increase the number of iterations, check the scale of the features or consider increasing regularisation. Duality gap: 1.183e+07, tolerance: 4.558e+03 Linear regression models with null weight for the l1 regularization term are more efficiently fitted using one of the solvers implemented in sklearn.linear_model.Ridge/RidgeCV instead.\n",
            "  model = cd_fast.enet_coordinate_descent(\n",
            "/usr/local/lib/python3.10/dist-packages/sklearn/linear_model/_coordinate_descent.py:697: ConvergenceWarning: Objective did not converge. You might want to increase the number of iterations, check the scale of the features or consider increasing regularisation. Duality gap: 1.350e+07, tolerance: 4.708e+03 Linear regression models with null weight for the l1 regularization term are more efficiently fitted using one of the solvers implemented in sklearn.linear_model.Ridge/RidgeCV instead.\n",
            "  model = cd_fast.enet_coordinate_descent(\n",
            "/usr/local/lib/python3.10/dist-packages/sklearn/linear_model/_coordinate_descent.py:697: ConvergenceWarning: Objective did not converge. You might want to increase the number of iterations, check the scale of the features or consider increasing regularisation. Duality gap: 1.063e+07, tolerance: 3.606e+03 Linear regression models with null weight for the l1 regularization term are more efficiently fitted using one of the solvers implemented in sklearn.linear_model.Ridge/RidgeCV instead.\n",
            "  model = cd_fast.enet_coordinate_descent(\n",
            "/usr/local/lib/python3.10/dist-packages/sklearn/linear_model/_coordinate_descent.py:697: ConvergenceWarning: Objective did not converge. You might want to increase the number of iterations, check the scale of the features or consider increasing regularisation. Duality gap: 1.235e+07, tolerance: 4.137e+03 Linear regression models with null weight for the l1 regularization term are more efficiently fitted using one of the solvers implemented in sklearn.linear_model.Ridge/RidgeCV instead.\n",
            "  model = cd_fast.enet_coordinate_descent(\n",
            "/usr/local/lib/python3.10/dist-packages/sklearn/linear_model/_coordinate_descent.py:697: ConvergenceWarning: Objective did not converge. You might want to increase the number of iterations, check the scale of the features or consider increasing regularisation. Duality gap: 9.699e+06, tolerance: 4.281e+03 Linear regression models with null weight for the l1 regularization term are more efficiently fitted using one of the solvers implemented in sklearn.linear_model.Ridge/RidgeCV instead.\n",
            "  model = cd_fast.enet_coordinate_descent(\n",
            "/usr/local/lib/python3.10/dist-packages/sklearn/linear_model/_coordinate_descent.py:697: ConvergenceWarning: Objective did not converge. You might want to increase the number of iterations, check the scale of the features or consider increasing regularisation. Duality gap: 1.224e+07, tolerance: 4.558e+03 Linear regression models with null weight for the l1 regularization term are more efficiently fitted using one of the solvers implemented in sklearn.linear_model.Ridge/RidgeCV instead.\n",
            "  model = cd_fast.enet_coordinate_descent(\n",
            "/usr/local/lib/python3.10/dist-packages/sklearn/linear_model/_coordinate_descent.py:697: ConvergenceWarning: Objective did not converge. You might want to increase the number of iterations, check the scale of the features or consider increasing regularisation. Duality gap: 1.384e+07, tolerance: 4.708e+03 Linear regression models with null weight for the l1 regularization term are more efficiently fitted using one of the solvers implemented in sklearn.linear_model.Ridge/RidgeCV instead.\n",
            "  model = cd_fast.enet_coordinate_descent(\n",
            "/usr/local/lib/python3.10/dist-packages/sklearn/linear_model/_coordinate_descent.py:697: ConvergenceWarning: Objective did not converge. You might want to increase the number of iterations, check the scale of the features or consider increasing regularisation. Duality gap: 1.082e+07, tolerance: 3.606e+03 Linear regression models with null weight for the l1 regularization term are more efficiently fitted using one of the solvers implemented in sklearn.linear_model.Ridge/RidgeCV instead.\n",
            "  model = cd_fast.enet_coordinate_descent(\n",
            "/usr/local/lib/python3.10/dist-packages/sklearn/linear_model/_coordinate_descent.py:697: ConvergenceWarning: Objective did not converge. You might want to increase the number of iterations, check the scale of the features or consider increasing regularisation. Duality gap: 1.247e+07, tolerance: 4.137e+03 Linear regression models with null weight for the l1 regularization term are more efficiently fitted using one of the solvers implemented in sklearn.linear_model.Ridge/RidgeCV instead.\n",
            "  model = cd_fast.enet_coordinate_descent(\n",
            "/usr/local/lib/python3.10/dist-packages/sklearn/linear_model/_coordinate_descent.py:697: ConvergenceWarning: Objective did not converge. You might want to increase the number of iterations, check the scale of the features or consider increasing regularisation. Duality gap: 9.957e+06, tolerance: 4.281e+03 Linear regression models with null weight for the l1 regularization term are more efficiently fitted using one of the solvers implemented in sklearn.linear_model.Ridge/RidgeCV instead.\n",
            "  model = cd_fast.enet_coordinate_descent(\n",
            "/usr/local/lib/python3.10/dist-packages/sklearn/linear_model/_coordinate_descent.py:697: ConvergenceWarning: Objective did not converge. You might want to increase the number of iterations, check the scale of the features or consider increasing regularisation. Duality gap: 1.264e+07, tolerance: 4.558e+03 Linear regression models with null weight for the l1 regularization term are more efficiently fitted using one of the solvers implemented in sklearn.linear_model.Ridge/RidgeCV instead.\n",
            "  model = cd_fast.enet_coordinate_descent(\n"
          ]
        },
        {
          "name": "stdout",
          "output_type": "stream",
          "text": [
            "Best alpha: 1\n",
            "Best l1_ratio: 0.25\n"
          ]
        }
      ],
      "source": [
        "# Defining the hyperparameters for ElasticNet (alpha and l1_ratio) for GridSearchCV\n",
        "params = {\n",
        "    \"elastic__alpha\": [0.001, 0.01, 0.1, 1, 10],\n",
        "    \"elastic__l1_ratio\": [0.0, 0.25, 0.5, 0.75, 1.0]\n",
        "}\n",
        "\n",
        "# Setting up GridSearchCV for ElasticNet model to tune hyperparameters\n",
        "gscv_elastic = GridSearchCV(pipeline_elastic, params, cv=5, scoring='r2')\n",
        "\n",
        "# Fitting the GridSearchCV to find the best alpha and l1_ratio\n",
        "gscv_elastic.fit(X_num_five, y)\n",
        "\n",
        "# Extracting the best hyperparameters and score from GridSearchCV\n",
        "best_alpha = gscv_elastic.best_params_['elastic__alpha']\n",
        "best_l1_ratio = gscv_elastic.best_params_['elastic__l1_ratio']\n",
        "best_score = gscv_elastic.best_score_\n",
        "\n",
        "# Printing the best hyperparameters and the best R-squared score\n",
        "print(f\"Best alpha: {best_alpha}\")\n",
        "print(f\"Best l1_ratio: {best_l1_ratio}\")\n"
      ]
    },
    {
      "cell_type": "code",
      "execution_count": 48,
      "metadata": {
        "colab": {
          "base_uri": "https://localhost:8080/"
        },
        "id": "6YHmmcCrormY",
        "outputId": "8ea453f3-0033-4778-9d4b-e3da637d30f7"
      },
      "outputs": [
        {
          "name": "stdout",
          "output_type": "stream",
          "text": [
            "MSE for Elastic Net Regression Test Set: 119880.09051844002\n",
            "MSE for Elastic Net Regression Cross Validation: 122783.36572450078\n"
          ]
        },
        {
          "name": "stderr",
          "output_type": "stream",
          "text": [
            "/usr/local/lib/python3.10/dist-packages/sklearn/linear_model/_coordinate_descent.py:697: ConvergenceWarning: Objective did not converge. You might want to increase the number of iterations, check the scale of the features or consider increasing regularisation. Duality gap: 3.693e+06, tolerance: 9.586e+02 Linear regression models with null weight for the l1 regularization term are more efficiently fitted using one of the solvers implemented in sklearn.linear_model.Ridge/RidgeCV instead.\n",
            "  model = cd_fast.enet_coordinate_descent(\n"
          ]
        }
      ],
      "source": [
        "# Fitting the ElasticNet model with the best hyperparameters (alpha=1, l1_ratio=0.75)\n",
        "pipeline_elastic.fit(X_train, y_train)\n",
        "\n",
        "# Setting the specific hyperparameters for the ElasticNet model\n",
        "pipeline_elastic.set_params(elastic__alpha=1, elastic__l1_ratio=0.75)\n",
        "\n",
        "# Evaluating the model's performance using MSE on the test set\n",
        "get_mse(pipeline_elastic, X_test, X_num_five, y, \"Elastic Net\")\n"
      ]
    },
    {
      "cell_type": "markdown",
      "metadata": {
        "id": "XLi624qQpv3_"
      },
      "source": [
        " five best numeric variables and their interactions with the one best categorical variable."
      ]
    },
    {
      "cell_type": "code",
      "execution_count": 54,
      "metadata": {
        "colab": {
          "base_uri": "https://localhost:8080/"
        },
        "id": "Ixf9ySKbqVFu",
        "outputId": "0ba2b7ad-8cad-457f-ab93-612045762691"
      },
      "outputs": [
        {
          "name": "stdout",
          "output_type": "stream",
          "text": [
            "Index(['PutOuts', 'Hits', 'CRBI', 'CHits', 'CRuns', 'Division'], dtype='object')\n"
          ]
        }
      ],
      "source": [
        "print(X_inter.columns)\n"
      ]
    },
    {
      "cell_type": "code",
      "execution_count": 60,
      "metadata": {
        "colab": {
          "base_uri": "https://localhost:8080/"
        },
        "id": "ntCWhk4tpvPI",
        "outputId": "3f389606-8e91-4272-9c04-839987b4ad0b"
      },
      "outputs": [
        {
          "name": "stdout",
          "output_type": "stream",
          "text": [
            "MSE for Linear Regression Test Set: 136948.18541764913\n",
            "MSE for Linear Regression Cross Validation: 253423.18597099194\n"
          ]
        }
      ],
      "source": [
        "# Selecting the 5 most important numerical features and the best categorical variable (Division)\n",
        "X_inter = X[['PutOuts', 'Hits', 'CRBI', 'CHits', 'CRuns', 'Division']]\n",
        "\n",
        "# Splitting the dataset into training and testing sets (80% for training, 20% for testing)\n",
        "X_train, X_test, y_train, y_test = train_test_split(X_inter, y, train_size=0.8, random_state=42)\n",
        "\n",
        "# **Recreate the ColumnTransformer with the new columns**\n",
        "# Assuming your numerical features are 'PutOuts', 'Hits', 'CRBI', 'CHits', 'CRuns'\n",
        "# and your categorical feature is 'Division'\n",
        "num_features = ['PutOuts', 'Hits', 'CRBI', 'CHits', 'CRuns']\n",
        "cat_features = ['Division']\n",
        "\n",
        "ct = ColumnTransformer(\n",
        "    transformers=[\n",
        "        ('num', StandardScaler(), num_features),\n",
        "        ('cat', OneHotEncoder(sparse_output=False, handle_unknown='ignore'), cat_features)\n",
        "    ],\n",
        "    remainder='passthrough'  # or 'drop' if you want to drop other columns\n",
        ")\n",
        "\n",
        "# Creating a pipeline for Linear Regression with polynomial feature interactions\n",
        "pipeline_lr_inter = Pipeline(\n",
        "    [(\"preprocessing\", ct),  # Preprocessing step using the updated ct\n",
        "     (\"interaction\", PolynomialFeatures(interaction_only=True, include_bias=False)),  # Adding interactions\n",
        "     (\"lr\", LinearRegression())]  # Linear Regression model\n",
        ")\n",
        "\n",
        "# Fitting the model to the training data\n",
        "pipeline_lr_inter.fit(X_train, y_train)\n",
        "\n",
        "# Evaluating the model on the test set using MSE\n",
        "get_mse(pipeline_lr_inter, X_test, X_inter, y, \"Linear\")"
      ]
    },
    {
      "cell_type": "code",
      "execution_count": 61,
      "metadata": {
        "colab": {
          "base_uri": "https://localhost:8080/"
        },
        "id": "fjGWXfXesQRh",
        "outputId": "09f85f4d-42e2-4cc5-8b00-bb958aa77aaf"
      },
      "outputs": [
        {
          "name": "stdout",
          "output_type": "stream",
          "text": [
            "Best alpha: 10\n",
            "Best R^2 score: 0.13594695305029209\n"
          ]
        }
      ],
      "source": [
        "# Ridge regression pipeline with interaction features\n",
        "pipeline_ridge_inter = Pipeline(\n",
        "    [(\"preprocessing\", ct),  # Preprocessing step with ColumnTransformer\n",
        "     (\"interaction\", PolynomialFeatures(interaction_only=True, include_bias=False)),  # Generate interaction terms\n",
        "     (\"ridge\", Ridge())]  # Ridge regression step\n",
        ")\n",
        "\n",
        "# Define alpha values for hyperparameter tuning\n",
        "alpha_values = [0.001, 0.01, 0.1, 1, 10]  # Add your desired alpha values here\n",
        "\n",
        "# Perform GridSearchCV to find the best alpha\n",
        "gscv = GridSearchCV(pipeline_ridge_inter, {'ridge__alpha': alpha_values}, cv=5, scoring='r2')\n",
        "gscv.fit(X_inter, y)\n",
        "\n",
        "# Extracting the best alpha and best score from the grid search\n",
        "best_alpha = gscv.best_params_['ridge__alpha']\n",
        "best_score = gscv.best_score_\n",
        "\n",
        "# Output the best alpha and score\n",
        "print(f\"Best alpha: {best_alpha}\")\n",
        "print(f\"Best R^2 score: {best_score}\")\n"
      ]
    },
    {
      "cell_type": "code",
      "execution_count": 62,
      "metadata": {
        "colab": {
          "base_uri": "https://localhost:8080/"
        },
        "id": "RVzzicNlsWN1",
        "outputId": "58bf6204-1dc0-440f-84eb-96f4d9195ec6"
      },
      "outputs": [
        {
          "name": "stdout",
          "output_type": "stream",
          "text": [
            "MSE for Ridge Regression Test Set: 135348.08516665068\n",
            "MSE for Ridge Regression Cross Validation: 163547.46523446304\n"
          ]
        }
      ],
      "source": [
        "# Fit the Ridge regression model with interactions on the training data\n",
        "pipeline_ridge_inter.fit(X_train, y_train)\n",
        "\n",
        "# Set the best alpha value found from GridSearchCV\n",
        "pipeline_ridge_inter.set_params(ridge__alpha=10)\n",
        "\n",
        "# Get and print the Mean Squared Error (MSE) on the test data\n",
        "get_mse(pipeline_ridge_inter, X_test, X_inter, y, \"Ridge\")\n"
      ]
    },
    {
      "cell_type": "code",
      "execution_count": 63,
      "metadata": {
        "colab": {
          "base_uri": "https://localhost:8080/"
        },
        "id": "ii4LJ3UosZlF",
        "outputId": "bf469bde-1f06-4dce-de1e-47252e757966"
      },
      "outputs": [
        {
          "name": "stderr",
          "output_type": "stream",
          "text": [
            "/usr/local/lib/python3.10/dist-packages/sklearn/linear_model/_coordinate_descent.py:697: ConvergenceWarning: Objective did not converge. You might want to increase the number of iterations, check the scale of the features or consider increasing regularisation. Duality gap: 5.583e+06, tolerance: 4.708e+03\n",
            "  model = cd_fast.enet_coordinate_descent(\n",
            "/usr/local/lib/python3.10/dist-packages/sklearn/linear_model/_coordinate_descent.py:697: ConvergenceWarning: Objective did not converge. You might want to increase the number of iterations, check the scale of the features or consider increasing regularisation. Duality gap: 3.944e+06, tolerance: 3.606e+03\n",
            "  model = cd_fast.enet_coordinate_descent(\n",
            "/usr/local/lib/python3.10/dist-packages/sklearn/linear_model/_coordinate_descent.py:697: ConvergenceWarning: Objective did not converge. You might want to increase the number of iterations, check the scale of the features or consider increasing regularisation. Duality gap: 2.850e+06, tolerance: 4.137e+03\n",
            "  model = cd_fast.enet_coordinate_descent(\n",
            "/usr/local/lib/python3.10/dist-packages/sklearn/linear_model/_coordinate_descent.py:697: ConvergenceWarning: Objective did not converge. You might want to increase the number of iterations, check the scale of the features or consider increasing regularisation. Duality gap: 1.534e+06, tolerance: 4.281e+03\n",
            "  model = cd_fast.enet_coordinate_descent(\n",
            "/usr/local/lib/python3.10/dist-packages/sklearn/linear_model/_coordinate_descent.py:697: ConvergenceWarning: Objective did not converge. You might want to increase the number of iterations, check the scale of the features or consider increasing regularisation. Duality gap: 2.481e+06, tolerance: 4.558e+03\n",
            "  model = cd_fast.enet_coordinate_descent(\n",
            "/usr/local/lib/python3.10/dist-packages/sklearn/linear_model/_coordinate_descent.py:697: ConvergenceWarning: Objective did not converge. You might want to increase the number of iterations, check the scale of the features or consider increasing regularisation. Duality gap: 2.281e+06, tolerance: 4.708e+03\n",
            "  model = cd_fast.enet_coordinate_descent(\n",
            "/usr/local/lib/python3.10/dist-packages/sklearn/linear_model/_coordinate_descent.py:697: ConvergenceWarning: Objective did not converge. You might want to increase the number of iterations, check the scale of the features or consider increasing regularisation. Duality gap: 3.905e+06, tolerance: 3.606e+03\n",
            "  model = cd_fast.enet_coordinate_descent(\n",
            "/usr/local/lib/python3.10/dist-packages/sklearn/linear_model/_coordinate_descent.py:697: ConvergenceWarning: Objective did not converge. You might want to increase the number of iterations, check the scale of the features or consider increasing regularisation. Duality gap: 2.306e+06, tolerance: 4.137e+03\n",
            "  model = cd_fast.enet_coordinate_descent(\n",
            "/usr/local/lib/python3.10/dist-packages/sklearn/linear_model/_coordinate_descent.py:697: ConvergenceWarning: Objective did not converge. You might want to increase the number of iterations, check the scale of the features or consider increasing regularisation. Duality gap: 1.464e+06, tolerance: 4.281e+03\n",
            "  model = cd_fast.enet_coordinate_descent(\n",
            "/usr/local/lib/python3.10/dist-packages/sklearn/linear_model/_coordinate_descent.py:697: ConvergenceWarning: Objective did not converge. You might want to increase the number of iterations, check the scale of the features or consider increasing regularisation. Duality gap: 2.619e+06, tolerance: 4.558e+03\n",
            "  model = cd_fast.enet_coordinate_descent(\n",
            "/usr/local/lib/python3.10/dist-packages/sklearn/linear_model/_coordinate_descent.py:697: ConvergenceWarning: Objective did not converge. You might want to increase the number of iterations, check the scale of the features or consider increasing regularisation. Duality gap: 2.747e+06, tolerance: 4.708e+03\n",
            "  model = cd_fast.enet_coordinate_descent(\n",
            "/usr/local/lib/python3.10/dist-packages/sklearn/linear_model/_coordinate_descent.py:697: ConvergenceWarning: Objective did not converge. You might want to increase the number of iterations, check the scale of the features or consider increasing regularisation. Duality gap: 2.823e+06, tolerance: 3.606e+03\n",
            "  model = cd_fast.enet_coordinate_descent(\n",
            "/usr/local/lib/python3.10/dist-packages/sklearn/linear_model/_coordinate_descent.py:697: ConvergenceWarning: Objective did not converge. You might want to increase the number of iterations, check the scale of the features or consider increasing regularisation. Duality gap: 2.734e+06, tolerance: 4.137e+03\n",
            "  model = cd_fast.enet_coordinate_descent(\n",
            "/usr/local/lib/python3.10/dist-packages/sklearn/linear_model/_coordinate_descent.py:697: ConvergenceWarning: Objective did not converge. You might want to increase the number of iterations, check the scale of the features or consider increasing regularisation. Duality gap: 1.560e+06, tolerance: 4.281e+03\n",
            "  model = cd_fast.enet_coordinate_descent(\n",
            "/usr/local/lib/python3.10/dist-packages/sklearn/linear_model/_coordinate_descent.py:697: ConvergenceWarning: Objective did not converge. You might want to increase the number of iterations, check the scale of the features or consider increasing regularisation. Duality gap: 1.978e+06, tolerance: 4.558e+03\n",
            "  model = cd_fast.enet_coordinate_descent(\n"
          ]
        },
        {
          "name": "stdout",
          "output_type": "stream",
          "text": [
            "Best alpha: 10\n",
            "Best score: 0.22397785569502524\n"
          ]
        }
      ],
      "source": [
        "# Set up the pipeline with preprocessing, interaction terms, and Lasso regression\n",
        "pipeline_lasso_inter = Pipeline(\n",
        "    [(\"preprocessing\", ct),\n",
        "     (\"interaction\", PolynomialFeatures(interaction_only=True, include_bias=False)),\n",
        "     (\"lasso\", Lasso())]\n",
        ")\n",
        "\n",
        "# Set the range of alpha values to test\n",
        "alphas = {'lasso__alpha': alpha_values}\n",
        "\n",
        "# Perform GridSearchCV to find the best alpha\n",
        "gscv = GridSearchCV(pipeline_lasso_inter, alphas, cv=5, scoring='r2')\n",
        "gscv.fit(X_inter, y)\n",
        "\n",
        "# Extracting the best alpha and best score from GridSearchCV results\n",
        "best_alpha = gscv.best_params_['lasso__alpha']\n",
        "best_score = gscv.best_score_\n",
        "\n",
        "# Print the best alpha and the best R-squared score found\n",
        "print(f\"Best alpha: {best_alpha}\")\n",
        "print(f\"Best score: {best_score}\")\n"
      ]
    },
    {
      "cell_type": "code",
      "execution_count": 64,
      "metadata": {
        "colab": {
          "base_uri": "https://localhost:8080/"
        },
        "id": "pFgDozmetPE5",
        "outputId": "e27d0ffc-e93b-4881-e59c-227d94d53596"
      },
      "outputs": [
        {
          "name": "stdout",
          "output_type": "stream",
          "text": [
            "MSE for Lasso Regression Test Set: 135264.94956492292\n",
            "MSE for Lasso Regression Cross Validation: 232003.73335888912\n"
          ]
        },
        {
          "name": "stderr",
          "output_type": "stream",
          "text": [
            "/usr/local/lib/python3.10/dist-packages/sklearn/linear_model/_coordinate_descent.py:697: ConvergenceWarning: Objective did not converge. You might want to increase the number of iterations, check the scale of the features or consider increasing regularisation. Duality gap: 7.140e+03, tolerance: 4.367e+03\n",
            "  model = cd_fast.enet_coordinate_descent(\n"
          ]
        }
      ],
      "source": [
        "# Fit the pipeline with training data\n",
        "pipeline_lasso_inter.fit(X_train, y_train)\n",
        "\n",
        "# Set the alpha value for Lasso manually\n",
        "pipeline_lasso_inter.set_params(lasso__alpha=1)\n",
        "\n",
        "# Evaluate the model performance on the test set and print MSE\n",
        "get_mse(pipeline_lasso_inter, X_test, X_inter, y, \"Lasso\")\n"
      ]
    },
    {
      "cell_type": "code",
      "execution_count": 65,
      "metadata": {
        "colab": {
          "base_uri": "https://localhost:8080/"
        },
        "id": "dtxY8s_UtYpZ",
        "outputId": "79f95032-f73c-4b8c-d05b-95220a6ae4c6"
      },
      "outputs": [
        {
          "name": "stderr",
          "output_type": "stream",
          "text": [
            "/usr/local/lib/python3.10/dist-packages/sklearn/linear_model/_coordinate_descent.py:697: ConvergenceWarning: Objective did not converge. You might want to increase the number of iterations, check the scale of the features or consider increasing regularisation. Duality gap: 8.169e+06, tolerance: 4.708e+03 Linear regression models with null weight for the l1 regularization term are more efficiently fitted using one of the solvers implemented in sklearn.linear_model.Ridge/RidgeCV instead.\n",
            "  model = cd_fast.enet_coordinate_descent(\n",
            "/usr/local/lib/python3.10/dist-packages/sklearn/linear_model/_coordinate_descent.py:697: ConvergenceWarning: Objective did not converge. You might want to increase the number of iterations, check the scale of the features or consider increasing regularisation. Duality gap: 7.471e+06, tolerance: 3.606e+03 Linear regression models with null weight for the l1 regularization term are more efficiently fitted using one of the solvers implemented in sklearn.linear_model.Ridge/RidgeCV instead.\n",
            "  model = cd_fast.enet_coordinate_descent(\n",
            "/usr/local/lib/python3.10/dist-packages/sklearn/linear_model/_coordinate_descent.py:697: ConvergenceWarning: Objective did not converge. You might want to increase the number of iterations, check the scale of the features or consider increasing regularisation. Duality gap: 8.295e+06, tolerance: 4.137e+03 Linear regression models with null weight for the l1 regularization term are more efficiently fitted using one of the solvers implemented in sklearn.linear_model.Ridge/RidgeCV instead.\n",
            "  model = cd_fast.enet_coordinate_descent(\n",
            "/usr/local/lib/python3.10/dist-packages/sklearn/linear_model/_coordinate_descent.py:697: ConvergenceWarning: Objective did not converge. You might want to increase the number of iterations, check the scale of the features or consider increasing regularisation. Duality gap: 5.193e+06, tolerance: 4.281e+03 Linear regression models with null weight for the l1 regularization term are more efficiently fitted using one of the solvers implemented in sklearn.linear_model.Ridge/RidgeCV instead.\n",
            "  model = cd_fast.enet_coordinate_descent(\n",
            "/usr/local/lib/python3.10/dist-packages/sklearn/linear_model/_coordinate_descent.py:697: ConvergenceWarning: Objective did not converge. You might want to increase the number of iterations, check the scale of the features or consider increasing regularisation. Duality gap: 7.894e+06, tolerance: 4.558e+03 Linear regression models with null weight for the l1 regularization term are more efficiently fitted using one of the solvers implemented in sklearn.linear_model.Ridge/RidgeCV instead.\n",
            "  model = cd_fast.enet_coordinate_descent(\n",
            "/usr/local/lib/python3.10/dist-packages/sklearn/linear_model/_coordinate_descent.py:697: ConvergenceWarning: Objective did not converge. You might want to increase the number of iterations, check the scale of the features or consider increasing regularisation. Duality gap: 8.084e+06, tolerance: 4.708e+03\n",
            "  model = cd_fast.enet_coordinate_descent(\n",
            "/usr/local/lib/python3.10/dist-packages/sklearn/linear_model/_coordinate_descent.py:697: ConvergenceWarning: Objective did not converge. You might want to increase the number of iterations, check the scale of the features or consider increasing regularisation. Duality gap: 7.370e+06, tolerance: 3.606e+03\n",
            "  model = cd_fast.enet_coordinate_descent(\n",
            "/usr/local/lib/python3.10/dist-packages/sklearn/linear_model/_coordinate_descent.py:697: ConvergenceWarning: Objective did not converge. You might want to increase the number of iterations, check the scale of the features or consider increasing regularisation. Duality gap: 8.228e+06, tolerance: 4.137e+03\n",
            "  model = cd_fast.enet_coordinate_descent(\n",
            "/usr/local/lib/python3.10/dist-packages/sklearn/linear_model/_coordinate_descent.py:697: ConvergenceWarning: Objective did not converge. You might want to increase the number of iterations, check the scale of the features or consider increasing regularisation. Duality gap: 5.144e+06, tolerance: 4.281e+03\n",
            "  model = cd_fast.enet_coordinate_descent(\n",
            "/usr/local/lib/python3.10/dist-packages/sklearn/linear_model/_coordinate_descent.py:697: ConvergenceWarning: Objective did not converge. You might want to increase the number of iterations, check the scale of the features or consider increasing regularisation. Duality gap: 7.786e+06, tolerance: 4.558e+03\n",
            "  model = cd_fast.enet_coordinate_descent(\n",
            "/usr/local/lib/python3.10/dist-packages/sklearn/linear_model/_coordinate_descent.py:697: ConvergenceWarning: Objective did not converge. You might want to increase the number of iterations, check the scale of the features or consider increasing regularisation. Duality gap: 8.000e+06, tolerance: 4.708e+03\n",
            "  model = cd_fast.enet_coordinate_descent(\n",
            "/usr/local/lib/python3.10/dist-packages/sklearn/linear_model/_coordinate_descent.py:697: ConvergenceWarning: Objective did not converge. You might want to increase the number of iterations, check the scale of the features or consider increasing regularisation. Duality gap: 7.293e+06, tolerance: 3.606e+03\n",
            "  model = cd_fast.enet_coordinate_descent(\n",
            "/usr/local/lib/python3.10/dist-packages/sklearn/linear_model/_coordinate_descent.py:697: ConvergenceWarning: Objective did not converge. You might want to increase the number of iterations, check the scale of the features or consider increasing regularisation. Duality gap: 8.157e+06, tolerance: 4.137e+03\n",
            "  model = cd_fast.enet_coordinate_descent(\n",
            "/usr/local/lib/python3.10/dist-packages/sklearn/linear_model/_coordinate_descent.py:697: ConvergenceWarning: Objective did not converge. You might want to increase the number of iterations, check the scale of the features or consider increasing regularisation. Duality gap: 5.092e+06, tolerance: 4.281e+03\n",
            "  model = cd_fast.enet_coordinate_descent(\n",
            "/usr/local/lib/python3.10/dist-packages/sklearn/linear_model/_coordinate_descent.py:697: ConvergenceWarning: Objective did not converge. You might want to increase the number of iterations, check the scale of the features or consider increasing regularisation. Duality gap: 7.685e+06, tolerance: 4.558e+03\n",
            "  model = cd_fast.enet_coordinate_descent(\n",
            "/usr/local/lib/python3.10/dist-packages/sklearn/linear_model/_coordinate_descent.py:697: ConvergenceWarning: Objective did not converge. You might want to increase the number of iterations, check the scale of the features or consider increasing regularisation. Duality gap: 7.831e+06, tolerance: 4.708e+03\n",
            "  model = cd_fast.enet_coordinate_descent(\n",
            "/usr/local/lib/python3.10/dist-packages/sklearn/linear_model/_coordinate_descent.py:697: ConvergenceWarning: Objective did not converge. You might want to increase the number of iterations, check the scale of the features or consider increasing regularisation. Duality gap: 7.243e+06, tolerance: 3.606e+03\n",
            "  model = cd_fast.enet_coordinate_descent(\n",
            "/usr/local/lib/python3.10/dist-packages/sklearn/linear_model/_coordinate_descent.py:697: ConvergenceWarning: Objective did not converge. You might want to increase the number of iterations, check the scale of the features or consider increasing regularisation. Duality gap: 8.015e+06, tolerance: 4.137e+03\n",
            "  model = cd_fast.enet_coordinate_descent(\n",
            "/usr/local/lib/python3.10/dist-packages/sklearn/linear_model/_coordinate_descent.py:697: ConvergenceWarning: Objective did not converge. You might want to increase the number of iterations, check the scale of the features or consider increasing regularisation. Duality gap: 4.985e+06, tolerance: 4.281e+03\n",
            "  model = cd_fast.enet_coordinate_descent(\n",
            "/usr/local/lib/python3.10/dist-packages/sklearn/linear_model/_coordinate_descent.py:697: ConvergenceWarning: Objective did not converge. You might want to increase the number of iterations, check the scale of the features or consider increasing regularisation. Duality gap: 7.578e+06, tolerance: 4.558e+03\n",
            "  model = cd_fast.enet_coordinate_descent(\n",
            "/usr/local/lib/python3.10/dist-packages/sklearn/linear_model/_coordinate_descent.py:697: ConvergenceWarning: Objective did not converge. You might want to increase the number of iterations, check the scale of the features or consider increasing regularisation. Duality gap: 5.583e+06, tolerance: 4.708e+03\n",
            "  model = cd_fast.enet_coordinate_descent(\n",
            "/usr/local/lib/python3.10/dist-packages/sklearn/linear_model/_coordinate_descent.py:697: ConvergenceWarning: Objective did not converge. You might want to increase the number of iterations, check the scale of the features or consider increasing regularisation. Duality gap: 3.944e+06, tolerance: 3.606e+03\n",
            "  model = cd_fast.enet_coordinate_descent(\n",
            "/usr/local/lib/python3.10/dist-packages/sklearn/linear_model/_coordinate_descent.py:697: ConvergenceWarning: Objective did not converge. You might want to increase the number of iterations, check the scale of the features or consider increasing regularisation. Duality gap: 2.850e+06, tolerance: 4.137e+03\n",
            "  model = cd_fast.enet_coordinate_descent(\n",
            "/usr/local/lib/python3.10/dist-packages/sklearn/linear_model/_coordinate_descent.py:697: ConvergenceWarning: Objective did not converge. You might want to increase the number of iterations, check the scale of the features or consider increasing regularisation. Duality gap: 1.534e+06, tolerance: 4.281e+03\n",
            "  model = cd_fast.enet_coordinate_descent(\n",
            "/usr/local/lib/python3.10/dist-packages/sklearn/linear_model/_coordinate_descent.py:697: ConvergenceWarning: Objective did not converge. You might want to increase the number of iterations, check the scale of the features or consider increasing regularisation. Duality gap: 2.481e+06, tolerance: 4.558e+03\n",
            "  model = cd_fast.enet_coordinate_descent(\n",
            "/usr/local/lib/python3.10/dist-packages/sklearn/linear_model/_coordinate_descent.py:697: ConvergenceWarning: Objective did not converge. You might want to increase the number of iterations, check the scale of the features or consider increasing regularisation. Duality gap: 8.575e+06, tolerance: 4.708e+03 Linear regression models with null weight for the l1 regularization term are more efficiently fitted using one of the solvers implemented in sklearn.linear_model.Ridge/RidgeCV instead.\n",
            "  model = cd_fast.enet_coordinate_descent(\n",
            "/usr/local/lib/python3.10/dist-packages/sklearn/linear_model/_coordinate_descent.py:697: ConvergenceWarning: Objective did not converge. You might want to increase the number of iterations, check the scale of the features or consider increasing regularisation. Duality gap: 7.696e+06, tolerance: 3.606e+03 Linear regression models with null weight for the l1 regularization term are more efficiently fitted using one of the solvers implemented in sklearn.linear_model.Ridge/RidgeCV instead.\n",
            "  model = cd_fast.enet_coordinate_descent(\n",
            "/usr/local/lib/python3.10/dist-packages/sklearn/linear_model/_coordinate_descent.py:697: ConvergenceWarning: Objective did not converge. You might want to increase the number of iterations, check the scale of the features or consider increasing regularisation. Duality gap: 8.658e+06, tolerance: 4.137e+03 Linear regression models with null weight for the l1 regularization term are more efficiently fitted using one of the solvers implemented in sklearn.linear_model.Ridge/RidgeCV instead.\n",
            "  model = cd_fast.enet_coordinate_descent(\n",
            "/usr/local/lib/python3.10/dist-packages/sklearn/linear_model/_coordinate_descent.py:697: ConvergenceWarning: Objective did not converge. You might want to increase the number of iterations, check the scale of the features or consider increasing regularisation. Duality gap: 5.584e+06, tolerance: 4.281e+03 Linear regression models with null weight for the l1 regularization term are more efficiently fitted using one of the solvers implemented in sklearn.linear_model.Ridge/RidgeCV instead.\n",
            "  model = cd_fast.enet_coordinate_descent(\n",
            "/usr/local/lib/python3.10/dist-packages/sklearn/linear_model/_coordinate_descent.py:697: ConvergenceWarning: Objective did not converge. You might want to increase the number of iterations, check the scale of the features or consider increasing regularisation. Duality gap: 8.276e+06, tolerance: 4.558e+03 Linear regression models with null weight for the l1 regularization term are more efficiently fitted using one of the solvers implemented in sklearn.linear_model.Ridge/RidgeCV instead.\n",
            "  model = cd_fast.enet_coordinate_descent(\n",
            "/usr/local/lib/python3.10/dist-packages/sklearn/linear_model/_coordinate_descent.py:697: ConvergenceWarning: Objective did not converge. You might want to increase the number of iterations, check the scale of the features or consider increasing regularisation. Duality gap: 2.692e+06, tolerance: 4.708e+03\n",
            "  model = cd_fast.enet_coordinate_descent(\n",
            "/usr/local/lib/python3.10/dist-packages/sklearn/linear_model/_coordinate_descent.py:697: ConvergenceWarning: Objective did not converge. You might want to increase the number of iterations, check the scale of the features or consider increasing regularisation. Duality gap: 4.070e+06, tolerance: 3.606e+03\n",
            "  model = cd_fast.enet_coordinate_descent(\n",
            "/usr/local/lib/python3.10/dist-packages/sklearn/linear_model/_coordinate_descent.py:697: ConvergenceWarning: Objective did not converge. You might want to increase the number of iterations, check the scale of the features or consider increasing regularisation. Duality gap: 2.341e+06, tolerance: 4.137e+03\n",
            "  model = cd_fast.enet_coordinate_descent(\n",
            "/usr/local/lib/python3.10/dist-packages/sklearn/linear_model/_coordinate_descent.py:697: ConvergenceWarning: Objective did not converge. You might want to increase the number of iterations, check the scale of the features or consider increasing regularisation. Duality gap: 4.111e+06, tolerance: 4.281e+03\n",
            "  model = cd_fast.enet_coordinate_descent(\n",
            "/usr/local/lib/python3.10/dist-packages/sklearn/linear_model/_coordinate_descent.py:697: ConvergenceWarning: Objective did not converge. You might want to increase the number of iterations, check the scale of the features or consider increasing regularisation. Duality gap: 9.145e+05, tolerance: 4.558e+03\n",
            "  model = cd_fast.enet_coordinate_descent(\n",
            "/usr/local/lib/python3.10/dist-packages/sklearn/linear_model/_coordinate_descent.py:697: ConvergenceWarning: Objective did not converge. You might want to increase the number of iterations, check the scale of the features or consider increasing regularisation. Duality gap: 4.590e+06, tolerance: 4.708e+03\n",
            "  model = cd_fast.enet_coordinate_descent(\n",
            "/usr/local/lib/python3.10/dist-packages/sklearn/linear_model/_coordinate_descent.py:697: ConvergenceWarning: Objective did not converge. You might want to increase the number of iterations, check the scale of the features or consider increasing regularisation. Duality gap: 5.342e+06, tolerance: 3.606e+03\n",
            "  model = cd_fast.enet_coordinate_descent(\n",
            "/usr/local/lib/python3.10/dist-packages/sklearn/linear_model/_coordinate_descent.py:697: ConvergenceWarning: Objective did not converge. You might want to increase the number of iterations, check the scale of the features or consider increasing regularisation. Duality gap: 5.235e+06, tolerance: 4.137e+03\n",
            "  model = cd_fast.enet_coordinate_descent(\n",
            "/usr/local/lib/python3.10/dist-packages/sklearn/linear_model/_coordinate_descent.py:697: ConvergenceWarning: Objective did not converge. You might want to increase the number of iterations, check the scale of the features or consider increasing regularisation. Duality gap: 4.473e+06, tolerance: 4.281e+03\n",
            "  model = cd_fast.enet_coordinate_descent(\n",
            "/usr/local/lib/python3.10/dist-packages/sklearn/linear_model/_coordinate_descent.py:697: ConvergenceWarning: Objective did not converge. You might want to increase the number of iterations, check the scale of the features or consider increasing regularisation. Duality gap: 2.435e+06, tolerance: 4.558e+03\n",
            "  model = cd_fast.enet_coordinate_descent(\n",
            "/usr/local/lib/python3.10/dist-packages/sklearn/linear_model/_coordinate_descent.py:697: ConvergenceWarning: Objective did not converge. You might want to increase the number of iterations, check the scale of the features or consider increasing regularisation. Duality gap: 6.012e+06, tolerance: 4.708e+03\n",
            "  model = cd_fast.enet_coordinate_descent(\n",
            "/usr/local/lib/python3.10/dist-packages/sklearn/linear_model/_coordinate_descent.py:697: ConvergenceWarning: Objective did not converge. You might want to increase the number of iterations, check the scale of the features or consider increasing regularisation. Duality gap: 6.166e+06, tolerance: 3.606e+03\n",
            "  model = cd_fast.enet_coordinate_descent(\n",
            "/usr/local/lib/python3.10/dist-packages/sklearn/linear_model/_coordinate_descent.py:697: ConvergenceWarning: Objective did not converge. You might want to increase the number of iterations, check the scale of the features or consider increasing regularisation. Duality gap: 6.469e+06, tolerance: 4.137e+03\n",
            "  model = cd_fast.enet_coordinate_descent(\n",
            "/usr/local/lib/python3.10/dist-packages/sklearn/linear_model/_coordinate_descent.py:697: ConvergenceWarning: Objective did not converge. You might want to increase the number of iterations, check the scale of the features or consider increasing regularisation. Duality gap: 4.805e+06, tolerance: 4.281e+03\n",
            "  model = cd_fast.enet_coordinate_descent(\n",
            "/usr/local/lib/python3.10/dist-packages/sklearn/linear_model/_coordinate_descent.py:697: ConvergenceWarning: Objective did not converge. You might want to increase the number of iterations, check the scale of the features or consider increasing regularisation. Duality gap: 3.265e+06, tolerance: 4.558e+03\n",
            "  model = cd_fast.enet_coordinate_descent(\n",
            "/usr/local/lib/python3.10/dist-packages/sklearn/linear_model/_coordinate_descent.py:697: ConvergenceWarning: Objective did not converge. You might want to increase the number of iterations, check the scale of the features or consider increasing regularisation. Duality gap: 2.281e+06, tolerance: 4.708e+03\n",
            "  model = cd_fast.enet_coordinate_descent(\n",
            "/usr/local/lib/python3.10/dist-packages/sklearn/linear_model/_coordinate_descent.py:697: ConvergenceWarning: Objective did not converge. You might want to increase the number of iterations, check the scale of the features or consider increasing regularisation. Duality gap: 3.905e+06, tolerance: 3.606e+03\n",
            "  model = cd_fast.enet_coordinate_descent(\n",
            "/usr/local/lib/python3.10/dist-packages/sklearn/linear_model/_coordinate_descent.py:697: ConvergenceWarning: Objective did not converge. You might want to increase the number of iterations, check the scale of the features or consider increasing regularisation. Duality gap: 2.306e+06, tolerance: 4.137e+03\n",
            "  model = cd_fast.enet_coordinate_descent(\n",
            "/usr/local/lib/python3.10/dist-packages/sklearn/linear_model/_coordinate_descent.py:697: ConvergenceWarning: Objective did not converge. You might want to increase the number of iterations, check the scale of the features or consider increasing regularisation. Duality gap: 1.464e+06, tolerance: 4.281e+03\n",
            "  model = cd_fast.enet_coordinate_descent(\n",
            "/usr/local/lib/python3.10/dist-packages/sklearn/linear_model/_coordinate_descent.py:697: ConvergenceWarning: Objective did not converge. You might want to increase the number of iterations, check the scale of the features or consider increasing regularisation. Duality gap: 2.619e+06, tolerance: 4.558e+03\n",
            "  model = cd_fast.enet_coordinate_descent(\n",
            "/usr/local/lib/python3.10/dist-packages/sklearn/linear_model/_coordinate_descent.py:697: ConvergenceWarning: Objective did not converge. You might want to increase the number of iterations, check the scale of the features or consider increasing regularisation. Duality gap: 9.437e+06, tolerance: 4.708e+03 Linear regression models with null weight for the l1 regularization term are more efficiently fitted using one of the solvers implemented in sklearn.linear_model.Ridge/RidgeCV instead.\n",
            "  model = cd_fast.enet_coordinate_descent(\n",
            "/usr/local/lib/python3.10/dist-packages/sklearn/linear_model/_coordinate_descent.py:697: ConvergenceWarning: Objective did not converge. You might want to increase the number of iterations, check the scale of the features or consider increasing regularisation. Duality gap: 8.401e+06, tolerance: 3.606e+03 Linear regression models with null weight for the l1 regularization term are more efficiently fitted using one of the solvers implemented in sklearn.linear_model.Ridge/RidgeCV instead.\n",
            "  model = cd_fast.enet_coordinate_descent(\n",
            "/usr/local/lib/python3.10/dist-packages/sklearn/linear_model/_coordinate_descent.py:697: ConvergenceWarning: Objective did not converge. You might want to increase the number of iterations, check the scale of the features or consider increasing regularisation. Duality gap: 9.540e+06, tolerance: 4.137e+03 Linear regression models with null weight for the l1 regularization term are more efficiently fitted using one of the solvers implemented in sklearn.linear_model.Ridge/RidgeCV instead.\n",
            "  model = cd_fast.enet_coordinate_descent(\n",
            "/usr/local/lib/python3.10/dist-packages/sklearn/linear_model/_coordinate_descent.py:697: ConvergenceWarning: Objective did not converge. You might want to increase the number of iterations, check the scale of the features or consider increasing regularisation. Duality gap: 6.842e+06, tolerance: 4.281e+03 Linear regression models with null weight for the l1 regularization term are more efficiently fitted using one of the solvers implemented in sklearn.linear_model.Ridge/RidgeCV instead.\n",
            "  model = cd_fast.enet_coordinate_descent(\n",
            "/usr/local/lib/python3.10/dist-packages/sklearn/linear_model/_coordinate_descent.py:697: ConvergenceWarning: Objective did not converge. You might want to increase the number of iterations, check the scale of the features or consider increasing regularisation. Duality gap: 9.419e+06, tolerance: 4.558e+03 Linear regression models with null weight for the l1 regularization term are more efficiently fitted using one of the solvers implemented in sklearn.linear_model.Ridge/RidgeCV instead.\n",
            "  model = cd_fast.enet_coordinate_descent(\n",
            "/usr/local/lib/python3.10/dist-packages/sklearn/linear_model/_coordinate_descent.py:697: ConvergenceWarning: Objective did not converge. You might want to increase the number of iterations, check the scale of the features or consider increasing regularisation. Duality gap: 2.747e+06, tolerance: 4.708e+03\n",
            "  model = cd_fast.enet_coordinate_descent(\n",
            "/usr/local/lib/python3.10/dist-packages/sklearn/linear_model/_coordinate_descent.py:697: ConvergenceWarning: Objective did not converge. You might want to increase the number of iterations, check the scale of the features or consider increasing regularisation. Duality gap: 2.823e+06, tolerance: 3.606e+03\n",
            "  model = cd_fast.enet_coordinate_descent(\n",
            "/usr/local/lib/python3.10/dist-packages/sklearn/linear_model/_coordinate_descent.py:697: ConvergenceWarning: Objective did not converge. You might want to increase the number of iterations, check the scale of the features or consider increasing regularisation. Duality gap: 2.734e+06, tolerance: 4.137e+03\n",
            "  model = cd_fast.enet_coordinate_descent(\n",
            "/usr/local/lib/python3.10/dist-packages/sklearn/linear_model/_coordinate_descent.py:697: ConvergenceWarning: Objective did not converge. You might want to increase the number of iterations, check the scale of the features or consider increasing regularisation. Duality gap: 1.560e+06, tolerance: 4.281e+03\n",
            "  model = cd_fast.enet_coordinate_descent(\n",
            "/usr/local/lib/python3.10/dist-packages/sklearn/linear_model/_coordinate_descent.py:697: ConvergenceWarning: Objective did not converge. You might want to increase the number of iterations, check the scale of the features or consider increasing regularisation. Duality gap: 1.978e+06, tolerance: 4.558e+03\n",
            "  model = cd_fast.enet_coordinate_descent(\n",
            "/usr/local/lib/python3.10/dist-packages/sklearn/linear_model/_coordinate_descent.py:697: ConvergenceWarning: Objective did not converge. You might want to increase the number of iterations, check the scale of the features or consider increasing regularisation. Duality gap: 1.272e+07, tolerance: 4.708e+03 Linear regression models with null weight for the l1 regularization term are more efficiently fitted using one of the solvers implemented in sklearn.linear_model.Ridge/RidgeCV instead.\n",
            "  model = cd_fast.enet_coordinate_descent(\n",
            "/usr/local/lib/python3.10/dist-packages/sklearn/linear_model/_coordinate_descent.py:697: ConvergenceWarning: Objective did not converge. You might want to increase the number of iterations, check the scale of the features or consider increasing regularisation. Duality gap: 1.075e+07, tolerance: 3.606e+03 Linear regression models with null weight for the l1 regularization term are more efficiently fitted using one of the solvers implemented in sklearn.linear_model.Ridge/RidgeCV instead.\n",
            "  model = cd_fast.enet_coordinate_descent(\n",
            "/usr/local/lib/python3.10/dist-packages/sklearn/linear_model/_coordinate_descent.py:697: ConvergenceWarning: Objective did not converge. You might want to increase the number of iterations, check the scale of the features or consider increasing regularisation. Duality gap: 1.243e+07, tolerance: 4.137e+03 Linear regression models with null weight for the l1 regularization term are more efficiently fitted using one of the solvers implemented in sklearn.linear_model.Ridge/RidgeCV instead.\n",
            "  model = cd_fast.enet_coordinate_descent(\n",
            "/usr/local/lib/python3.10/dist-packages/sklearn/linear_model/_coordinate_descent.py:697: ConvergenceWarning: Objective did not converge. You might want to increase the number of iterations, check the scale of the features or consider increasing regularisation. Duality gap: 1.059e+07, tolerance: 4.281e+03 Linear regression models with null weight for the l1 regularization term are more efficiently fitted using one of the solvers implemented in sklearn.linear_model.Ridge/RidgeCV instead.\n",
            "  model = cd_fast.enet_coordinate_descent(\n",
            "/usr/local/lib/python3.10/dist-packages/sklearn/linear_model/_coordinate_descent.py:697: ConvergenceWarning: Objective did not converge. You might want to increase the number of iterations, check the scale of the features or consider increasing regularisation. Duality gap: 1.256e+07, tolerance: 4.558e+03 Linear regression models with null weight for the l1 regularization term are more efficiently fitted using one of the solvers implemented in sklearn.linear_model.Ridge/RidgeCV instead.\n",
            "  model = cd_fast.enet_coordinate_descent(\n",
            "/usr/local/lib/python3.10/dist-packages/sklearn/linear_model/_coordinate_descent.py:697: ConvergenceWarning: Objective did not converge. You might want to increase the number of iterations, check the scale of the features or consider increasing regularisation. Duality gap: 1.970e+07, tolerance: 4.708e+03 Linear regression models with null weight for the l1 regularization term are more efficiently fitted using one of the solvers implemented in sklearn.linear_model.Ridge/RidgeCV instead.\n",
            "  model = cd_fast.enet_coordinate_descent(\n",
            "/usr/local/lib/python3.10/dist-packages/sklearn/linear_model/_coordinate_descent.py:697: ConvergenceWarning: Objective did not converge. You might want to increase the number of iterations, check the scale of the features or consider increasing regularisation. Duality gap: 1.538e+07, tolerance: 3.606e+03 Linear regression models with null weight for the l1 regularization term are more efficiently fitted using one of the solvers implemented in sklearn.linear_model.Ridge/RidgeCV instead.\n",
            "  model = cd_fast.enet_coordinate_descent(\n",
            "/usr/local/lib/python3.10/dist-packages/sklearn/linear_model/_coordinate_descent.py:697: ConvergenceWarning: Objective did not converge. You might want to increase the number of iterations, check the scale of the features or consider increasing regularisation. Duality gap: 1.785e+07, tolerance: 4.137e+03 Linear regression models with null weight for the l1 regularization term are more efficiently fitted using one of the solvers implemented in sklearn.linear_model.Ridge/RidgeCV instead.\n",
            "  model = cd_fast.enet_coordinate_descent(\n",
            "/usr/local/lib/python3.10/dist-packages/sklearn/linear_model/_coordinate_descent.py:697: ConvergenceWarning: Objective did not converge. You might want to increase the number of iterations, check the scale of the features or consider increasing regularisation. Duality gap: 1.732e+07, tolerance: 4.281e+03 Linear regression models with null weight for the l1 regularization term are more efficiently fitted using one of the solvers implemented in sklearn.linear_model.Ridge/RidgeCV instead.\n",
            "  model = cd_fast.enet_coordinate_descent(\n",
            "/usr/local/lib/python3.10/dist-packages/sklearn/linear_model/_coordinate_descent.py:697: ConvergenceWarning: Objective did not converge. You might want to increase the number of iterations, check the scale of the features or consider increasing regularisation. Duality gap: 1.908e+07, tolerance: 4.558e+03 Linear regression models with null weight for the l1 regularization term are more efficiently fitted using one of the solvers implemented in sklearn.linear_model.Ridge/RidgeCV instead.\n",
            "  model = cd_fast.enet_coordinate_descent(\n"
          ]
        },
        {
          "name": "stdout",
          "output_type": "stream",
          "text": [
            "Best alpha: 1\n",
            "Best l1_ratio: 0.0\n"
          ]
        },
        {
          "name": "stderr",
          "output_type": "stream",
          "text": [
            "/usr/local/lib/python3.10/dist-packages/sklearn/linear_model/_coordinate_descent.py:697: ConvergenceWarning: Objective did not converge. You might want to increase the number of iterations, check the scale of the features or consider increasing regularisation. Duality gap: 1.494e+07, tolerance: 5.332e+03 Linear regression models with null weight for the l1 regularization term are more efficiently fitted using one of the solvers implemented in sklearn.linear_model.Ridge/RidgeCV instead.\n",
            "  model = cd_fast.enet_coordinate_descent(\n"
          ]
        }
      ],
      "source": [
        "# Define the pipeline with preprocessing, interaction features, and ElasticNet model\n",
        "pipeline_elastic_inter = Pipeline(\n",
        "    [(\"preprocessing\", ct),\n",
        "     (\"interaction\", PolynomialFeatures(interaction_only=True, include_bias=False)),\n",
        "     (\"elastic\", ElasticNet())]\n",
        ")\n",
        "\n",
        "# Define the range of hyperparameters to search over\n",
        "params = {\n",
        "    \"elastic__alpha\": [0.001, 0.01, 0.1, 1, 10],\n",
        "    \"elastic__l1_ratio\": [0.0, 0.25, 0.5, 0.75, 1.0]\n",
        "}\n",
        "\n",
        "# Set up GridSearchCV for hyperparameter tuning\n",
        "gscv = GridSearchCV(pipeline_elastic_inter, params, cv=5, scoring='r2')\n",
        "\n",
        "# Fit the grid search with the interaction features\n",
        "gscv.fit(X_inter, y)\n",
        "\n",
        "# Extract the best parameters and the best score\n",
        "best_alpha = gscv.best_params_['elastic__alpha']\n",
        "best_l1_ratio = gscv.best_params_['elastic__l1_ratio']\n",
        "best_score = gscv.best_score_\n",
        "\n",
        "# Print the results\n",
        "print(f\"Best alpha: {best_alpha}\")\n",
        "print(f\"Best l1_ratio: {best_l1_ratio}\")\n"
      ]
    },
    {
      "cell_type": "code",
      "execution_count": 66,
      "metadata": {
        "colab": {
          "base_uri": "https://localhost:8080/"
        },
        "id": "orrC4V4DtlaZ",
        "outputId": "f1be434a-919f-4136-ba58-0c1e15c69755"
      },
      "outputs": [
        {
          "name": "stdout",
          "output_type": "stream",
          "text": [
            "MSE for Elastic Net Regression Test Set: 126400.92311858198\n",
            "MSE for Elastic Net Regression Cross Validation: 183643.57042385757\n"
          ]
        }
      ],
      "source": [
        "# Fit the ElasticNet model with the specified parameters\n",
        "pipeline_elastic_inter.fit(X_train, y_train)\n",
        "\n",
        "# Set the best hyperparameters for the ElasticNet model\n",
        "pipeline_elastic_inter.set_params(elastic__alpha=0.1, elastic__l1_ratio=0.75)\n",
        "\n",
        "# Evaluate the model performance on the test set using MSE\n",
        "get_mse(pipeline_elastic_inter, X_test, X_inter, y, \"Elastic Net\")\n"
      ]
    },
    {
      "cell_type": "markdown",
      "metadata": {
        "id": "kkixhdxztrgG"
      },
      "source": [
        "# Part III. Discussion\n",
        "## A. Ridge Regression\n",
        "Ridge regression keeps the coefficients smaller because it penalizes large ones, which helps avoid overfitting. This makes sense since it tries to keep the model simpler by reducing the influence of individual features.\n",
        "\n",
        "## B. Lasso Regression\n",
        "Lasso also shrinks coefficients but can set some to zero, effectively removing unimportant features. The interaction model changed the results because different sets of features need different regularization strengths, which affected the predictions and MSE.\n",
        "\n",
        "## C. Elastic Net\n",
        "Elastic Net combines both Ridge and Lasso, trying to get the best of both worlds. It balances feature selection and keeping things simple, which can be useful when neither Ridge nor Lasso works perfectly on its own.\n",
        "\n",
        "# Part 4"
      ]
    },
    {
      "cell_type": "code",
      "execution_count": 68,
      "metadata": {
        "colab": {
          "base_uri": "https://localhost:8080/",
          "height": 497
        },
        "id": "huxCSRBxxt2m",
        "outputId": "3484a62d-d4e2-46f5-8bd4-137e2bac101b"
      },
      "outputs": [
        {
          "data": {
            "image/png": "[encoded data removed]"
          },
          "metadata": {
            "image/png": {
              "height": 480,
              "width": 640
            }
          },
          "output_type": "display_data"
        }
      ],
      "source": [
        "from plotnine import ggplot, aes, geom_point, geom_abline, labs, theme_minimal\n",
        "import pandas as pd\n",
        "\n",
        "# Selecting the five most important numerical features\n",
        "X_final = X[['PutOuts', 'Hits', 'CRBI', 'CHits', 'CRuns']]\n",
        "\n",
        "# Fit final Linear Regression pipeline on the full dataset\n",
        "pipeline_lr.fit(X_final, y)\n",
        "y_pred = pipeline_lr.predict(X_final)\n",
        "\n",
        "# Convert actual and predicted values to a DataFrame for ggplot-like plotting\n",
        "results_df = pd.DataFrame({'Actual': y, 'Predicted': y_pred})\n",
        "\n",
        "# Plotting with plotnine (ggplot style in Python)\n",
        "plot = (\n",
        "    ggplot(results_df, aes(x='Actual', y='Predicted')) +\n",
        "    geom_point(alpha=0.5) +\n",
        "    geom_abline(slope=1, intercept=0, color='red') +  # 45-degree reference line\n",
        "    labs(title='Actual vs Predicted Values for Final Model', x='Actual', y='Predicted') +\n",
        "    theme_minimal()\n",
        ")\n",
        "\n",
        "plot"
      ]
    }
  ],
  "metadata": {
    "colab": {
      "provenance": []
    },
    "kernelspec": {
      "display_name": "Python 3",
      "name": "python3"
    },
    "language_info": {
      "name": "python"
    }
  },
  "nbformat": 4,
  "nbformat_minor": 0
}
